{
  "cells": [
    {
      "cell_type": "markdown",
      "metadata": {
        "id": "3bsNcDX04II_"
      },
      "source": [
        "### Reading files & importing libraries"
      ]
    },
    {
      "cell_type": "code",
      "execution_count": 3,
      "metadata": {
        "id": "zGEdWe-s4II7"
      },
      "outputs": [],
      "source": [
        "# Install and import the library\n",
        "import pandas as pd\n",
        "import matplotlib.pyplot as plt\n",
        "import seaborn as sns\n",
        "import statsmodels.api as sm\n",
        "import numpy as np\n",
        "\n",
        "\n",
        "plt.style.use('ggplot')"
      ]
    },
    {
      "cell_type": "code",
      "execution_count": 4,
      "metadata": {
        "colab": {
          "base_uri": "https://localhost:8080/"
        },
        "id": "Zu7_9oyI4IJA",
        "outputId": "65cad73e-14d8-4cb3-b20e-f1d670df54d0"
      },
      "outputs": [
        {
          "name": "stdout",
          "output_type": "stream",
          "text": [
            "Requirement already satisfied: chardet in /Users/jillianwu/miniconda3/lib/python3.12/site-packages (5.2.0)\n",
            "Note: you may need to restart the kernel to use updated packages.\n"
          ]
        }
      ],
      "source": [
        "pip install chardet\n"
      ]
    },
    {
      "cell_type": "code",
      "execution_count": 5,
      "metadata": {
        "colab": {
          "base_uri": "https://localhost:8080/",
          "height": 193
        },
        "id": "3sLxbgkl4IJB",
        "outputId": "4bd859b2-0336-41c5-c877-e6cb0f92b16f"
      },
      "outputs": [
        {
          "name": "stdout",
          "output_type": "stream",
          "text": [
            "{'encoding': 'UTF-8-SIG', 'confidence': 1.0, 'language': ''}\n"
          ]
        }
      ],
      "source": [
        "import chardet\n",
        "filename = \"/Users/jillianwu/Team Obesity/data/raw/Public_Assistance_SNAP.csv\"\n",
        "\n",
        "# Detect the encoding of the CSV file\n",
        "with open(filename, 'rb') as file:\n",
        "    print(chardet.detect(file.read()))\n"
      ]
    },
    {
      "cell_type": "code",
      "execution_count": 6,
      "metadata": {
        "colab": {
          "base_uri": "https://localhost:8080/",
          "height": 325
        },
        "id": "pNLCWuwg4IJB",
        "outputId": "b1f4f622-19fb-4786-f8ef-e65110e11b5a"
      },
      "outputs": [
        {
          "data": {
            "text/html": [
              "<div>\n",
              "<style scoped>\n",
              "    .dataframe tbody tr th:only-of-type {\n",
              "        vertical-align: middle;\n",
              "    }\n",
              "\n",
              "    .dataframe tbody tr th {\n",
              "        vertical-align: top;\n",
              "    }\n",
              "\n",
              "    .dataframe thead th {\n",
              "        text-align: right;\n",
              "    }\n",
              "</style>\n",
              "<table border=\"1\" class=\"dataframe\">\n",
              "  <thead>\n",
              "    <tr style=\"text-align: right;\">\n",
              "      <th></th>\n",
              "      <th>OBJECTID</th>\n",
              "      <th>GEOID10</th>\n",
              "      <th>NAME10</th>\n",
              "      <th>PLNG_REGIO</th>\n",
              "      <th>Pop_Ch_per_sqm_2000_2010</th>\n",
              "      <th>SDName</th>\n",
              "      <th>Percent_BA_or_Higher</th>\n",
              "      <th>Median_household_income</th>\n",
              "      <th>Square_Miles</th>\n",
              "      <th>HH_Rec_FS_June_2007</th>\n",
              "      <th>...</th>\n",
              "      <th>Ch_Ind_Rec_FS_2007_2014</th>\n",
              "      <th>Ch_Ind_Rec_FS_2007_2010</th>\n",
              "      <th>Ch_Ind_Rec_FS_2010_2014</th>\n",
              "      <th>Ch_Ind_Rec_FS_2013_2014</th>\n",
              "      <th>Ch_Ind_Rec_FS_persqm_2007_2014</th>\n",
              "      <th>Ch_Ind_Rec_FS_persqm_2007_2010</th>\n",
              "      <th>Ch_Ind_Rec_FS_persqm_2010_2014</th>\n",
              "      <th>Ch_Ind_Rec_FS_persqm_2013_2014</th>\n",
              "      <th>GlobalID</th>\n",
              "      <th>last_edited_date</th>\n",
              "    </tr>\n",
              "  </thead>\n",
              "  <tbody>\n",
              "    <tr>\n",
              "      <th>0</th>\n",
              "      <td>1</td>\n",
              "      <td>13045910103</td>\n",
              "      <td>9101.03</td>\n",
              "      <td>ARC 20</td>\n",
              "      <td>100.3</td>\n",
              "      <td>NE Carroll</td>\n",
              "      <td>20.7</td>\n",
              "      <td>57188.0</td>\n",
              "      <td>21.8</td>\n",
              "      <td>95.0</td>\n",
              "      <td>...</td>\n",
              "      <td>208.0</td>\n",
              "      <td>161.0</td>\n",
              "      <td>47.0</td>\n",
              "      <td>-73.0</td>\n",
              "      <td>9.5</td>\n",
              "      <td>7.4</td>\n",
              "      <td>2.2</td>\n",
              "      <td>-3.4</td>\n",
              "      <td>{CB1746D0-630F-4ECE-A5B2-D528FB615782}</td>\n",
              "      <td>NaN</td>\n",
              "    </tr>\n",
              "    <tr>\n",
              "      <th>1</th>\n",
              "      <td>2</td>\n",
              "      <td>13045910104</td>\n",
              "      <td>9101.04</td>\n",
              "      <td>ARC 20</td>\n",
              "      <td>201.1</td>\n",
              "      <td>NE Carroll</td>\n",
              "      <td>13.2</td>\n",
              "      <td>54987.0</td>\n",
              "      <td>17.4</td>\n",
              "      <td>304.0</td>\n",
              "      <td>...</td>\n",
              "      <td>775.0</td>\n",
              "      <td>581.0</td>\n",
              "      <td>194.0</td>\n",
              "      <td>-173.0</td>\n",
              "      <td>44.5</td>\n",
              "      <td>33.4</td>\n",
              "      <td>11.2</td>\n",
              "      <td>-9.9</td>\n",
              "      <td>{97785D09-8966-483C-96D5-CC193EA35362}</td>\n",
              "      <td>NaN</td>\n",
              "    </tr>\n",
              "    <tr>\n",
              "      <th>2</th>\n",
              "      <td>3</td>\n",
              "      <td>13045910502</td>\n",
              "      <td>9105.02</td>\n",
              "      <td>ARC 20</td>\n",
              "      <td>-368.8</td>\n",
              "      <td>Central Carroll</td>\n",
              "      <td>7.9</td>\n",
              "      <td>18975.0</td>\n",
              "      <td>1.7</td>\n",
              "      <td>347.0</td>\n",
              "      <td>...</td>\n",
              "      <td>219.0</td>\n",
              "      <td>204.0</td>\n",
              "      <td>15.0</td>\n",
              "      <td>-161.0</td>\n",
              "      <td>128.8</td>\n",
              "      <td>120.0</td>\n",
              "      <td>8.8</td>\n",
              "      <td>-94.7</td>\n",
              "      <td>{5B1ECDD2-E96C-473E-8BB4-F2F9B4250994}</td>\n",
              "      <td>NaN</td>\n",
              "    </tr>\n",
              "    <tr>\n",
              "      <th>3</th>\n",
              "      <td>4</td>\n",
              "      <td>13045910800</td>\n",
              "      <td>9108.00</td>\n",
              "      <td>ARC 20</td>\n",
              "      <td>1.1</td>\n",
              "      <td>SE Carroll</td>\n",
              "      <td>8.9</td>\n",
              "      <td>50194.0</td>\n",
              "      <td>66.5</td>\n",
              "      <td>100.0</td>\n",
              "      <td>...</td>\n",
              "      <td>67.0</td>\n",
              "      <td>192.0</td>\n",
              "      <td>-125.0</td>\n",
              "      <td>-125.0</td>\n",
              "      <td>1.0</td>\n",
              "      <td>2.9</td>\n",
              "      <td>-1.9</td>\n",
              "      <td>-1.9</td>\n",
              "      <td>{3BEBD4DA-32F1-4580-BD59-D4DEE0E55484}</td>\n",
              "      <td>NaN</td>\n",
              "    </tr>\n",
              "    <tr>\n",
              "      <th>4</th>\n",
              "      <td>5</td>\n",
              "      <td>13045910101</td>\n",
              "      <td>9101.01</td>\n",
              "      <td>ARC 20</td>\n",
              "      <td>397.3</td>\n",
              "      <td>NE Carroll</td>\n",
              "      <td>16.4</td>\n",
              "      <td>46840.0</td>\n",
              "      <td>6.4</td>\n",
              "      <td>300.0</td>\n",
              "      <td>...</td>\n",
              "      <td>674.0</td>\n",
              "      <td>410.0</td>\n",
              "      <td>264.0</td>\n",
              "      <td>-105.0</td>\n",
              "      <td>105.3</td>\n",
              "      <td>64.1</td>\n",
              "      <td>41.3</td>\n",
              "      <td>-16.4</td>\n",
              "      <td>{9C4D527C-F9E6-4299-8621-7DAA98014080}</td>\n",
              "      <td>NaN</td>\n",
              "    </tr>\n",
              "  </tbody>\n",
              "</table>\n",
              "<p>5 rows × 41 columns</p>\n",
              "</div>"
            ],
            "text/plain": [
              "   OBJECTID      GEOID10   NAME10 PLNG_REGIO  Pop_Ch_per_sqm_2000_2010  \\\n",
              "0         1  13045910103  9101.03     ARC 20                     100.3   \n",
              "1         2  13045910104  9101.04     ARC 20                     201.1   \n",
              "2         3  13045910502  9105.02     ARC 20                    -368.8   \n",
              "3         4  13045910800  9108.00     ARC 20                       1.1   \n",
              "4         5  13045910101  9101.01     ARC 20                     397.3   \n",
              "\n",
              "            SDName  Percent_BA_or_Higher  Median_household_income  \\\n",
              "0       NE Carroll                  20.7                  57188.0   \n",
              "1       NE Carroll                  13.2                  54987.0   \n",
              "2  Central Carroll                   7.9                  18975.0   \n",
              "3       SE Carroll                   8.9                  50194.0   \n",
              "4       NE Carroll                  16.4                  46840.0   \n",
              "\n",
              "   Square_Miles  HH_Rec_FS_June_2007  ...  Ch_Ind_Rec_FS_2007_2014  \\\n",
              "0          21.8                 95.0  ...                    208.0   \n",
              "1          17.4                304.0  ...                    775.0   \n",
              "2           1.7                347.0  ...                    219.0   \n",
              "3          66.5                100.0  ...                     67.0   \n",
              "4           6.4                300.0  ...                    674.0   \n",
              "\n",
              "   Ch_Ind_Rec_FS_2007_2010  Ch_Ind_Rec_FS_2010_2014  Ch_Ind_Rec_FS_2013_2014  \\\n",
              "0                    161.0                     47.0                    -73.0   \n",
              "1                    581.0                    194.0                   -173.0   \n",
              "2                    204.0                     15.0                   -161.0   \n",
              "3                    192.0                   -125.0                   -125.0   \n",
              "4                    410.0                    264.0                   -105.0   \n",
              "\n",
              "   Ch_Ind_Rec_FS_persqm_2007_2014  Ch_Ind_Rec_FS_persqm_2007_2010  \\\n",
              "0                             9.5                             7.4   \n",
              "1                            44.5                            33.4   \n",
              "2                           128.8                           120.0   \n",
              "3                             1.0                             2.9   \n",
              "4                           105.3                            64.1   \n",
              "\n",
              "   Ch_Ind_Rec_FS_persqm_2010_2014  Ch_Ind_Rec_FS_persqm_2013_2014  \\\n",
              "0                             2.2                            -3.4   \n",
              "1                            11.2                            -9.9   \n",
              "2                             8.8                           -94.7   \n",
              "3                            -1.9                            -1.9   \n",
              "4                            41.3                           -16.4   \n",
              "\n",
              "                                 GlobalID  last_edited_date  \n",
              "0  {CB1746D0-630F-4ECE-A5B2-D528FB615782}               NaN  \n",
              "1  {97785D09-8966-483C-96D5-CC193EA35362}               NaN  \n",
              "2  {5B1ECDD2-E96C-473E-8BB4-F2F9B4250994}               NaN  \n",
              "3  {3BEBD4DA-32F1-4580-BD59-D4DEE0E55484}               NaN  \n",
              "4  {9C4D527C-F9E6-4299-8621-7DAA98014080}               NaN  \n",
              "\n",
              "[5 rows x 41 columns]"
            ]
          },
          "execution_count": 6,
          "metadata": {},
          "output_type": "execute_result"
        }
      ],
      "source": [
        "df = pd.read_csv(filename, encoding = \"UTF-8-SIG\")\n",
        "df.head()\n"
      ]
    },
    {
      "cell_type": "code",
      "execution_count": 7,
      "metadata": {
        "colab": {
          "base_uri": "https://localhost:8080/"
        },
        "id": "t9KveEZt4IJC",
        "outputId": "083d8b37-777a-4da8-92e9-18bc0c46e821"
      },
      "outputs": [
        {
          "data": {
            "text/plain": [
              "Index(['OBJECTID', 'GEOID10', 'NAME10', 'PLNG_REGIO',\n",
              "       'Pop_Ch_per_sqm_2000_2010', 'SDName', 'Percent_BA_or_Higher',\n",
              "       'Median_household_income', 'Square_Miles', 'HH_Rec_FS_June_2007',\n",
              "       'Ind_Rec_FS_June_2007', 'HH_Rec_FS_persqm_June_2007',\n",
              "       'Ind_Rec_FS_persqm_June_2007', 'HH_Rec_FS_June_2010',\n",
              "       'Ind_Rec_Food_Stamps_June_2010', 'HH_Rec_FS_persqm_June_2010',\n",
              "       'Ind_Rec_FS_persqm_June_2010', 'HH_Rec_FS_June_2011',\n",
              "       'Ind_Rec_FS_June_2011', 'HH_Rec_FS_persqm_June_2011',\n",
              "       'Ind_Rec_FS_persqm_June_2011', 'HH_Rec_FS_June_2012',\n",
              "       'Ind_Rec_FS_June_2012', 'HH_Rec_FS_persqm_June_2012',\n",
              "       'Ind_Rec_FS_persqm_June_2012', 'HH_Rec_FS_June_2013',\n",
              "       'Ind_Rec_FS_June_2013', 'HH_Rec_FS_persqm_June_2013',\n",
              "       'Ind_Rec_FS_persqm_June_2013', 'Ind_Rec_FS_persqm_June_2014',\n",
              "       'Pct_Pop_Rec_FS_June_2010', 'Ch_Ind_Rec_FS_2007_2014',\n",
              "       'Ch_Ind_Rec_FS_2007_2010', 'Ch_Ind_Rec_FS_2010_2014',\n",
              "       'Ch_Ind_Rec_FS_2013_2014', 'Ch_Ind_Rec_FS_persqm_2007_2014',\n",
              "       'Ch_Ind_Rec_FS_persqm_2007_2010', 'Ch_Ind_Rec_FS_persqm_2010_2014',\n",
              "       'Ch_Ind_Rec_FS_persqm_2013_2014', 'GlobalID', 'last_edited_date'],\n",
              "      dtype='object')"
            ]
          },
          "execution_count": 7,
          "metadata": {},
          "output_type": "execute_result"
        }
      ],
      "source": [
        "df.columns #print out the column header"
      ]
    },
    {
      "cell_type": "code",
      "execution_count": 8,
      "metadata": {
        "colab": {
          "base_uri": "https://localhost:8080/"
        },
        "id": "g7kCeuxC4IJC",
        "outputId": "00803b1a-38b6-453d-d1f5-5e7cb9b1970f"
      },
      "outputs": [
        {
          "name": "stdout",
          "output_type": "stream",
          "text": [
            "<class 'pandas.core.frame.DataFrame'>\n",
            "RangeIndex: 948 entries, 0 to 947\n",
            "Data columns (total 41 columns):\n",
            " #   Column                          Non-Null Count  Dtype  \n",
            "---  ------                          --------------  -----  \n",
            " 0   OBJECTID                        948 non-null    int64  \n",
            " 1   GEOID10                         948 non-null    int64  \n",
            " 2   NAME10                          948 non-null    float64\n",
            " 3   PLNG_REGIO                      948 non-null    object \n",
            " 4   Pop_Ch_per_sqm_2000_2010        944 non-null    float64\n",
            " 5   SDName                          948 non-null    object \n",
            " 6   Percent_BA_or_Higher            944 non-null    float64\n",
            " 7   Median_household_income         942 non-null    float64\n",
            " 8   Square_Miles                    945 non-null    float64\n",
            " 9   HH_Rec_FS_June_2007             945 non-null    float64\n",
            " 10  Ind_Rec_FS_June_2007            945 non-null    float64\n",
            " 11  HH_Rec_FS_persqm_June_2007      945 non-null    float64\n",
            " 12  Ind_Rec_FS_persqm_June_2007     945 non-null    float64\n",
            " 13  HH_Rec_FS_June_2010             945 non-null    float64\n",
            " 14  Ind_Rec_Food_Stamps_June_2010   945 non-null    float64\n",
            " 15  HH_Rec_FS_persqm_June_2010      945 non-null    float64\n",
            " 16  Ind_Rec_FS_persqm_June_2010     945 non-null    float64\n",
            " 17  HH_Rec_FS_June_2011             945 non-null    float64\n",
            " 18  Ind_Rec_FS_June_2011            945 non-null    float64\n",
            " 19  HH_Rec_FS_persqm_June_2011      945 non-null    float64\n",
            " 20  Ind_Rec_FS_persqm_June_2011     945 non-null    float64\n",
            " 21  HH_Rec_FS_June_2012             945 non-null    float64\n",
            " 22  Ind_Rec_FS_June_2012            945 non-null    float64\n",
            " 23  HH_Rec_FS_persqm_June_2012      945 non-null    float64\n",
            " 24  Ind_Rec_FS_persqm_June_2012     945 non-null    float64\n",
            " 25  HH_Rec_FS_June_2013             945 non-null    float64\n",
            " 26  Ind_Rec_FS_June_2013            945 non-null    float64\n",
            " 27  HH_Rec_FS_persqm_June_2013      945 non-null    float64\n",
            " 28  Ind_Rec_FS_persqm_June_2013     945 non-null    float64\n",
            " 29  Ind_Rec_FS_persqm_June_2014     945 non-null    float64\n",
            " 30  Pct_Pop_Rec_FS_June_2010        944 non-null    float64\n",
            " 31  Ch_Ind_Rec_FS_2007_2014         945 non-null    float64\n",
            " 32  Ch_Ind_Rec_FS_2007_2010         945 non-null    float64\n",
            " 33  Ch_Ind_Rec_FS_2010_2014         945 non-null    float64\n",
            " 34  Ch_Ind_Rec_FS_2013_2014         945 non-null    float64\n",
            " 35  Ch_Ind_Rec_FS_persqm_2007_2014  944 non-null    float64\n",
            " 36  Ch_Ind_Rec_FS_persqm_2007_2010  944 non-null    float64\n",
            " 37  Ch_Ind_Rec_FS_persqm_2010_2014  944 non-null    float64\n",
            " 38  Ch_Ind_Rec_FS_persqm_2013_2014  944 non-null    float64\n",
            " 39  GlobalID                        948 non-null    object \n",
            " 40  last_edited_date                0 non-null      float64\n",
            "dtypes: float64(36), int64(2), object(3)\n",
            "memory usage: 303.8+ KB\n"
          ]
        }
      ],
      "source": [
        "df.info() #look at the data before any processing"
      ]
    },
    {
      "cell_type": "code",
      "execution_count": 9,
      "metadata": {
        "id": "vQU6i32s4IJE",
        "outputId": "1ce9cb80-ea3f-4931-c700-b7e28c01a966"
      },
      "outputs": [
        {
          "name": "stdout",
          "output_type": "stream",
          "text": [
            "<class 'pandas.core.frame.DataFrame'>\n",
            "RangeIndex: 948 entries, 0 to 947\n",
            "Data columns (total 41 columns):\n",
            " #   Column                          Non-Null Count  Dtype  \n",
            "---  ------                          --------------  -----  \n",
            " 0   OBJECTID                        948 non-null    int64  \n",
            " 1   GEOID10                         948 non-null    int64  \n",
            " 2   NAME10                          948 non-null    float64\n",
            " 3   PLNG_REGIO                      948 non-null    object \n",
            " 4   Pop_Ch_per_sqm_2000_2010        944 non-null    float64\n",
            " 5   SDName                          948 non-null    object \n",
            " 6   Percent_BA_or_Higher            944 non-null    float64\n",
            " 7   Median_household_income         942 non-null    float64\n",
            " 8   Square_Miles                    945 non-null    float64\n",
            " 9   HH_Rec_FS_June_2007             945 non-null    float64\n",
            " 10  Ind_Rec_FS_June_2007            945 non-null    float64\n",
            " 11  HH_Rec_FS_persqm_June_2007      945 non-null    float64\n",
            " 12  Ind_Rec_FS_persqm_June_2007     945 non-null    float64\n",
            " 13  HH_Rec_FS_June_2010             945 non-null    float64\n",
            " 14  Ind_Rec_Food_Stamps_June_2010   945 non-null    float64\n",
            " 15  HH_Rec_FS_persqm_June_2010      945 non-null    float64\n",
            " 16  Ind_Rec_FS_persqm_June_2010     945 non-null    float64\n",
            " 17  HH_Rec_FS_June_2011             945 non-null    float64\n",
            " 18  Ind_Rec_FS_June_2011            945 non-null    float64\n",
            " 19  HH_Rec_FS_persqm_June_2011      945 non-null    float64\n",
            " 20  Ind_Rec_FS_persqm_June_2011     945 non-null    float64\n",
            " 21  HH_Rec_FS_June_2012             945 non-null    float64\n",
            " 22  Ind_Rec_FS_June_2012            945 non-null    float64\n",
            " 23  HH_Rec_FS_persqm_June_2012      945 non-null    float64\n",
            " 24  Ind_Rec_FS_persqm_June_2012     945 non-null    float64\n",
            " 25  HH_Rec_FS_June_2013             945 non-null    float64\n",
            " 26  Ind_Rec_FS_June_2013            945 non-null    float64\n",
            " 27  HH_Rec_FS_persqm_June_2013      945 non-null    float64\n",
            " 28  Ind_Rec_FS_persqm_June_2013     945 non-null    float64\n",
            " 29  Ind_Rec_FS_persqm_June_2014     945 non-null    float64\n",
            " 30  Pct_Pop_Rec_FS_June_2010        944 non-null    float64\n",
            " 31  Ch_Ind_Rec_FS_2007_2014         945 non-null    float64\n",
            " 32  Ch_Ind_Rec_FS_2007_2010         945 non-null    float64\n",
            " 33  Ch_Ind_Rec_FS_2010_2014         945 non-null    float64\n",
            " 34  Ch_Ind_Rec_FS_2013_2014         945 non-null    float64\n",
            " 35  Ch_Ind_Rec_FS_persqm_2007_2014  944 non-null    float64\n",
            " 36  Ch_Ind_Rec_FS_persqm_2007_2010  944 non-null    float64\n",
            " 37  Ch_Ind_Rec_FS_persqm_2010_2014  944 non-null    float64\n",
            " 38  Ch_Ind_Rec_FS_persqm_2013_2014  944 non-null    float64\n",
            " 39  GlobalID                        948 non-null    object \n",
            " 40  last_edited_date                0 non-null      float64\n",
            "dtypes: float64(36), int64(2), object(3)\n",
            "memory usage: 303.8+ KB\n",
            "<class 'pandas.core.frame.DataFrame'>\n",
            "Index: 0 entries\n",
            "Data columns (total 41 columns):\n",
            " #   Column                          Non-Null Count  Dtype  \n",
            "---  ------                          --------------  -----  \n",
            " 0   OBJECTID                        0 non-null      int64  \n",
            " 1   GEOID10                         0 non-null      int64  \n",
            " 2   NAME10                          0 non-null      float64\n",
            " 3   PLNG_REGIO                      0 non-null      object \n",
            " 4   Pop_Ch_per_sqm_2000_2010        0 non-null      float64\n",
            " 5   SDName                          0 non-null      object \n",
            " 6   Percent_BA_or_Higher            0 non-null      float64\n",
            " 7   Median_household_income         0 non-null      float64\n",
            " 8   Square_Miles                    0 non-null      float64\n",
            " 9   HH_Rec_FS_June_2007             0 non-null      float64\n",
            " 10  Ind_Rec_FS_June_2007            0 non-null      float64\n",
            " 11  HH_Rec_FS_persqm_June_2007      0 non-null      float64\n",
            " 12  Ind_Rec_FS_persqm_June_2007     0 non-null      float64\n",
            " 13  HH_Rec_FS_June_2010             0 non-null      float64\n",
            " 14  Ind_Rec_Food_Stamps_June_2010   0 non-null      float64\n",
            " 15  HH_Rec_FS_persqm_June_2010      0 non-null      float64\n",
            " 16  Ind_Rec_FS_persqm_June_2010     0 non-null      float64\n",
            " 17  HH_Rec_FS_June_2011             0 non-null      float64\n",
            " 18  Ind_Rec_FS_June_2011            0 non-null      float64\n",
            " 19  HH_Rec_FS_persqm_June_2011      0 non-null      float64\n",
            " 20  Ind_Rec_FS_persqm_June_2011     0 non-null      float64\n",
            " 21  HH_Rec_FS_June_2012             0 non-null      float64\n",
            " 22  Ind_Rec_FS_June_2012            0 non-null      float64\n",
            " 23  HH_Rec_FS_persqm_June_2012      0 non-null      float64\n",
            " 24  Ind_Rec_FS_persqm_June_2012     0 non-null      float64\n",
            " 25  HH_Rec_FS_June_2013             0 non-null      float64\n",
            " 26  Ind_Rec_FS_June_2013            0 non-null      float64\n",
            " 27  HH_Rec_FS_persqm_June_2013      0 non-null      float64\n",
            " 28  Ind_Rec_FS_persqm_June_2013     0 non-null      float64\n",
            " 29  Ind_Rec_FS_persqm_June_2014     0 non-null      float64\n",
            " 30  Pct_Pop_Rec_FS_June_2010        0 non-null      float64\n",
            " 31  Ch_Ind_Rec_FS_2007_2014         0 non-null      float64\n",
            " 32  Ch_Ind_Rec_FS_2007_2010         0 non-null      float64\n",
            " 33  Ch_Ind_Rec_FS_2010_2014         0 non-null      float64\n",
            " 34  Ch_Ind_Rec_FS_2013_2014         0 non-null      float64\n",
            " 35  Ch_Ind_Rec_FS_persqm_2007_2014  0 non-null      float64\n",
            " 36  Ch_Ind_Rec_FS_persqm_2007_2010  0 non-null      float64\n",
            " 37  Ch_Ind_Rec_FS_persqm_2010_2014  0 non-null      float64\n",
            " 38  Ch_Ind_Rec_FS_persqm_2013_2014  0 non-null      float64\n",
            " 39  GlobalID                        0 non-null      object \n",
            " 40  last_edited_date                0 non-null      float64\n",
            "dtypes: float64(36), int64(2), object(3)\n",
            "memory usage: 0.0+ bytes\n"
          ]
        }
      ],
      "source": [
        "#understand the dataset's structure\n",
        "df.info()\n",
        "df.head()\n",
        "df = df.dropna()\n",
        "df.info()"
      ]
    },
    {
      "cell_type": "code",
      "execution_count": 10,
      "metadata": {},
      "outputs": [
        {
          "name": "stdout",
          "output_type": "stream",
          "text": [
            "CSV file loaded successfully\n",
            "Column names: ['OBJECTID', 'GEOID10', 'NAME10', 'PLNG_REGIO', 'Pop_Ch_per_sqm_2000_2010', 'SDName', 'Percent_BA_or_Higher', 'Median_household_income', 'Square_Miles', 'HH_Rec_FS_June_2007', 'Ind_Rec_FS_June_2007', 'HH_Rec_FS_persqm_June_2007', 'Ind_Rec_FS_persqm_June_2007', 'HH_Rec_FS_June_2010', 'Ind_Rec_Food_Stamps_June_2010', 'HH_Rec_FS_persqm_June_2010', 'Ind_Rec_FS_persqm_June_2010', 'HH_Rec_FS_June_2011', 'Ind_Rec_FS_June_2011', 'HH_Rec_FS_persqm_June_2011', 'Ind_Rec_FS_persqm_June_2011', 'HH_Rec_FS_June_2012', 'Ind_Rec_FS_June_2012', 'HH_Rec_FS_persqm_June_2012', 'Ind_Rec_FS_persqm_June_2012', 'HH_Rec_FS_June_2013', 'Ind_Rec_FS_June_2013', 'HH_Rec_FS_persqm_June_2013', 'Ind_Rec_FS_persqm_June_2013', 'Ind_Rec_FS_persqm_June_2014', 'Pct_Pop_Rec_FS_June_2010', 'Ch_Ind_Rec_FS_2007_2014', 'Ch_Ind_Rec_FS_2007_2010', 'Ch_Ind_Rec_FS_2010_2014', 'Ch_Ind_Rec_FS_2013_2014', 'Ch_Ind_Rec_FS_persqm_2007_2014', 'Ch_Ind_Rec_FS_persqm_2007_2010', 'Ch_Ind_Rec_FS_persqm_2010_2014', 'Ch_Ind_Rec_FS_persqm_2013_2014', 'GlobalID', 'last_edited_date']\n",
            "   OBJECTID      GEOID10   NAME10 PLNG_REGIO  Pop_Ch_per_sqm_2000_2010  \\\n",
            "0         1  13045910103  9101.03     ARC 20                     100.3   \n",
            "1         2  13045910104  9101.04     ARC 20                     201.1   \n",
            "2         3  13045910502  9105.02     ARC 20                    -368.8   \n",
            "3         4  13045910800  9108.00     ARC 20                       1.1   \n",
            "4         5  13045910101  9101.01     ARC 20                     397.3   \n",
            "\n",
            "            SDName  Percent_BA_or_Higher  Median_household_income  \\\n",
            "0       NE Carroll                  20.7                  57188.0   \n",
            "1       NE Carroll                  13.2                  54987.0   \n",
            "2  Central Carroll                   7.9                  18975.0   \n",
            "3       SE Carroll                   8.9                  50194.0   \n",
            "4       NE Carroll                  16.4                  46840.0   \n",
            "\n",
            "   Square_Miles  HH_Rec_FS_June_2007  ...  Ch_Ind_Rec_FS_2007_2014  \\\n",
            "0          21.8                 95.0  ...                    208.0   \n",
            "1          17.4                304.0  ...                    775.0   \n",
            "2           1.7                347.0  ...                    219.0   \n",
            "3          66.5                100.0  ...                     67.0   \n",
            "4           6.4                300.0  ...                    674.0   \n",
            "\n",
            "   Ch_Ind_Rec_FS_2007_2010  Ch_Ind_Rec_FS_2010_2014  Ch_Ind_Rec_FS_2013_2014  \\\n",
            "0                    161.0                     47.0                    -73.0   \n",
            "1                    581.0                    194.0                   -173.0   \n",
            "2                    204.0                     15.0                   -161.0   \n",
            "3                    192.0                   -125.0                   -125.0   \n",
            "4                    410.0                    264.0                   -105.0   \n",
            "\n",
            "   Ch_Ind_Rec_FS_persqm_2007_2014  Ch_Ind_Rec_FS_persqm_2007_2010  \\\n",
            "0                             9.5                             7.4   \n",
            "1                            44.5                            33.4   \n",
            "2                           128.8                           120.0   \n",
            "3                             1.0                             2.9   \n",
            "4                           105.3                            64.1   \n",
            "\n",
            "   Ch_Ind_Rec_FS_persqm_2010_2014  Ch_Ind_Rec_FS_persqm_2013_2014  \\\n",
            "0                             2.2                            -3.4   \n",
            "1                            11.2                            -9.9   \n",
            "2                             8.8                           -94.7   \n",
            "3                            -1.9                            -1.9   \n",
            "4                            41.3                           -16.4   \n",
            "\n",
            "                                 GlobalID  last_edited_date  \n",
            "0  {CB1746D0-630F-4ECE-A5B2-D528FB615782}               NaN  \n",
            "1  {97785D09-8966-483C-96D5-CC193EA35362}               NaN  \n",
            "2  {5B1ECDD2-E96C-473E-8BB4-F2F9B4250994}               NaN  \n",
            "3  {3BEBD4DA-32F1-4580-BD59-D4DEE0E55484}               NaN  \n",
            "4  {9C4D527C-F9E6-4299-8621-7DAA98014080}               NaN  \n",
            "\n",
            "[5 rows x 41 columns]\n",
            "Unique values in 'PLNG_REGIO': ['ARC 20' 'ARC 10']\n",
            "Number of unique values: 2\n"
          ]
        }
      ],
      "source": [
        "import pandas as pd\n",
        "\n",
        "# Read the CSV file\n",
        "try:\n",
        "    df = pd.read_csv(filename)\n",
        "    print(\"CSV file loaded successfully\")\n",
        "except Exception as e:\n",
        "    print(f\"Error loading CSV file: {e}\")\n",
        "\n",
        "# Print column names to verify\n",
        "print(\"Column names:\", df.columns.tolist())\n",
        "\n",
        "# Print a few rows of the DataFrame\n",
        "print(df.head())\n",
        "\n",
        "# Check unique values in the 'PLNG_REGIO' column, stripping whitespace if necessary\n",
        "df.columns = df.columns.str.strip()  # Strip whitespace from column names\n",
        "\n",
        "unique_values = df[\"PLNG_REGIO\"].unique()\n",
        "print(f\"Unique values in 'PLNG_REGIO': {unique_values}\")\n",
        "print(f\"Number of unique values: {len(unique_values)}\")\n"
      ]
    },
    {
      "cell_type": "markdown",
      "metadata": {
        "id": "0m77cbqD4IJF"
      },
      "source": [
        "## STEP 1:Preliminary data analysis "
      ]
    },
    {
      "cell_type": "markdown",
      "metadata": {},
      "source": [
        " 11  HH_Rec_FS_persqm_June_2007      945 non-null    float64\n",
        " 13  HH_Rec_FS_June_2010             945 non-null    float64\n",
        " 15  HH_Rec_FS_persqm_June_2010      945 non-null    float64\n",
        " 17  HH_Rec_FS_June_2011             945 non-null    float64\n",
        " 19  HH_Rec_FS_persqm_June_2011      945 non-null    float64\n",
        "\n",
        "DATA TYPE CONVERSION\n",
        " # df[\"streams\"] = df[\"streams\"].astype(\"int64\")"
      ]
    },
    {
      "cell_type": "code",
      "execution_count": 11,
      "metadata": {},
      "outputs": [
        {
          "ename": "KeyError",
          "evalue": "'baths'",
          "output_type": "error",
          "traceback": [
            "\u001b[0;31m---------------------------------------------------------------------------\u001b[0m",
            "\u001b[0;31mKeyError\u001b[0m                                  Traceback (most recent call last)",
            "File \u001b[0;32m~/miniconda3/lib/python3.12/site-packages/pandas/core/indexes/base.py:3805\u001b[0m, in \u001b[0;36mIndex.get_loc\u001b[0;34m(self, key)\u001b[0m\n\u001b[1;32m   3804\u001b[0m \u001b[39mtry\u001b[39;00m:\n\u001b[0;32m-> 3805\u001b[0m     \u001b[39mreturn\u001b[39;00m \u001b[39mself\u001b[39;49m\u001b[39m.\u001b[39;49m_engine\u001b[39m.\u001b[39;49mget_loc(casted_key)\n\u001b[1;32m   3806\u001b[0m \u001b[39mexcept\u001b[39;00m \u001b[39mKeyError\u001b[39;00m \u001b[39mas\u001b[39;00m err:\n",
            "File \u001b[0;32mindex.pyx:167\u001b[0m, in \u001b[0;36mpandas._libs.index.IndexEngine.get_loc\u001b[0;34m()\u001b[0m\n",
            "File \u001b[0;32mindex.pyx:196\u001b[0m, in \u001b[0;36mpandas._libs.index.IndexEngine.get_loc\u001b[0;34m()\u001b[0m\n",
            "File \u001b[0;32mpandas/_libs/hashtable_class_helper.pxi:7081\u001b[0m, in \u001b[0;36mpandas._libs.hashtable.PyObjectHashTable.get_item\u001b[0;34m()\u001b[0m\n",
            "File \u001b[0;32mpandas/_libs/hashtable_class_helper.pxi:7089\u001b[0m, in \u001b[0;36mpandas._libs.hashtable.PyObjectHashTable.get_item\u001b[0;34m()\u001b[0m\n",
            "\u001b[0;31mKeyError\u001b[0m: 'baths'",
            "\nThe above exception was the direct cause of the following exception:\n",
            "\u001b[0;31mKeyError\u001b[0m                                  Traceback (most recent call last)",
            "\u001b[1;32m/Users/jillianwu/Team Obesity/notebooks/SNAP_data_EDA.ipynb Cell 12\u001b[0m line \u001b[0;36m1\n\u001b[1;32m      <a href='vscode-notebook-cell:/Users/jillianwu/Team%20Obesity/notebooks/SNAP_data_EDA.ipynb#X14sZmlsZQ%3D%3D?line=4'>5</a>\u001b[0m quant_vars\u001b[39m.\u001b[39mtolist()\n\u001b[1;32m      <a href='vscode-notebook-cell:/Users/jillianwu/Team%20Obesity/notebooks/SNAP_data_EDA.ipynb#X14sZmlsZQ%3D%3D?line=6'>7</a>\u001b[0m \u001b[39m#identify length \u001b[39;00m\n\u001b[1;32m      <a href='vscode-notebook-cell:/Users/jillianwu/Team%20Obesity/notebooks/SNAP_data_EDA.ipynb#X14sZmlsZQ%3D%3D?line=7'>8</a>\u001b[0m \u001b[39m#len(df[\"streams\"].unique())\u001b[39;00m\n\u001b[1;32m      <a href='vscode-notebook-cell:/Users/jillianwu/Team%20Obesity/notebooks/SNAP_data_EDA.ipynb#X14sZmlsZQ%3D%3D?line=8'>9</a>\u001b[0m \n\u001b[1;32m     <a href='vscode-notebook-cell:/Users/jillianwu/Team%20Obesity/notebooks/SNAP_data_EDA.ipynb#X14sZmlsZQ%3D%3D?line=9'>10</a>\u001b[0m \u001b[39m# df[\"PLNG_REGIO\"]\u001b[39;00m\n\u001b[1;32m     <a href='vscode-notebook-cell:/Users/jillianwu/Team%20Obesity/notebooks/SNAP_data_EDA.ipynb#X14sZmlsZQ%3D%3D?line=10'>11</a>\u001b[0m \n\u001b[1;32m     <a href='vscode-notebook-cell:/Users/jillianwu/Team%20Obesity/notebooks/SNAP_data_EDA.ipynb#X14sZmlsZQ%3D%3D?line=11'>12</a>\u001b[0m \u001b[39m#categorical variable\u001b[39;00m\n\u001b[0;32m---> <a href='vscode-notebook-cell:/Users/jillianwu/Team%20Obesity/notebooks/SNAP_data_EDA.ipynb#X14sZmlsZQ%3D%3D?line=12'>13</a>\u001b[0m df[\u001b[39m'\u001b[39;49m\u001b[39mbaths\u001b[39;49m\u001b[39m'\u001b[39;49m]\u001b[39m.\u001b[39mvalue_counts()\u001b[39m.\u001b[39mplot(kind\u001b[39m=\u001b[39m\u001b[39m'\u001b[39m\u001b[39mbar\u001b[39m\u001b[39m'\u001b[39m)\n\u001b[1;32m     <a href='vscode-notebook-cell:/Users/jillianwu/Team%20Obesity/notebooks/SNAP_data_EDA.ipynb#X14sZmlsZQ%3D%3D?line=13'>14</a>\u001b[0m plt\u001b[39m.\u001b[39mtitle(\u001b[39m'\u001b[39m\u001b[39mDistribution of Baths\u001b[39m\u001b[39m'\u001b[39m)\n\u001b[1;32m     <a href='vscode-notebook-cell:/Users/jillianwu/Team%20Obesity/notebooks/SNAP_data_EDA.ipynb#X14sZmlsZQ%3D%3D?line=14'>15</a>\u001b[0m plt\u001b[39m.\u001b[39mxlabel(\u001b[39m'\u001b[39m\u001b[39mBaths\u001b[39m\u001b[39m'\u001b[39m)\n",
            "File \u001b[0;32m~/miniconda3/lib/python3.12/site-packages/pandas/core/frame.py:4102\u001b[0m, in \u001b[0;36mDataFrame.__getitem__\u001b[0;34m(self, key)\u001b[0m\n\u001b[1;32m   4100\u001b[0m \u001b[39mif\u001b[39;00m \u001b[39mself\u001b[39m\u001b[39m.\u001b[39mcolumns\u001b[39m.\u001b[39mnlevels \u001b[39m>\u001b[39m \u001b[39m1\u001b[39m:\n\u001b[1;32m   4101\u001b[0m     \u001b[39mreturn\u001b[39;00m \u001b[39mself\u001b[39m\u001b[39m.\u001b[39m_getitem_multilevel(key)\n\u001b[0;32m-> 4102\u001b[0m indexer \u001b[39m=\u001b[39m \u001b[39mself\u001b[39;49m\u001b[39m.\u001b[39;49mcolumns\u001b[39m.\u001b[39;49mget_loc(key)\n\u001b[1;32m   4103\u001b[0m \u001b[39mif\u001b[39;00m is_integer(indexer):\n\u001b[1;32m   4104\u001b[0m     indexer \u001b[39m=\u001b[39m [indexer]\n",
            "File \u001b[0;32m~/miniconda3/lib/python3.12/site-packages/pandas/core/indexes/base.py:3812\u001b[0m, in \u001b[0;36mIndex.get_loc\u001b[0;34m(self, key)\u001b[0m\n\u001b[1;32m   3807\u001b[0m     \u001b[39mif\u001b[39;00m \u001b[39misinstance\u001b[39m(casted_key, \u001b[39mslice\u001b[39m) \u001b[39mor\u001b[39;00m (\n\u001b[1;32m   3808\u001b[0m         \u001b[39misinstance\u001b[39m(casted_key, abc\u001b[39m.\u001b[39mIterable)\n\u001b[1;32m   3809\u001b[0m         \u001b[39mand\u001b[39;00m \u001b[39many\u001b[39m(\u001b[39misinstance\u001b[39m(x, \u001b[39mslice\u001b[39m) \u001b[39mfor\u001b[39;00m x \u001b[39min\u001b[39;00m casted_key)\n\u001b[1;32m   3810\u001b[0m     ):\n\u001b[1;32m   3811\u001b[0m         \u001b[39mraise\u001b[39;00m InvalidIndexError(key)\n\u001b[0;32m-> 3812\u001b[0m     \u001b[39mraise\u001b[39;00m \u001b[39mKeyError\u001b[39;00m(key) \u001b[39mfrom\u001b[39;00m \u001b[39merr\u001b[39;00m\n\u001b[1;32m   3813\u001b[0m \u001b[39mexcept\u001b[39;00m \u001b[39mTypeError\u001b[39;00m:\n\u001b[1;32m   3814\u001b[0m     \u001b[39m# If we have a listlike key, _check_indexing_error will raise\u001b[39;00m\n\u001b[1;32m   3815\u001b[0m     \u001b[39m#  InvalidIndexError. Otherwise we fall through and re-raise\u001b[39;00m\n\u001b[1;32m   3816\u001b[0m     \u001b[39m#  the TypeError.\u001b[39;00m\n\u001b[1;32m   3817\u001b[0m     \u001b[39mself\u001b[39m\u001b[39m.\u001b[39m_check_indexing_error(key)\n",
            "\u001b[0;31mKeyError\u001b[0m: 'baths'"
          ]
        }
      ],
      "source": [
        "### REUSABLE CODE \n",
        "\n",
        "#specifically select the quantitative variables\n",
        "quant_vars = df.columns[df.dtypes != 'object']\n",
        "quant_vars.tolist()\n",
        "\n",
        "#identify length \n",
        "#len(df[\"streams\"].unique())\n",
        "\n",
        "# df[\"PLNG_REGIO\"]\n",
        "\n",
        "#categorical variable\n",
        "df['baths'].value_counts().plot(kind='bar')\n",
        "plt.title('Distribution of Baths')\n",
        "plt.xlabel('Baths')\n",
        "plt.ylabel('Count')\n",
        "plt.show()\n",
        "\n"
      ]
    },
    {
      "cell_type": "code",
      "execution_count": null,
      "metadata": {},
      "outputs": [
        {
          "name": "stdout",
          "output_type": "stream",
          "text": [
            "CSV file loaded successfully\n",
            "Index(['OBJECTID', 'GEOID10', 'NAME10', 'PLNG_REGIO',\n",
            "       'Pop_Ch_per_sqm_2000_2010', 'SDName', 'Percent_BA_or_Higher',\n",
            "       'Median_household_income', 'Square_Miles', 'HH_Rec_FS_June_2007',\n",
            "       'Ind_Rec_FS_June_2007', 'HH_Rec_FS_persqm_June_2007',\n",
            "       'Ind_Rec_FS_persqm_June_2007', 'HH_Rec_FS_June_2010',\n",
            "       'Ind_Rec_Food_Stamps_June_2010', 'HH_Rec_FS_persqm_June_2010',\n",
            "       'Ind_Rec_FS_persqm_June_2010', 'HH_Rec_FS_June_2011',\n",
            "       'Ind_Rec_FS_June_2011', 'HH_Rec_FS_persqm_June_2011',\n",
            "       'Ind_Rec_FS_persqm_June_2011', 'HH_Rec_FS_June_2012',\n",
            "       'Ind_Rec_FS_June_2012', 'HH_Rec_FS_persqm_June_2012',\n",
            "       'Ind_Rec_FS_persqm_June_2012', 'HH_Rec_FS_June_2013',\n",
            "       'Ind_Rec_FS_June_2013', 'HH_Rec_FS_persqm_June_2013',\n",
            "       'Ind_Rec_FS_persqm_June_2013', 'Ind_Rec_FS_persqm_June_2014',\n",
            "       'Pct_Pop_Rec_FS_June_2010', 'Ch_Ind_Rec_FS_2007_2014',\n",
            "       'Ch_Ind_Rec_FS_2007_2010', 'Ch_Ind_Rec_FS_2010_2014',\n",
            "       'Ch_Ind_Rec_FS_2013_2014', 'Ch_Ind_Rec_FS_persqm_2007_2014',\n",
            "       'Ch_Ind_Rec_FS_persqm_2007_2010', 'Ch_Ind_Rec_FS_persqm_2010_2014',\n",
            "       'Ch_Ind_Rec_FS_persqm_2013_2014', 'GlobalID', 'last_edited_date'],\n",
            "      dtype='object')\n",
            "Column names: ['OBJECTID', 'GEOID10', 'NAME10', 'PLNG_REGIO', 'Pop_Ch_per_sqm_2000_2010', 'SDName', 'Percent_BA_or_Higher', 'Median_household_income', 'Square_Miles', 'HH_Rec_FS_June_2007', 'Ind_Rec_FS_June_2007', 'HH_Rec_FS_persqm_June_2007', 'Ind_Rec_FS_persqm_June_2007', 'HH_Rec_FS_June_2010', 'Ind_Rec_Food_Stamps_June_2010', 'HH_Rec_FS_persqm_June_2010', 'Ind_Rec_FS_persqm_June_2010', 'HH_Rec_FS_June_2011', 'Ind_Rec_FS_June_2011', 'HH_Rec_FS_persqm_June_2011', 'Ind_Rec_FS_persqm_June_2011', 'HH_Rec_FS_June_2012', 'Ind_Rec_FS_June_2012', 'HH_Rec_FS_persqm_June_2012', 'Ind_Rec_FS_persqm_June_2012', 'HH_Rec_FS_June_2013', 'Ind_Rec_FS_June_2013', 'HH_Rec_FS_persqm_June_2013', 'Ind_Rec_FS_persqm_June_2013', 'Ind_Rec_FS_persqm_June_2014', 'Pct_Pop_Rec_FS_June_2010', 'Ch_Ind_Rec_FS_2007_2014', 'Ch_Ind_Rec_FS_2007_2010', 'Ch_Ind_Rec_FS_2010_2014', 'Ch_Ind_Rec_FS_2013_2014', 'Ch_Ind_Rec_FS_persqm_2007_2014', 'Ch_Ind_Rec_FS_persqm_2007_2010', 'Ch_Ind_Rec_FS_persqm_2010_2014', 'Ch_Ind_Rec_FS_persqm_2013_2014', 'GlobalID', 'last_edited_date']\n"
          ]
        }
      ],
      "source": [
        "#Ensure that I can read the file\n",
        "try:\n",
        "    df = pd.read_csv(filename)\n",
        "    print(\"CSV file loaded successfully\")\n",
        "except Exception as e:\n",
        "    print(f\"Error loading CSV file: {e}\")\n",
        "    \n",
        "print(df.columns)\n",
        "\n",
        "# Print column names to verify\n",
        "print(\"Column names:\", df.columns.tolist())\n",
        "\n",
        "# Clean column names (strip whitespace)\n",
        "df.columns = df.columns.str.strip()"
      ]
    },
    {
      "cell_type": "code",
      "execution_count": null,
      "metadata": {},
      "outputs": [
        {
          "name": "stdout",
          "output_type": "stream",
          "text": [
            "[('HH_Rec_FS_June_2007', 'Households Receiving Food Stamps, June 2007'), ('HH_Rec_FS_persqm_June_2007', 'Households Receiving Food Stamps per Square Mile, June 2007'), ('HH_Rec_FS_June_2010', 'Households Receiving Food Stamps, June 2010'), ('HH_Rec_FS_persqm_June_2010', 'Households Receiving Food Stamps per Square Mile, June 2010'), ('HH_Rec_FS_June_2011', 'Households Receiving Food Stamps, June 2011'), ('HH_Rec_FS_persqm_June_2011', 'Households Receiving Food Stamps per Square Mile, June 2011'), ('HH_Rec_FS_June_2012', 'Households Receiving Food Stamps, June 2012'), ('HH_Rec_FS_persqm_June_2012', 'Households Receiving Food Stamps per Square Mile, June 2012'), ('HH_Rec_FS_June_2013', 'Households Receiving Food Stamps, June 2013'), ('HH_Rec_FS_persqm_June_2013', 'Households Receiving Food Stamps per Square Mile, June 2013')]\n"
          ]
        }
      ],
      "source": [
        "#purely just converting column names with \"HH\" into a list\n",
        "\n",
        "column_names = df.columns\n",
        "\n",
        "hh_columns = [col for col in column_names if \"HH\" in col]\n",
        "\n",
        "print(hh_columns)"
      ]
    },
    {
      "cell_type": "code",
      "execution_count": null,
      "metadata": {
        "id": "0KbMcR2T4IJG",
        "outputId": "30340f2e-f0c1-476f-f3ba-ea3e1ad1ea74"
      },
      "outputs": [
        {
          "name": "stdout",
          "output_type": "stream",
          "text": [
            "OBJECTID 948\n",
            "GEOID10 948\n",
            "NAME10 940\n",
            "PLNG_REGIO 2\n",
            "Pop_Ch_per_sqm_2000_2010 909\n",
            "SDName 78\n",
            "Percent_BA_or_Higher 507\n",
            "Median_household_income 935\n",
            "Square_Miles 212\n",
            "HH_Rec_FS_June_2007 334\n",
            "Ind_Rec_FS_June_2007 516\n",
            "HH_Rec_FS_persqm_June_2007 557\n",
            "Ind_Rec_FS_persqm_June_2007 693\n",
            "HH_Rec_FS_June_2010 485\n",
            "Ind_Rec_Food_Stamps_June_2010 642\n",
            "HH_Rec_FS_persqm_June_2010 685\n",
            "Ind_Rec_FS_persqm_June_2010 783\n",
            "HH_Rec_FS_June_2011 513\n",
            "Ind_Rec_FS_June_2011 678\n",
            "HH_Rec_FS_persqm_June_2011 716\n",
            "Ind_Rec_FS_persqm_June_2011 813\n",
            "HH_Rec_FS_June_2012 536\n",
            "Ind_Rec_FS_June_2012 684\n",
            "HH_Rec_FS_persqm_June_2012 722\n",
            "Ind_Rec_FS_persqm_June_2012 822\n",
            "HH_Rec_FS_June_2013 534\n",
            "Ind_Rec_FS_June_2013 696\n",
            "HH_Rec_FS_persqm_June_2013 732\n",
            "Ind_Rec_FS_persqm_June_2013 798\n",
            "Ind_Rec_FS_persqm_June_2014 807\n",
            "Pct_Pop_Rec_FS_June_2010 321\n",
            "Ch_Ind_Rec_FS_2007_2014 581\n",
            "Ch_Ind_Rec_FS_2007_2010 514\n",
            "Ch_Ind_Rec_FS_2010_2014 419\n",
            "Ch_Ind_Rec_FS_2013_2014 292\n",
            "Ch_Ind_Rec_FS_persqm_2007_2014 741\n",
            "Ch_Ind_Rec_FS_persqm_2007_2010 706\n",
            "Ch_Ind_Rec_FS_persqm_2010_2014 635\n",
            "Ch_Ind_Rec_FS_persqm_2013_2014 504\n",
            "GlobalID 948\n",
            "last_edited_date 1\n"
          ]
        }
      ],
      "source": [
        "# show the NUMBER OF unique values for each col to help us access what variables are quant vs qualitative\n",
        "for col in df.columns:\n",
        "    print(col,  len(df[col].unique()))"
      ]
    },
    {
      "cell_type": "markdown",
      "metadata": {},
      "source": [
        "## PLANNING REGION ANALYSIS"
      ]
    },
    {
      "cell_type": "code",
      "execution_count": null,
      "metadata": {
        "id": "C4PdhxXb4IJF",
        "outputId": "2b6e9f0b-f284-41a6-959f-24887b005549"
      },
      "outputs": [
        {
          "name": "stdout",
          "output_type": "stream",
          "text": [
            "Unique values in 'PLNG_REGIO': ['ARC 20' 'ARC 10']\n",
            "Number of unique values: 2\n"
          ]
        }
      ],
      "source": [
        "#1048575 rows, #811 unique planning region \n",
        "df.columns = df.columns.str.strip()  # Strip whitespace from column names\n",
        "\n",
        "unique_values = df[\"PLNG_REGIO\"].unique()\n",
        "print(f\"Unique values in 'PLNG_REGIO': {unique_values}\")\n",
        "print(f\"Number of unique values: {len(unique_values)}\")\n",
        "\n"
      ]
    },
    {
      "cell_type": "code",
      "execution_count": null,
      "metadata": {
        "id": "jpaJG52k4IJF"
      },
      "outputs": [
        {
          "data": {
            "image/png": "[encoded data removed]",
            "text/plain": [
              "<Figure size 640x480 with 1 Axes>"
            ]
          },
          "metadata": {},
          "output_type": "display_data"
        }
      ],
      "source": [
        "# Categorical variable\n",
        "df['PLNG_REGIO'].value_counts().plot(kind='bar')\n",
        "plt.title('Distribution of Planning region')\n",
        "plt.xlabel('Planning region')\n",
        "plt.ylabel('Count')\n",
        "plt.show()"
      ]
    },
    {
      "cell_type": "markdown",
      "metadata": {},
      "source": [
        "## Household income variable analysis"
      ]
    },
    {
      "cell_type": "code",
      "execution_count": null,
      "metadata": {},
      "outputs": [],
      "source": [
        "#summary statistics \n",
        "column_name = \"HH_Rec_FS_persqm_June_2007\"\n",
        "\n",
        "# Describe with numerical measures\n",
        "df[column_name].describe()\n",
        "\n",
        "#Combined View: Using plt.subplot to display both plots\n",
        "#side by side for easy comparison.\n",
        "if column_name in df.columns:\n",
        "    summary_stats = df[column_name].describe()\n",
        "    print(summary_stats)\n",
        "\n",
        "    # Plotting the boxplot with adjusted y-axis limits\n",
        "    plt.figure(figsize=(12, 8))\n",
        "    df.boxplot(column=column_name)\n",
        "    plt.ylim(0, 200)  # Adjust this limit based on your data\n",
        "    plt.title(f'Boxplot of {column_name}')\n",
        "    plt.ylabel('Value')\n",
        "    plt.grid(True)\n",
        "    plt.show()\n",
        "else:\n",
        "    print(f\"Column '{column_name}' not found in DataFrame\")"
      ]
    },
    {
      "cell_type": "code",
      "execution_count": null,
      "metadata": {},
      "outputs": [
        {
          "name": "stdout",
          "output_type": "stream",
          "text": [
            "[('HH_Rec_FS_June_2007', 'Households Receiving Food Stamps, June 2007'), ('HH_Rec_FS_persqm_June_2007', 'Households Receiving Food Stamps per Square Mile, June 2007'), ('HH_Rec_FS_June_2010', 'Households Receiving Food Stamps, June 2010'), ('HH_Rec_FS_persqm_June_2010', 'Households Receiving Food Stamps per Square Mile, June 2010'), ('HH_Rec_FS_June_2011', 'Households Receiving Food Stamps, June 2011'), ('HH_Rec_FS_persqm_June_2011', 'Households Receiving Food Stamps per Square Mile, June 2011'), ('HH_Rec_FS_June_2012', 'Households Receiving Food Stamps, June 2012'), ('HH_Rec_FS_persqm_June_2012', 'Households Receiving Food Stamps per Square Mile, June 2012'), ('HH_Rec_FS_June_2013', 'Households Receiving Food Stamps, June 2013'), ('HH_Rec_FS_persqm_June_2013', 'Households Receiving Food Stamps per Square Mile, June 2013')]\n"
          ]
        }
      ],
      "source": [
        "# List of column names\n",
        "column_names = df.columns\n",
        "\n",
        "# Extract columns containing \"HH\"\n",
        "hh_columns = [col for col in column_names if \"HH\" in col]\n",
        "\n",
        "# Create descriptive names dynamically\n",
        "descriptions = {\n",
        "    'HH_Rec_FS_June_2007': 'Households Receiving Food Stamps, June 2007',\n",
        "    'HH_Rec_FS_persqm_June_2007': 'Households Receiving Food Stamps per Square Mile, June 2007',\n",
        "    'HH_Rec_FS_June_2010': 'Households Receiving Food Stamps, June 2010',\n",
        "    'HH_Rec_FS_persqm_June_2010': 'Households Receiving Food Stamps per Square Mile, June 2010',\n",
        "    'HH_Rec_FS_June_2011': 'Households Receiving Food Stamps, June 2011',\n",
        "    'HH_Rec_FS_persqm_June_2011': 'Households Receiving Food Stamps per Square Mile, June 2011',\n",
        "    'HH_Rec_FS_June_2012': 'Households Receiving Food Stamps, June 2012',\n",
        "    'HH_Rec_FS_persqm_June_2012': 'Households Receiving Food Stamps per Square Mile, June 2012',\n",
        "    'HH_Rec_FS_June_2013': 'Households Receiving Food Stamps, June 2013',\n",
        "    'HH_Rec_FS_persqm_June_2013': 'Households Receiving Food Stamps per Square Mile, June 2013'\n",
        "}\n",
        "\n",
        "# Form columns_to_analyze list\n",
        "columns_to_analyze = [(col, descriptions[col]) for col in hh_columns if col in descriptions]\n",
        "\n",
        "print(columns_to_analyze)\n"
      ]
    },
    {
      "cell_type": "markdown",
      "metadata": {},
      "source": [
        "## save outputs in a pdf file"
      ]
    },
    {
      "cell_type": "code",
      "execution_count": null,
      "metadata": {},
      "outputs": [
        {
          "name": "stdout",
          "output_type": "stream",
          "text": [
            "CSV file loaded successfully\n",
            "\n",
            "Analysis for HH_Rec_FS_June_2007 (Households Receiving Food Stamps, June 2007):\n",
            "\n",
            "Unique values in 'HH_Rec_FS_June_2007': [ 95. 304. 347. 100. 300.]...\n",
            "Number of unique values: 334\n",
            "\n",
            "Summary statistics:\n",
            "count     945.000000\n",
            "mean      126.140741\n",
            "std       149.325788\n",
            "min         0.000000\n",
            "25%        21.000000\n",
            "50%        68.000000\n",
            "75%       185.000000\n",
            "max      1370.000000\n",
            "Name: HH_Rec_FS_June_2007, dtype: float64\n",
            "\n",
            "Variance: 22298.190976145637\n",
            "\n",
            "Analysis for HH_Rec_FS_persqm_June_2007 (Households Receiving Food Stamps per Square Mile, June 2007):\n",
            "\n",
            "Unique values in 'HH_Rec_FS_persqm_June_2007': [  4.4  17.5 206.4   1.5  46.6]...\n",
            "Number of unique values: 557\n",
            "\n",
            "Summary statistics:\n",
            "count     945.000000\n",
            "mean       92.018095\n",
            "std       312.830564\n",
            "min         0.000000\n",
            "25%         3.900000\n",
            "50%        16.600000\n",
            "75%        83.400000\n",
            "max      8059.900000\n",
            "Name: HH_Rec_FS_persqm_June_2007, dtype: float64\n",
            "\n",
            "Variance: 97862.96158958838\n",
            "\n",
            "Analysis for HH_Rec_FS_June_2010 (Households Receiving Food Stamps, June 2010):\n",
            "\n",
            "Unique values in 'HH_Rec_FS_June_2010': [173. 544. 457. 174. 488.]...\n",
            "Number of unique values: 485\n",
            "\n",
            "Summary statistics:\n",
            "count     945.000000\n",
            "mean      248.840212\n",
            "std       258.591681\n",
            "min         0.000000\n",
            "25%        54.000000\n",
            "50%       170.000000\n",
            "75%       382.000000\n",
            "max      2818.000000\n",
            "Name: HH_Rec_FS_June_2010, dtype: float64\n",
            "\n",
            "Variance: 66869.65770334497\n",
            "\n",
            "Analysis for HH_Rec_FS_persqm_June_2010 (Households Receiving Food Stamps per Square Mile, June 2010):\n",
            "\n",
            "Unique values in 'HH_Rec_FS_persqm_June_2010': [  7.9  31.3 271.8   2.6  75.8]...\n",
            "Number of unique values: 685\n",
            "\n",
            "Summary statistics:\n",
            "count     945.000000\n",
            "mean      159.523810\n",
            "std       286.580685\n",
            "min         0.000000\n",
            "25%         9.200000\n",
            "50%        39.400000\n",
            "75%       185.000000\n",
            "max      3056.200000\n",
            "Name: HH_Rec_FS_persqm_June_2010, dtype: float64\n",
            "\n",
            "Variance: 82128.48906174334\n",
            "\n",
            "Analysis for HH_Rec_FS_June_2011 (Households Receiving Food Stamps, June 2011):\n",
            "\n",
            "Unique values in 'HH_Rec_FS_June_2011': [192. 628. 499. 178. 569.]...\n",
            "Number of unique values: 513\n",
            "\n",
            "Summary statistics:\n",
            "count     945.000000\n",
            "mean      288.273016\n",
            "std       293.971832\n",
            "min         0.000000\n",
            "25%        63.000000\n",
            "50%       199.000000\n",
            "75%       433.000000\n",
            "max      3132.000000\n",
            "Name: HH_Rec_FS_June_2011, dtype: float64\n",
            "\n",
            "Variance: 86419.43809523809\n",
            "\n",
            "Analysis for HH_Rec_FS_persqm_June_2011 (Households Receiving Food Stamps per Square Mile, June 2011):\n",
            "\n",
            "Unique values in 'HH_Rec_FS_persqm_June_2011': [  8.8  36.2 296.8   2.7  88.4]...\n",
            "Number of unique values: 716\n",
            "\n",
            "Summary statistics:\n",
            "count     945.000000\n",
            "mean      182.503175\n",
            "std       315.530659\n",
            "min         0.000000\n",
            "25%        10.600000\n",
            "50%        46.000000\n",
            "75%       222.600000\n",
            "max      2804.100000\n",
            "Name: HH_Rec_FS_persqm_June_2011, dtype: float64\n",
            "\n",
            "Variance: 99559.59700262308\n",
            "\n",
            "Analysis for HH_Rec_FS_June_2012 (Households Receiving Food Stamps, June 2012):\n",
            "\n",
            "Unique values in 'HH_Rec_FS_June_2012': [221. 678. 587. 216. 589.]...\n",
            "Number of unique values: 536\n",
            "\n",
            "Summary statistics:\n",
            "count     945.000000\n",
            "mean      321.042328\n",
            "std       327.028847\n",
            "min         0.000000\n",
            "25%        72.000000\n",
            "50%       221.000000\n",
            "75%       477.000000\n",
            "max      3193.000000\n",
            "Name: HH_Rec_FS_June_2012, dtype: float64\n",
            "\n",
            "Variance: 106947.86685050667\n",
            "\n",
            "Analysis for HH_Rec_FS_persqm_June_2012 (Households Receiving Food Stamps per Square Mile, June 2012):\n",
            "\n",
            "Unique values in 'HH_Rec_FS_persqm_June_2012': [ 10.1  39.  349.2   3.2  91.5]...\n",
            "Number of unique values: 722\n",
            "\n",
            "Summary statistics:\n",
            "count     945.000000\n",
            "mean      201.358519\n",
            "std       343.190264\n",
            "min         0.000000\n",
            "25%        12.000000\n",
            "50%        51.300000\n",
            "75%       251.300000\n",
            "max      2954.900000\n",
            "Name: HH_Rec_FS_persqm_June_2012, dtype: float64\n",
            "\n",
            "Variance: 117779.55709102322\n",
            "\n",
            "Analysis for HH_Rec_FS_June_2013 (Households Receiving Food Stamps, June 2013):\n",
            "\n",
            "Unique values in 'HH_Rec_FS_June_2013': [249. 755. 595. 207. 686.]...\n",
            "Number of unique values: 534\n",
            "\n",
            "Summary statistics:\n",
            "count     945.000000\n",
            "mean      321.368254\n",
            "std       323.444658\n",
            "min         0.000000\n",
            "25%        76.000000\n",
            "50%       221.000000\n",
            "75%       484.000000\n",
            "max      2963.000000\n",
            "Name: HH_Rec_FS_June_2013, dtype: float64\n",
            "\n",
            "Variance: 104616.44687247781\n",
            "\n",
            "Analysis for HH_Rec_FS_persqm_June_2013 (Households Receiving Food Stamps per Square Mile, June 2013):\n",
            "\n",
            "Unique values in 'HH_Rec_FS_persqm_June_2013': [ 11.4  43.5 353.9   3.1 106.5]...\n",
            "Number of unique values: 732\n",
            "\n",
            "Summary statistics:\n",
            "count     945.000000\n",
            "mean      198.647725\n",
            "std       334.380603\n",
            "min         0.000000\n",
            "25%        12.400000\n",
            "50%        51.500000\n",
            "75%       252.300000\n",
            "max      2474.100000\n",
            "Name: HH_Rec_FS_persqm_June_2013, dtype: float64\n",
            "\n",
            "Variance: 111810.38790000897\n",
            "\n",
            "PDF file 'plots.pdf' has been generated successfully.\n"
          ]
        }
      ],
      "source": [
        "from matplotlib.backends.backend_pdf import PdfPages\n",
        "import os\n",
        "\n",
        "\n",
        "try:\n",
        "    df = pd.read_csv(filename)\n",
        "    print(\"CSV file loaded successfully\")\n",
        "except Exception as e:\n",
        "    print(f\"Error loading CSV file: {e}\")\n",
        "\n",
        "# Clean column names (strip whitespace)\n",
        "df.columns = df.columns.str.strip()\n",
        "\n",
        "# Columns and their corresponding descriptive names\n",
        "columns_to_analyze = [\n",
        "    ('HH_Rec_FS_June_2007', 'Households Receiving Food Stamps, June 2007'),\n",
        "    ('HH_Rec_FS_persqm_June_2007', 'Households Receiving Food Stamps per Square Mile, June 2007'),\n",
        "    ('HH_Rec_FS_June_2010', 'Households Receiving Food Stamps, June 2010'),\n",
        "    ('HH_Rec_FS_persqm_June_2010', 'Households Receiving Food Stamps per Square Mile, June 2010'),\n",
        "    ('HH_Rec_FS_June_2011', 'Households Receiving Food Stamps, June 2011'),\n",
        "    ('HH_Rec_FS_persqm_June_2011', 'Households Receiving Food Stamps per Square Mile, June 2011'),\n",
        "    ('HH_Rec_FS_June_2012', 'Households Receiving Food Stamps, June 2012'),\n",
        "    ('HH_Rec_FS_persqm_June_2012', 'Households Receiving Food Stamps per Square Mile, June 2012'),\n",
        "    ('HH_Rec_FS_June_2013', 'Households Receiving Food Stamps, June 2013'),\n",
        "    ('HH_Rec_FS_persqm_June_2013', 'Households Receiving Food Stamps per Square Mile, June 2013')\n",
        "]\n",
        "\n",
        "#it automatically generates into my current project folder\n",
        "pdf_file_path = 'plots.pdf'\n",
        "\n",
        "# Create a PDF document to save the plots\n",
        "with PdfPages('plots.pdf') as pdf:\n",
        "    # Analyze each column\n",
        "    for column, description in columns_to_analyze:\n",
        "        if column in df.columns:\n",
        "            print(f\"\\nAnalysis for {column} ({description}):\\n\")\n",
        "\n",
        "            # Unique values\n",
        "            unique_values = df[column].unique()\n",
        "            print(f\"Unique values in '{column}': {unique_values[:5]}...\")  # Displaying first 5 unique values for brevity\n",
        "            print(f\"Number of unique values: {len(unique_values)}\")\n",
        "\n",
        "            # Summary statistics\n",
        "            summary_stats = df[column].describe()\n",
        "            print(\"\\nSummary statistics:\")\n",
        "            print(summary_stats)\n",
        "\n",
        "            # Variance\n",
        "            variance = df[column].var()\n",
        "            print(f\"\\nVariance: {variance}\")\n",
        "\n",
        "            # Plotting\n",
        "            plt.figure(figsize=(14, 6))\n",
        "\n",
        "            # Histogram\n",
        "            plt.subplot(1, 2, 1)\n",
        "            df[column].plot(kind='hist', bins=30, title=f'Histogram of {description}')\n",
        "            plt.xlabel('Value')\n",
        "            plt.ylabel('Frequency')\n",
        "\n",
        "            # Boxplot\n",
        "            plt.subplot(1, 2, 2)\n",
        "            df.boxplot(column=column)\n",
        "            plt.title(f'Boxplot of {description}')\n",
        "            plt.ylabel('Value')\n",
        "            \n",
        "            # Adjusting y-axis limit for better visibility\n",
        "            max_value = df[column].max()\n",
        "            if max_value > 200:\n",
        "                plt.ylim(0, 200)\n",
        "\n",
        "            plt.grid(True)\n",
        "            plt.tight_layout()\n",
        "\n",
        "            # Save the current figure to the PDF\n",
        "            pdf.savefig()\n",
        "            plt.close()\n",
        "\n",
        "        else:\n",
        "            print(f\"Column '{column}' not found in DataFrame\")\n",
        "\n",
        "# Check if the PDF file has been generated\n",
        "if os.path.isfile(pdf_file_path):\n",
        "    print(f\"\\nPDF file '{pdf_file_path}' has been generated successfully.\")\n",
        "else:\n",
        "    print(f\"\\nFailed to generate PDF file '{pdf_file_path}'.\")"
      ]
    },
    {
      "cell_type": "markdown",
      "metadata": {
        "id": "w_7TQGaI4IJH"
      },
      "source": [
        "### Descriptive Statistics of attribute variables"
      ]
    },
    {
      "cell_type": "code",
      "execution_count": null,
      "metadata": {
        "colab": {
          "base_uri": "https://localhost:8080/"
        },
        "id": "Sa5Sbhx34IJH",
        "outputId": "a6e57d4c-a5de-494c-d289-28cdd32d9094"
      },
      "outputs": [],
      "source": [
        "# Create a variable to hold the columns that I want to drop\n",
        "unwanted_column = ['artist_count', 'released_year', 'released_month', 'released_day',\n",
        "       'in_spotify_playlists', 'in_spotify_charts', 'streams','in_apple_playlists', 'in_apple_charts', 'in_deezer_charts']\n",
        "\n",
        "# Drop the unwanted columns only if they exist in quant_vars\n",
        "quant_vars = quant_vars.drop([col for col in unwanted_column if col in quant_vars])\n",
        "\n",
        "#return all unique values in the songs' quantitative attributes\n",
        "for x in quant_vars:\n",
        "    quant_col_name = x #save column header as a\n",
        "    print(f\"{x} has these values{df[quant_col_name].unique()}\")\n",
        "    print(f\"{x} max = {df[quant_col_name].max()} and min = {df[quant_col_name].min()} /n\")\n"
      ]
    },
    {
      "cell_type": "code",
      "execution_count": null,
      "metadata": {
        "id": "DFEW85Tf4IJN",
        "outputId": "88551694-4223-4f3f-abdd-c47892dc8a35"
      },
      "outputs": [
        {
          "data": {
            "text/plain": [
              "array([31,  7, 17, 11, 14, 19, 48, 37, 12, 21, 23, 18,  6, 83, 34,  5, 43,\n",
              "       96,  0, 22, 26,  9, 46,  2, 39, 36, 67, 27, 54,  4, 52, 10, 16, 70,\n",
              "       51, 58, 59, 55, 50, 25, 62, 74,  1, 44, 65, 33, 78, 76,  3, 75, 15,\n",
              "       71, 61, 30, 24, 53, 93, 32, 45, 42, 38,  8, 73, 57, 97, 94, 20, 86,\n",
              "       63, 84, 40, 28, 81, 41, 69, 60, 89, 66, 35, 72, 47, 79, 49, 80, 91,\n",
              "       56, 29, 13, 90, 77, 87, 85, 64, 88, 68, 95, 92, 82])"
            ]
          },
          "execution_count": 19,
          "metadata": {},
          "output_type": "execute_result"
        }
      ],
      "source": [
        "df[\"acousticness_%\"].unique()\n"
      ]
    },
    {
      "cell_type": "code",
      "execution_count": null,
      "metadata": {
        "id": "ndkQP5an4IJN"
      },
      "outputs": [],
      "source": [
        "#Shazam is a mobile app that identifies music and provides information about it,\n",
        "#while Deezer is a music streaming service\n",
        "df[\"in_deezer_charts\"].unique() #return the unique values in deezer charts what"
      ]
    },
    {
      "cell_type": "markdown",
      "metadata": {
        "id": "58t_nkef4IJO"
      },
      "source": [
        "##  STEP 2: Explore Relationships btw variables"
      ]
    },
    {
      "cell_type": "markdown",
      "metadata": {
        "id": "tu0Q9SRN4IJO"
      },
      "source": [
        "### 1) streams vs in_spotify_charts (quant vs catgorical) has very weird displays!!"
      ]
    },
    {
      "cell_type": "code",
      "execution_count": null,
      "metadata": {
        "id": "DmlxazCN4IJO"
      },
      "outputs": [],
      "source": [
        "#Question: The rankings might represent the position at a specific point in time or could be an\n",
        "#aggregate measure (like an average rank over a certain period)."
      ]
    },
    {
      "cell_type": "code",
      "execution_count": null,
      "metadata": {
        "id": "iEW2b_c54IJO"
      },
      "outputs": [],
      "source": [
        "#we explore this because a song's ranking can fluctuate frequently based on streaming activity.\n",
        "#1) streams vs in_spotify_charts (quant vs catgorical)\n",
        "#A song might have a different rank each week on the charts, reflecting its changing popularity over time.\n",
        "\n",
        "sns.boxplot(x=\"in_spotify_charts\", y=\"streams\", data = df)\n",
        "df.groupby(\"in_spotify_charts\")[\"streams\"].describe()\n"
      ]
    },
    {
      "cell_type": "code",
      "execution_count": null,
      "metadata": {
        "id": "Hapx_TLm4IJP",
        "outputId": "9a69ff4a-beaa-4d57-829e-b7e8ff5134a9"
      },
      "outputs": [
        {
          "data": {
            "text/html": [
              "<div>\n",
              "<style scoped>\n",
              "    .dataframe tbody tr th:only-of-type {\n",
              "        vertical-align: middle;\n",
              "    }\n",
              "\n",
              "    .dataframe tbody tr th {\n",
              "        vertical-align: top;\n",
              "    }\n",
              "\n",
              "    .dataframe thead th {\n",
              "        text-align: right;\n",
              "    }\n",
              "</style>\n",
              "<table border=\"1\" class=\"dataframe\">\n",
              "  <thead>\n",
              "    <tr style=\"text-align: right;\">\n",
              "      <th></th>\n",
              "      <th>count</th>\n",
              "      <th>unique</th>\n",
              "      <th>top</th>\n",
              "      <th>freq</th>\n",
              "    </tr>\n",
              "    <tr>\n",
              "      <th>artist(s)_name</th>\n",
              "      <th></th>\n",
              "      <th></th>\n",
              "      <th></th>\n",
              "      <th></th>\n",
              "    </tr>\n",
              "  </thead>\n",
              "  <tbody>\n",
              "    <tr>\n",
              "      <th>(G)I-DLE</th>\n",
              "      <td>2</td>\n",
              "      <td>2</td>\n",
              "      <td>Queencard</td>\n",
              "      <td>1</td>\n",
              "    </tr>\n",
              "    <tr>\n",
              "      <th>21 Savage, Gunna</th>\n",
              "      <td>1</td>\n",
              "      <td>1</td>\n",
              "      <td>thought i was playing</td>\n",
              "      <td>1</td>\n",
              "    </tr>\n",
              "    <tr>\n",
              "      <th>24kgoldn, Iann Dior</th>\n",
              "      <td>1</td>\n",
              "      <td>1</td>\n",
              "      <td>Mood (feat. Iann Dior)</td>\n",
              "      <td>1</td>\n",
              "    </tr>\n",
              "    <tr>\n",
              "      <th>50 Cent</th>\n",
              "      <td>1</td>\n",
              "      <td>1</td>\n",
              "      <td>In Da Club</td>\n",
              "      <td>1</td>\n",
              "    </tr>\n",
              "    <tr>\n",
              "      <th>A$AP Rocky, Metro Boomin, Roisee</th>\n",
              "      <td>1</td>\n",
              "      <td>1</td>\n",
              "      <td>Am I Dreaming (Metro Boomin &amp; A$AP Rocky, Roisee)</td>\n",
              "      <td>1</td>\n",
              "    </tr>\n",
              "    <tr>\n",
              "      <th>...</th>\n",
              "      <td>...</td>\n",
              "      <td>...</td>\n",
              "      <td>...</td>\n",
              "      <td>...</td>\n",
              "    </tr>\n",
              "    <tr>\n",
              "      <th>j-hope</th>\n",
              "      <td>1</td>\n",
              "      <td>1</td>\n",
              "      <td>MORE</td>\n",
              "      <td>1</td>\n",
              "    </tr>\n",
              "    <tr>\n",
              "      <th>j-hope, J. Cole</th>\n",
              "      <td>1</td>\n",
              "      <td>1</td>\n",
              "      <td>on the street (with J. Cole)</td>\n",
              "      <td>1</td>\n",
              "    </tr>\n",
              "    <tr>\n",
              "      <th>sped up 8282</th>\n",
              "      <td>1</td>\n",
              "      <td>1</td>\n",
              "      <td>Cupid ï¿½ï¿½ï¿½ Twin Ver. (FIFTY FIFTY) ï¿½ï¿½...</td>\n",
              "      <td>1</td>\n",
              "    </tr>\n",
              "    <tr>\n",
              "      <th>sped up nightcore, ARIZONATEARS, Lil Uzi Vert</th>\n",
              "      <td>1</td>\n",
              "      <td>1</td>\n",
              "      <td>Watch This - ARIZONATEARS Pluggnb Remix</td>\n",
              "      <td>1</td>\n",
              "    </tr>\n",
              "    <tr>\n",
              "      <th>teto</th>\n",
              "      <td>1</td>\n",
              "      <td>1</td>\n",
              "      <td>Fim de Semana no Rio</td>\n",
              "      <td>1</td>\n",
              "    </tr>\n",
              "  </tbody>\n",
              "</table>\n",
              "<p>645 rows × 4 columns</p>\n",
              "</div>"
            ],
            "text/plain": [
              "                                              count unique  \\\n",
              "artist(s)_name                                               \n",
              "(G)I-DLE                                          2      2   \n",
              "21 Savage, Gunna                                  1      1   \n",
              "24kgoldn, Iann Dior                               1      1   \n",
              "50 Cent                                           1      1   \n",
              "A$AP Rocky, Metro Boomin, Roisee                  1      1   \n",
              "...                                             ...    ...   \n",
              "j-hope                                            1      1   \n",
              "j-hope, J. Cole                                   1      1   \n",
              "sped up 8282                                      1      1   \n",
              "sped up nightcore, ARIZONATEARS, Lil Uzi Vert     1      1   \n",
              "teto                                              1      1   \n",
              "\n",
              "                                                                                             top  \\\n",
              "artist(s)_name                                                                                     \n",
              "(G)I-DLE                                                                               Queencard   \n",
              "21 Savage, Gunna                                                           thought i was playing   \n",
              "24kgoldn, Iann Dior                                                       Mood (feat. Iann Dior)   \n",
              "50 Cent                                                                               In Da Club   \n",
              "A$AP Rocky, Metro Boomin, Roisee               Am I Dreaming (Metro Boomin & A$AP Rocky, Roisee)   \n",
              "...                                                                                          ...   \n",
              "j-hope                                                                                      MORE   \n",
              "j-hope, J. Cole                                                     on the street (with J. Cole)   \n",
              "sped up 8282                                   Cupid ï¿½ï¿½ï¿½ Twin Ver. (FIFTY FIFTY) ï¿½ï¿½...   \n",
              "sped up nightcore, ARIZONATEARS, Lil Uzi Vert            Watch This - ARIZONATEARS Pluggnb Remix   \n",
              "teto                                                                        Fim de Semana no Rio   \n",
              "\n",
              "                                              freq  \n",
              "artist(s)_name                                      \n",
              "(G)I-DLE                                         1  \n",
              "21 Savage, Gunna                                 1  \n",
              "24kgoldn, Iann Dior                              1  \n",
              "50 Cent                                          1  \n",
              "A$AP Rocky, Metro Boomin, Roisee                 1  \n",
              "...                                            ...  \n",
              "j-hope                                           1  \n",
              "j-hope, J. Cole                                  1  \n",
              "sped up 8282                                     1  \n",
              "sped up nightcore, ARIZONATEARS, Lil Uzi Vert    1  \n",
              "teto                                             1  \n",
              "\n",
              "[645 rows x 4 columns]"
            ]
          },
          "execution_count": 24,
          "metadata": {},
          "output_type": "execute_result"
        }
      ],
      "source": [
        "\n",
        "#describe the songs based on the artists\n",
        "songs_by_artist = df.groupby(by=\"artist(s)_name\")[\"track_name\"].describe()\n",
        "\n",
        "songs_by_artist\n",
        "# songs_by_artist.info()\n",
        "\n",
        "#top: The most common track_name for each artist.\n",
        "#Since most of your artists have unique songs, this is just one of their songs.\n",
        "#freq: The frequency of the top song. For artists with all unique songs, this will be 1.\n"
      ]
    },
    {
      "cell_type": "markdown",
      "metadata": {
        "id": "dVA9gRdN4IJP"
      },
      "source": [
        "#The output shows that MOST artists have a freq of 1, it appears that there are no duplicates and that each song is unique to the artist within this dataset."
      ]
    },
    {
      "cell_type": "code",
      "execution_count": null,
      "metadata": {
        "id": "pyqnPnu-4IJP",
        "outputId": "f5448df4-3193-4fd0-aaa6-1abecc61210e"
      },
      "outputs": [
        {
          "data": {
            "text/html": [
              "<div>\n",
              "<style scoped>\n",
              "    .dataframe tbody tr th:only-of-type {\n",
              "        vertical-align: middle;\n",
              "    }\n",
              "\n",
              "    .dataframe tbody tr th {\n",
              "        vertical-align: top;\n",
              "    }\n",
              "\n",
              "    .dataframe thead th {\n",
              "        text-align: right;\n",
              "    }\n",
              "</style>\n",
              "<table border=\"1\" class=\"dataframe\">\n",
              "  <thead>\n",
              "    <tr style=\"text-align: right;\">\n",
              "      <th></th>\n",
              "      <th>track_name</th>\n",
              "      <th>artist(s)_name</th>\n",
              "      <th>artist_count</th>\n",
              "      <th>released_year</th>\n",
              "      <th>released_month</th>\n",
              "      <th>released_day</th>\n",
              "      <th>in_spotify_playlists</th>\n",
              "      <th>in_spotify_charts</th>\n",
              "      <th>streams</th>\n",
              "      <th>in_apple_playlists</th>\n",
              "      <th>...</th>\n",
              "      <th>bpm</th>\n",
              "      <th>key</th>\n",
              "      <th>mode</th>\n",
              "      <th>danceability_%</th>\n",
              "      <th>valence_%</th>\n",
              "      <th>energy_%</th>\n",
              "      <th>acousticness_%</th>\n",
              "      <th>instrumentalness_%</th>\n",
              "      <th>liveness_%</th>\n",
              "      <th>speechiness_%</th>\n",
              "    </tr>\n",
              "  </thead>\n",
              "  <tbody>\n",
              "    <tr>\n",
              "      <th>130</th>\n",
              "      <td>Queencard</td>\n",
              "      <td>(G)I-DLE</td>\n",
              "      <td>1</td>\n",
              "      <td>2023</td>\n",
              "      <td>5</td>\n",
              "      <td>15</td>\n",
              "      <td>451</td>\n",
              "      <td>33</td>\n",
              "      <td>96273746</td>\n",
              "      <td>10</td>\n",
              "      <td>...</td>\n",
              "      <td>130</td>\n",
              "      <td>E</td>\n",
              "      <td>Minor</td>\n",
              "      <td>82</td>\n",
              "      <td>69</td>\n",
              "      <td>83</td>\n",
              "      <td>3</td>\n",
              "      <td>0</td>\n",
              "      <td>27</td>\n",
              "      <td>5</td>\n",
              "    </tr>\n",
              "    <tr>\n",
              "      <th>921</th>\n",
              "      <td>Nxde</td>\n",
              "      <td>(G)I-DLE</td>\n",
              "      <td>1</td>\n",
              "      <td>2022</td>\n",
              "      <td>10</td>\n",
              "      <td>17</td>\n",
              "      <td>430</td>\n",
              "      <td>6</td>\n",
              "      <td>170709584</td>\n",
              "      <td>14</td>\n",
              "      <td>...</td>\n",
              "      <td>136</td>\n",
              "      <td>E</td>\n",
              "      <td>Minor</td>\n",
              "      <td>73</td>\n",
              "      <td>65</td>\n",
              "      <td>91</td>\n",
              "      <td>4</td>\n",
              "      <td>0</td>\n",
              "      <td>48</td>\n",
              "      <td>18</td>\n",
              "    </tr>\n",
              "  </tbody>\n",
              "</table>\n",
              "<p>2 rows × 24 columns</p>\n",
              "</div>"
            ],
            "text/plain": [
              "    track_name artist(s)_name  artist_count  released_year  released_month  \\\n",
              "130  Queencard       (G)I-DLE             1           2023               5   \n",
              "921       Nxde       (G)I-DLE             1           2022              10   \n",
              "\n",
              "     released_day  in_spotify_playlists  in_spotify_charts    streams  \\\n",
              "130            15                   451                 33   96273746   \n",
              "921            17                   430                  6  170709584   \n",
              "\n",
              "     in_apple_playlists  ...  bpm key   mode danceability_%  valence_%  \\\n",
              "130                  10  ...  130   E  Minor             82         69   \n",
              "921                  14  ...  136   E  Minor             73         65   \n",
              "\n",
              "    energy_% acousticness_%  instrumentalness_%  liveness_%  speechiness_%  \n",
              "130       83              3                   0          27              5  \n",
              "921       91              4                   0          48             18  \n",
              "\n",
              "[2 rows x 24 columns]"
            ]
          },
          "execution_count": 25,
          "metadata": {},
          "output_type": "execute_result"
        }
      ],
      "source": [
        "#print out the row in which artist has the following songs - Queencard & Nxde!\n",
        "df[df[\"artist(s)_name\"] == \"(G)I-DLE\"]"
      ]
    },
    {
      "cell_type": "markdown",
      "metadata": {
        "id": "KUI5SHRV4IJQ"
      },
      "source": [
        "### Find the correlation between all quantitative variables for descriptive statistics"
      ]
    },
    {
      "cell_type": "code",
      "execution_count": null,
      "metadata": {
        "id": "NDdipjU54IJQ",
        "outputId": "06c6c098-3588-40a3-bce3-7034b7454389"
      },
      "outputs": [
        {
          "name": "stdout",
          "output_type": "stream",
          "text": [
            "Dimensions of the correlation matrix: (17, 17)\n"
          ]
        },
        {
          "data": {
            "text/html": [
              "<div>\n",
              "<style scoped>\n",
              "    .dataframe tbody tr th:only-of-type {\n",
              "        vertical-align: middle;\n",
              "    }\n",
              "\n",
              "    .dataframe tbody tr th {\n",
              "        vertical-align: top;\n",
              "    }\n",
              "\n",
              "    .dataframe thead th {\n",
              "        text-align: right;\n",
              "    }\n",
              "</style>\n",
              "<table border=\"1\" class=\"dataframe\">\n",
              "  <thead>\n",
              "    <tr style=\"text-align: right;\">\n",
              "      <th></th>\n",
              "      <th>artist_count</th>\n",
              "      <th>released_year</th>\n",
              "      <th>released_month</th>\n",
              "      <th>released_day</th>\n",
              "      <th>in_spotify_playlists</th>\n",
              "      <th>in_spotify_charts</th>\n",
              "      <th>in_apple_playlists</th>\n",
              "      <th>in_apple_charts</th>\n",
              "      <th>in_deezer_charts</th>\n",
              "      <th>bpm</th>\n",
              "      <th>danceability_%</th>\n",
              "      <th>valence_%</th>\n",
              "      <th>energy_%</th>\n",
              "      <th>acousticness_%</th>\n",
              "      <th>instrumentalness_%</th>\n",
              "      <th>liveness_%</th>\n",
              "      <th>speechiness_%</th>\n",
              "    </tr>\n",
              "  </thead>\n",
              "  <tbody>\n",
              "    <tr>\n",
              "      <th>artist_count</th>\n",
              "      <td>1.000000</td>\n",
              "      <td>0.073564</td>\n",
              "      <td>0.033857</td>\n",
              "      <td>-0.014762</td>\n",
              "      <td>-0.085226</td>\n",
              "      <td>-0.008570</td>\n",
              "      <td>-0.017024</td>\n",
              "      <td>-0.075271</td>\n",
              "      <td>0.020585</td>\n",
              "      <td>-0.058844</td>\n",
              "      <td>0.214078</td>\n",
              "      <td>0.123650</td>\n",
              "      <td>0.137530</td>\n",
              "      <td>-0.094704</td>\n",
              "      <td>-0.061269</td>\n",
              "      <td>0.034354</td>\n",
              "      <td>0.131486</td>\n",
              "    </tr>\n",
              "    <tr>\n",
              "      <th>released_year</th>\n",
              "      <td>0.073564</td>\n",
              "      <td>1.000000</td>\n",
              "      <td>0.076439</td>\n",
              "      <td>0.166377</td>\n",
              "      <td>-0.390729</td>\n",
              "      <td>0.068679</td>\n",
              "      <td>-0.201474</td>\n",
              "      <td>0.003479</td>\n",
              "      <td>0.095741</td>\n",
              "      <td>-0.011570</td>\n",
              "      <td>0.215032</td>\n",
              "      <td>-0.047643</td>\n",
              "      <td>0.078886</td>\n",
              "      <td>-0.133224</td>\n",
              "      <td>-0.023958</td>\n",
              "      <td>0.008489</td>\n",
              "      <td>0.129887</td>\n",
              "    </tr>\n",
              "    <tr>\n",
              "      <th>released_month</th>\n",
              "      <td>0.033857</td>\n",
              "      <td>0.076439</td>\n",
              "      <td>1.000000</td>\n",
              "      <td>0.057784</td>\n",
              "      <td>-0.122407</td>\n",
              "      <td>-0.050186</td>\n",
              "      <td>-0.034029</td>\n",
              "      <td>-0.017813</td>\n",
              "      <td>0.006942</td>\n",
              "      <td>-0.049400</td>\n",
              "      <td>-0.054808</td>\n",
              "      <td>-0.110355</td>\n",
              "      <td>-0.086897</td>\n",
              "      <td>0.055046</td>\n",
              "      <td>0.035481</td>\n",
              "      <td>0.001329</td>\n",
              "      <td>0.042127</td>\n",
              "    </tr>\n",
              "    <tr>\n",
              "      <th>released_day</th>\n",
              "      <td>-0.014762</td>\n",
              "      <td>0.166377</td>\n",
              "      <td>0.057784</td>\n",
              "      <td>1.000000</td>\n",
              "      <td>-0.107616</td>\n",
              "      <td>0.016068</td>\n",
              "      <td>-0.011916</td>\n",
              "      <td>0.007727</td>\n",
              "      <td>0.055426</td>\n",
              "      <td>-0.033394</td>\n",
              "      <td>0.084244</td>\n",
              "      <td>0.062751</td>\n",
              "      <td>0.047318</td>\n",
              "      <td>0.000785</td>\n",
              "      <td>0.023040</td>\n",
              "      <td>-0.011094</td>\n",
              "      <td>-0.014602</td>\n",
              "    </tr>\n",
              "    <tr>\n",
              "      <th>in_spotify_playlists</th>\n",
              "      <td>-0.085226</td>\n",
              "      <td>-0.390729</td>\n",
              "      <td>-0.122407</td>\n",
              "      <td>-0.107616</td>\n",
              "      <td>1.000000</td>\n",
              "      <td>0.141343</td>\n",
              "      <td>0.688316</td>\n",
              "      <td>0.215676</td>\n",
              "      <td>0.101283</td>\n",
              "      <td>-0.034483</td>\n",
              "      <td>-0.096981</td>\n",
              "      <td>-0.029823</td>\n",
              "      <td>0.035875</td>\n",
              "      <td>-0.064633</td>\n",
              "      <td>-0.024570</td>\n",
              "      <td>-0.051973</td>\n",
              "      <td>-0.077610</td>\n",
              "    </tr>\n",
              "    <tr>\n",
              "      <th>in_spotify_charts</th>\n",
              "      <td>-0.008570</td>\n",
              "      <td>0.068679</td>\n",
              "      <td>-0.050186</td>\n",
              "      <td>0.016068</td>\n",
              "      <td>0.141343</td>\n",
              "      <td>1.000000</td>\n",
              "      <td>0.208202</td>\n",
              "      <td>0.556804</td>\n",
              "      <td>0.566161</td>\n",
              "      <td>0.028830</td>\n",
              "      <td>0.051338</td>\n",
              "      <td>0.050040</td>\n",
              "      <td>0.104963</td>\n",
              "      <td>-0.072853</td>\n",
              "      <td>-0.005814</td>\n",
              "      <td>-0.026582</td>\n",
              "      <td>-0.094102</td>\n",
              "    </tr>\n",
              "    <tr>\n",
              "      <th>in_apple_playlists</th>\n",
              "      <td>-0.017024</td>\n",
              "      <td>-0.201474</td>\n",
              "      <td>-0.034029</td>\n",
              "      <td>-0.011916</td>\n",
              "      <td>0.688316</td>\n",
              "      <td>0.208202</td>\n",
              "      <td>1.000000</td>\n",
              "      <td>0.364761</td>\n",
              "      <td>0.326815</td>\n",
              "      <td>0.005558</td>\n",
              "      <td>-0.012586</td>\n",
              "      <td>0.041253</td>\n",
              "      <td>0.039992</td>\n",
              "      <td>-0.070965</td>\n",
              "      <td>-0.054372</td>\n",
              "      <td>-0.064986</td>\n",
              "      <td>-0.097647</td>\n",
              "    </tr>\n",
              "    <tr>\n",
              "      <th>in_apple_charts</th>\n",
              "      <td>-0.075271</td>\n",
              "      <td>0.003479</td>\n",
              "      <td>-0.017813</td>\n",
              "      <td>0.007727</td>\n",
              "      <td>0.215676</td>\n",
              "      <td>0.556804</td>\n",
              "      <td>0.364761</td>\n",
              "      <td>1.000000</td>\n",
              "      <td>0.366581</td>\n",
              "      <td>0.027057</td>\n",
              "      <td>-0.026138</td>\n",
              "      <td>0.042941</td>\n",
              "      <td>0.129354</td>\n",
              "      <td>-0.096781</td>\n",
              "      <td>-0.000381</td>\n",
              "      <td>-0.007161</td>\n",
              "      <td>-0.146472</td>\n",
              "    </tr>\n",
              "    <tr>\n",
              "      <th>in_deezer_charts</th>\n",
              "      <td>0.020585</td>\n",
              "      <td>0.095741</td>\n",
              "      <td>0.006942</td>\n",
              "      <td>0.055426</td>\n",
              "      <td>0.101283</td>\n",
              "      <td>0.566161</td>\n",
              "      <td>0.326815</td>\n",
              "      <td>0.366581</td>\n",
              "      <td>1.000000</td>\n",
              "      <td>0.021730</td>\n",
              "      <td>0.081414</td>\n",
              "      <td>0.073169</td>\n",
              "      <td>0.104350</td>\n",
              "      <td>-0.035135</td>\n",
              "      <td>0.003503</td>\n",
              "      <td>0.003650</td>\n",
              "      <td>-0.081523</td>\n",
              "    </tr>\n",
              "    <tr>\n",
              "      <th>bpm</th>\n",
              "      <td>-0.058844</td>\n",
              "      <td>-0.011570</td>\n",
              "      <td>-0.049400</td>\n",
              "      <td>-0.033394</td>\n",
              "      <td>-0.034483</td>\n",
              "      <td>0.028830</td>\n",
              "      <td>0.005558</td>\n",
              "      <td>0.027057</td>\n",
              "      <td>0.021730</td>\n",
              "      <td>1.000000</td>\n",
              "      <td>-0.148174</td>\n",
              "      <td>0.029169</td>\n",
              "      <td>0.013363</td>\n",
              "      <td>-0.010767</td>\n",
              "      <td>-0.003407</td>\n",
              "      <td>-0.005817</td>\n",
              "      <td>0.038248</td>\n",
              "    </tr>\n",
              "    <tr>\n",
              "      <th>danceability_%</th>\n",
              "      <td>0.214078</td>\n",
              "      <td>0.215032</td>\n",
              "      <td>-0.054808</td>\n",
              "      <td>0.084244</td>\n",
              "      <td>-0.096981</td>\n",
              "      <td>0.051338</td>\n",
              "      <td>-0.012586</td>\n",
              "      <td>-0.026138</td>\n",
              "      <td>0.081414</td>\n",
              "      <td>-0.148174</td>\n",
              "      <td>1.000000</td>\n",
              "      <td>0.389729</td>\n",
              "      <td>0.157970</td>\n",
              "      <td>-0.240454</td>\n",
              "      <td>-0.102144</td>\n",
              "      <td>-0.100579</td>\n",
              "      <td>0.201189</td>\n",
              "    </tr>\n",
              "    <tr>\n",
              "      <th>valence_%</th>\n",
              "      <td>0.123650</td>\n",
              "      <td>-0.047643</td>\n",
              "      <td>-0.110355</td>\n",
              "      <td>0.062751</td>\n",
              "      <td>-0.029823</td>\n",
              "      <td>0.050040</td>\n",
              "      <td>0.041253</td>\n",
              "      <td>0.042941</td>\n",
              "      <td>0.073169</td>\n",
              "      <td>0.029169</td>\n",
              "      <td>0.389729</td>\n",
              "      <td>1.000000</td>\n",
              "      <td>0.349736</td>\n",
              "      <td>-0.064072</td>\n",
              "      <td>-0.147032</td>\n",
              "      <td>0.000142</td>\n",
              "      <td>0.035704</td>\n",
              "    </tr>\n",
              "    <tr>\n",
              "      <th>energy_%</th>\n",
              "      <td>0.137530</td>\n",
              "      <td>0.078886</td>\n",
              "      <td>-0.086897</td>\n",
              "      <td>0.047318</td>\n",
              "      <td>0.035875</td>\n",
              "      <td>0.104963</td>\n",
              "      <td>0.039992</td>\n",
              "      <td>0.129354</td>\n",
              "      <td>0.104350</td>\n",
              "      <td>0.013363</td>\n",
              "      <td>0.157970</td>\n",
              "      <td>0.349736</td>\n",
              "      <td>1.000000</td>\n",
              "      <td>-0.552637</td>\n",
              "      <td>-0.051662</td>\n",
              "      <td>0.111240</td>\n",
              "      <td>-0.026880</td>\n",
              "    </tr>\n",
              "    <tr>\n",
              "      <th>acousticness_%</th>\n",
              "      <td>-0.094704</td>\n",
              "      <td>-0.133224</td>\n",
              "      <td>0.055046</td>\n",
              "      <td>0.000785</td>\n",
              "      <td>-0.064633</td>\n",
              "      <td>-0.072853</td>\n",
              "      <td>-0.070965</td>\n",
              "      <td>-0.096781</td>\n",
              "      <td>-0.035135</td>\n",
              "      <td>-0.010767</td>\n",
              "      <td>-0.240454</td>\n",
              "      <td>-0.064072</td>\n",
              "      <td>-0.552637</td>\n",
              "      <td>1.000000</td>\n",
              "      <td>0.046700</td>\n",
              "      <td>-0.046112</td>\n",
              "      <td>-0.017820</td>\n",
              "    </tr>\n",
              "    <tr>\n",
              "      <th>instrumentalness_%</th>\n",
              "      <td>-0.061269</td>\n",
              "      <td>-0.023958</td>\n",
              "      <td>0.035481</td>\n",
              "      <td>0.023040</td>\n",
              "      <td>-0.024570</td>\n",
              "      <td>-0.005814</td>\n",
              "      <td>-0.054372</td>\n",
              "      <td>-0.000381</td>\n",
              "      <td>0.003503</td>\n",
              "      <td>-0.003407</td>\n",
              "      <td>-0.102144</td>\n",
              "      <td>-0.147032</td>\n",
              "      <td>-0.051662</td>\n",
              "      <td>0.046700</td>\n",
              "      <td>1.000000</td>\n",
              "      <td>-0.044626</td>\n",
              "      <td>-0.090994</td>\n",
              "    </tr>\n",
              "    <tr>\n",
              "      <th>liveness_%</th>\n",
              "      <td>0.034354</td>\n",
              "      <td>0.008489</td>\n",
              "      <td>0.001329</td>\n",
              "      <td>-0.011094</td>\n",
              "      <td>-0.051973</td>\n",
              "      <td>-0.026582</td>\n",
              "      <td>-0.064986</td>\n",
              "      <td>-0.007161</td>\n",
              "      <td>0.003650</td>\n",
              "      <td>-0.005817</td>\n",
              "      <td>-0.100579</td>\n",
              "      <td>0.000142</td>\n",
              "      <td>0.111240</td>\n",
              "      <td>-0.046112</td>\n",
              "      <td>-0.044626</td>\n",
              "      <td>1.000000</td>\n",
              "      <td>-0.022807</td>\n",
              "    </tr>\n",
              "    <tr>\n",
              "      <th>speechiness_%</th>\n",
              "      <td>0.131486</td>\n",
              "      <td>0.129887</td>\n",
              "      <td>0.042127</td>\n",
              "      <td>-0.014602</td>\n",
              "      <td>-0.077610</td>\n",
              "      <td>-0.094102</td>\n",
              "      <td>-0.097647</td>\n",
              "      <td>-0.146472</td>\n",
              "      <td>-0.081523</td>\n",
              "      <td>0.038248</td>\n",
              "      <td>0.201189</td>\n",
              "      <td>0.035704</td>\n",
              "      <td>-0.026880</td>\n",
              "      <td>-0.017820</td>\n",
              "      <td>-0.090994</td>\n",
              "      <td>-0.022807</td>\n",
              "      <td>1.000000</td>\n",
              "    </tr>\n",
              "  </tbody>\n",
              "</table>\n",
              "</div>"
            ],
            "text/plain": [
              "                      artist_count  released_year  released_month  \\\n",
              "artist_count              1.000000       0.073564        0.033857   \n",
              "released_year             0.073564       1.000000        0.076439   \n",
              "released_month            0.033857       0.076439        1.000000   \n",
              "released_day             -0.014762       0.166377        0.057784   \n",
              "in_spotify_playlists     -0.085226      -0.390729       -0.122407   \n",
              "in_spotify_charts        -0.008570       0.068679       -0.050186   \n",
              "in_apple_playlists       -0.017024      -0.201474       -0.034029   \n",
              "in_apple_charts          -0.075271       0.003479       -0.017813   \n",
              "in_deezer_charts          0.020585       0.095741        0.006942   \n",
              "bpm                      -0.058844      -0.011570       -0.049400   \n",
              "danceability_%            0.214078       0.215032       -0.054808   \n",
              "valence_%                 0.123650      -0.047643       -0.110355   \n",
              "energy_%                  0.137530       0.078886       -0.086897   \n",
              "acousticness_%           -0.094704      -0.133224        0.055046   \n",
              "instrumentalness_%       -0.061269      -0.023958        0.035481   \n",
              "liveness_%                0.034354       0.008489        0.001329   \n",
              "speechiness_%             0.131486       0.129887        0.042127   \n",
              "\n",
              "                      released_day  in_spotify_playlists  in_spotify_charts  \\\n",
              "artist_count             -0.014762             -0.085226          -0.008570   \n",
              "released_year             0.166377             -0.390729           0.068679   \n",
              "released_month            0.057784             -0.122407          -0.050186   \n",
              "released_day              1.000000             -0.107616           0.016068   \n",
              "in_spotify_playlists     -0.107616              1.000000           0.141343   \n",
              "in_spotify_charts         0.016068              0.141343           1.000000   \n",
              "in_apple_playlists       -0.011916              0.688316           0.208202   \n",
              "in_apple_charts           0.007727              0.215676           0.556804   \n",
              "in_deezer_charts          0.055426              0.101283           0.566161   \n",
              "bpm                      -0.033394             -0.034483           0.028830   \n",
              "danceability_%            0.084244             -0.096981           0.051338   \n",
              "valence_%                 0.062751             -0.029823           0.050040   \n",
              "energy_%                  0.047318              0.035875           0.104963   \n",
              "acousticness_%            0.000785             -0.064633          -0.072853   \n",
              "instrumentalness_%        0.023040             -0.024570          -0.005814   \n",
              "liveness_%               -0.011094             -0.051973          -0.026582   \n",
              "speechiness_%            -0.014602             -0.077610          -0.094102   \n",
              "\n",
              "                      in_apple_playlists  in_apple_charts  in_deezer_charts  \\\n",
              "artist_count                   -0.017024        -0.075271          0.020585   \n",
              "released_year                  -0.201474         0.003479          0.095741   \n",
              "released_month                 -0.034029        -0.017813          0.006942   \n",
              "released_day                   -0.011916         0.007727          0.055426   \n",
              "in_spotify_playlists            0.688316         0.215676          0.101283   \n",
              "in_spotify_charts               0.208202         0.556804          0.566161   \n",
              "in_apple_playlists              1.000000         0.364761          0.326815   \n",
              "in_apple_charts                 0.364761         1.000000          0.366581   \n",
              "in_deezer_charts                0.326815         0.366581          1.000000   \n",
              "bpm                             0.005558         0.027057          0.021730   \n",
              "danceability_%                 -0.012586        -0.026138          0.081414   \n",
              "valence_%                       0.041253         0.042941          0.073169   \n",
              "energy_%                        0.039992         0.129354          0.104350   \n",
              "acousticness_%                 -0.070965        -0.096781         -0.035135   \n",
              "instrumentalness_%             -0.054372        -0.000381          0.003503   \n",
              "liveness_%                     -0.064986        -0.007161          0.003650   \n",
              "speechiness_%                  -0.097647        -0.146472         -0.081523   \n",
              "\n",
              "                           bpm  danceability_%  valence_%  energy_%  \\\n",
              "artist_count         -0.058844        0.214078   0.123650  0.137530   \n",
              "released_year        -0.011570        0.215032  -0.047643  0.078886   \n",
              "released_month       -0.049400       -0.054808  -0.110355 -0.086897   \n",
              "released_day         -0.033394        0.084244   0.062751  0.047318   \n",
              "in_spotify_playlists -0.034483       -0.096981  -0.029823  0.035875   \n",
              "in_spotify_charts     0.028830        0.051338   0.050040  0.104963   \n",
              "in_apple_playlists    0.005558       -0.012586   0.041253  0.039992   \n",
              "in_apple_charts       0.027057       -0.026138   0.042941  0.129354   \n",
              "in_deezer_charts      0.021730        0.081414   0.073169  0.104350   \n",
              "bpm                   1.000000       -0.148174   0.029169  0.013363   \n",
              "danceability_%       -0.148174        1.000000   0.389729  0.157970   \n",
              "valence_%             0.029169        0.389729   1.000000  0.349736   \n",
              "energy_%              0.013363        0.157970   0.349736  1.000000   \n",
              "acousticness_%       -0.010767       -0.240454  -0.064072 -0.552637   \n",
              "instrumentalness_%   -0.003407       -0.102144  -0.147032 -0.051662   \n",
              "liveness_%           -0.005817       -0.100579   0.000142  0.111240   \n",
              "speechiness_%         0.038248        0.201189   0.035704 -0.026880   \n",
              "\n",
              "                      acousticness_%  instrumentalness_%  liveness_%  \\\n",
              "artist_count               -0.094704           -0.061269    0.034354   \n",
              "released_year              -0.133224           -0.023958    0.008489   \n",
              "released_month              0.055046            0.035481    0.001329   \n",
              "released_day                0.000785            0.023040   -0.011094   \n",
              "in_spotify_playlists       -0.064633           -0.024570   -0.051973   \n",
              "in_spotify_charts          -0.072853           -0.005814   -0.026582   \n",
              "in_apple_playlists         -0.070965           -0.054372   -0.064986   \n",
              "in_apple_charts            -0.096781           -0.000381   -0.007161   \n",
              "in_deezer_charts           -0.035135            0.003503    0.003650   \n",
              "bpm                        -0.010767           -0.003407   -0.005817   \n",
              "danceability_%             -0.240454           -0.102144   -0.100579   \n",
              "valence_%                  -0.064072           -0.147032    0.000142   \n",
              "energy_%                   -0.552637           -0.051662    0.111240   \n",
              "acousticness_%              1.000000            0.046700   -0.046112   \n",
              "instrumentalness_%          0.046700            1.000000   -0.044626   \n",
              "liveness_%                 -0.046112           -0.044626    1.000000   \n",
              "speechiness_%              -0.017820           -0.090994   -0.022807   \n",
              "\n",
              "                      speechiness_%  \n",
              "artist_count               0.131486  \n",
              "released_year              0.129887  \n",
              "released_month             0.042127  \n",
              "released_day              -0.014602  \n",
              "in_spotify_playlists      -0.077610  \n",
              "in_spotify_charts         -0.094102  \n",
              "in_apple_playlists        -0.097647  \n",
              "in_apple_charts           -0.146472  \n",
              "in_deezer_charts          -0.081523  \n",
              "bpm                        0.038248  \n",
              "danceability_%             0.201189  \n",
              "valence_%                  0.035704  \n",
              "energy_%                  -0.026880  \n",
              "acousticness_%            -0.017820  \n",
              "instrumentalness_%        -0.090994  \n",
              "liveness_%                -0.022807  \n",
              "speechiness_%              1.000000  "
            ]
          },
          "execution_count": 26,
          "metadata": {},
          "output_type": "execute_result"
        }
      ],
      "source": [
        "# Calculate the correlation matrix considering only numeric columns\n",
        "corr_matrix = df.corr(numeric_only=True)\n",
        "\n",
        "# Get the dimensions of the resulting correlation matrix\n",
        "dimensions = corr_matrix.shape\n",
        "\n",
        "# Print the dimensions\n",
        "print(\"Dimensions of the correlation matrix:\", dimensions)\n",
        "\n",
        "#show the correlation matrix\n",
        "df.corr(numeric_only=True)\n"
      ]
    },
    {
      "cell_type": "code",
      "execution_count": null,
      "metadata": {},
      "outputs": [
        {
          "data": {
            "text/plain": [
              "<matplotlib.colorbar.Colorbar at 0x30317eb80>"
            ]
          },
          "execution_count": 28,
          "metadata": {},
          "output_type": "execute_result"
        },
        {
          "data": {
            "image/png": "[encoded data removed]",
            "text/plain": [
              "<Figure size 640x480 with 2 Axes>"
            ]
          },
          "metadata": {},
          "output_type": "display_data"
        }
      ],
      "source": [
        "# Visualize the correlation matrix\n",
        "plt.imshow(corr_matrix, cmap='coolwarm', interpolation='none')\n",
        "plt.colorbar() "
      ]
    },
    {
      "cell_type": "markdown",
      "metadata": {
        "id": "6bTInJhy4IJQ"
      },
      "source": [
        "## Multiple Regression "
      ]
    },
    {
      "cell_type": "code",
      "execution_count": null,
      "metadata": {
        "id": "bCdLF2SL4IJQ",
        "outputId": "2af2d049-2909-4331-a838-88dfaf5eedaa"
      },
      "outputs": [
        {
          "data": {
            "text/html": [
              "<div>\n",
              "<style scoped>\n",
              "    .dataframe tbody tr th:only-of-type {\n",
              "        vertical-align: middle;\n",
              "    }\n",
              "\n",
              "    .dataframe tbody tr th {\n",
              "        vertical-align: top;\n",
              "    }\n",
              "\n",
              "    .dataframe thead th {\n",
              "        text-align: right;\n",
              "    }\n",
              "</style>\n",
              "<table border=\"1\" class=\"dataframe\">\n",
              "  <thead>\n",
              "    <tr style=\"text-align: right;\">\n",
              "      <th></th>\n",
              "      <th>artist_count</th>\n",
              "      <th>released_year</th>\n",
              "      <th>released_month</th>\n",
              "      <th>released_day</th>\n",
              "      <th>in_spotify_playlists</th>\n",
              "      <th>in_spotify_charts</th>\n",
              "      <th>streams</th>\n",
              "      <th>in_apple_playlists</th>\n",
              "      <th>in_apple_charts</th>\n",
              "      <th>in_deezer_charts</th>\n",
              "      <th>bpm</th>\n",
              "      <th>danceability_%</th>\n",
              "      <th>valence_%</th>\n",
              "      <th>energy_%</th>\n",
              "      <th>acousticness_%</th>\n",
              "      <th>instrumentalness_%</th>\n",
              "      <th>liveness_%</th>\n",
              "      <th>speechiness_%</th>\n",
              "    </tr>\n",
              "  </thead>\n",
              "  <tbody>\n",
              "    <tr>\n",
              "      <th>0</th>\n",
              "      <td>2</td>\n",
              "      <td>2023</td>\n",
              "      <td>7</td>\n",
              "      <td>14</td>\n",
              "      <td>553</td>\n",
              "      <td>147</td>\n",
              "      <td>141381703</td>\n",
              "      <td>43</td>\n",
              "      <td>263</td>\n",
              "      <td>10</td>\n",
              "      <td>125</td>\n",
              "      <td>80</td>\n",
              "      <td>89</td>\n",
              "      <td>83</td>\n",
              "      <td>31</td>\n",
              "      <td>0</td>\n",
              "      <td>8</td>\n",
              "      <td>4</td>\n",
              "    </tr>\n",
              "    <tr>\n",
              "      <th>1</th>\n",
              "      <td>1</td>\n",
              "      <td>2023</td>\n",
              "      <td>3</td>\n",
              "      <td>23</td>\n",
              "      <td>1474</td>\n",
              "      <td>48</td>\n",
              "      <td>133716286</td>\n",
              "      <td>48</td>\n",
              "      <td>126</td>\n",
              "      <td>14</td>\n",
              "      <td>92</td>\n",
              "      <td>71</td>\n",
              "      <td>61</td>\n",
              "      <td>74</td>\n",
              "      <td>7</td>\n",
              "      <td>0</td>\n",
              "      <td>10</td>\n",
              "      <td>4</td>\n",
              "    </tr>\n",
              "    <tr>\n",
              "      <th>2</th>\n",
              "      <td>1</td>\n",
              "      <td>2023</td>\n",
              "      <td>6</td>\n",
              "      <td>30</td>\n",
              "      <td>1397</td>\n",
              "      <td>113</td>\n",
              "      <td>140003974</td>\n",
              "      <td>94</td>\n",
              "      <td>207</td>\n",
              "      <td>14</td>\n",
              "      <td>138</td>\n",
              "      <td>51</td>\n",
              "      <td>32</td>\n",
              "      <td>53</td>\n",
              "      <td>17</td>\n",
              "      <td>0</td>\n",
              "      <td>31</td>\n",
              "      <td>6</td>\n",
              "    </tr>\n",
              "    <tr>\n",
              "      <th>3</th>\n",
              "      <td>1</td>\n",
              "      <td>2019</td>\n",
              "      <td>8</td>\n",
              "      <td>23</td>\n",
              "      <td>7858</td>\n",
              "      <td>100</td>\n",
              "      <td>800840817</td>\n",
              "      <td>116</td>\n",
              "      <td>207</td>\n",
              "      <td>12</td>\n",
              "      <td>170</td>\n",
              "      <td>55</td>\n",
              "      <td>58</td>\n",
              "      <td>72</td>\n",
              "      <td>11</td>\n",
              "      <td>0</td>\n",
              "      <td>11</td>\n",
              "      <td>15</td>\n",
              "    </tr>\n",
              "    <tr>\n",
              "      <th>4</th>\n",
              "      <td>1</td>\n",
              "      <td>2023</td>\n",
              "      <td>5</td>\n",
              "      <td>18</td>\n",
              "      <td>3133</td>\n",
              "      <td>50</td>\n",
              "      <td>303236322</td>\n",
              "      <td>84</td>\n",
              "      <td>133</td>\n",
              "      <td>15</td>\n",
              "      <td>144</td>\n",
              "      <td>65</td>\n",
              "      <td>23</td>\n",
              "      <td>80</td>\n",
              "      <td>14</td>\n",
              "      <td>63</td>\n",
              "      <td>11</td>\n",
              "      <td>6</td>\n",
              "    </tr>\n",
              "  </tbody>\n",
              "</table>\n",
              "</div>"
            ],
            "text/plain": [
              "   artist_count  released_year  released_month  released_day  \\\n",
              "0             2           2023               7            14   \n",
              "1             1           2023               3            23   \n",
              "2             1           2023               6            30   \n",
              "3             1           2019               8            23   \n",
              "4             1           2023               5            18   \n",
              "\n",
              "   in_spotify_playlists  in_spotify_charts    streams  in_apple_playlists  \\\n",
              "0                   553                147  141381703                  43   \n",
              "1                  1474                 48  133716286                  48   \n",
              "2                  1397                113  140003974                  94   \n",
              "3                  7858                100  800840817                 116   \n",
              "4                  3133                 50  303236322                  84   \n",
              "\n",
              "   in_apple_charts  in_deezer_charts  bpm  danceability_%  valence_%  \\\n",
              "0              263                10  125              80         89   \n",
              "1              126                14   92              71         61   \n",
              "2              207                14  138              51         32   \n",
              "3              207                12  170              55         58   \n",
              "4              133                15  144              65         23   \n",
              "\n",
              "   energy_%  acousticness_%  instrumentalness_%  liveness_%  speechiness_%  \n",
              "0        83              31                   0           8              4  \n",
              "1        74               7                   0          10              4  \n",
              "2        53              17                   0          31              6  \n",
              "3        72              11                   0          11             15  \n",
              "4        80              14                  63          11              6  "
            ]
          },
          "execution_count": 18,
          "metadata": {},
          "output_type": "execute_result"
        }
      ],
      "source": [
        "#convert categorical variables into dummy variables\n",
        "\n",
        "# part 0.1 Creating dummy variables for categorical variables\n",
        "# drop all the object columns\n",
        "obj_cols = df.columns[df.dtypes == 'object']\n",
        "df = df.drop(columns=obj_cols)\n",
        "\n",
        "df.head()\n",
        "# Create dummy variables\n",
        "df_dummy = pd.get_dummies(df, drop_first=True, dtype='int8')\n",
        "\n",
        "df_dummy.head()"
      ]
    },
    {
      "cell_type": "code",
      "execution_count": null,
      "metadata": {
        "id": "5qPVHM8d4IJQ",
        "outputId": "3c071f20-e725-4618-eb48-8a6181f2ce04"
      },
      "outputs": [
        {
          "name": "stdout",
          "output_type": "stream",
          "text": [
            "artist_count\n",
            "released_year\n",
            "released_month\n",
            "released_day\n",
            "in_spotify_playlists\n",
            "in_spotify_charts\n",
            "streams\n",
            "in_apple_playlists\n",
            "in_apple_charts\n",
            "in_deezer_charts\n",
            "bpm\n",
            "danceability_%\n",
            "valence_%\n",
            "energy_%\n",
            "acousticness_%\n",
            "instrumentalness_%\n",
            "liveness_%\n",
            "speechiness_%\n"
          ]
        }
      ],
      "source": [
        "quant_vars = df.columns[df.dtypes != 'object']\n",
        "for x in quant_vars:\n",
        "    print(x)"
      ]
    },
    {
      "cell_type": "code",
      "execution_count": null,
      "metadata": {
        "id": "2RCsZy524IJR",
        "outputId": "35555e00-f1ef-4e37-b20c-b90a916f2daf"
      },
      "outputs": [
        {
          "data": {
            "text/plain": [
              "Text(0.5, 1.0, 'Actual vs Predicted Scatter Plot')"
            ]
          },
          "execution_count": 19,
          "metadata": {},
          "output_type": "execute_result"
        },
        {
          "data": {
            "image/png": "[encoded data removed]",
            "text/plain": [
              "<Figure size 640x480 with 1 Axes>"
            ]
          },
          "metadata": {},
          "output_type": "display_data"
        }
      ],
      "source": [
        "# how does these attributes: bpm\tdanceability_%\tvalence_%\tenergy_%\tacousticness_%\tinstrumentalness_%\tliveness_%\tspeechiness_%\n",
        "# contribute/predict a song's rank across different platforms?\n",
        "\n",
        "#use streams as a proxy for profitability\n",
        "\n",
        "# Specify the predictor and the target\n",
        "y = df['streams']\n",
        "x = df[[\"danceability_%\",\"valence_%\",\"energy_%\",\"acousticness_%\",\"instrumentalness_%\",\"liveness_%\",\"speechiness_%\"]]\n",
        "\n",
        "\n",
        "# Add a constant to the model (statsmodels doesn't do this by default)\n",
        "x_with_constant = sm.add_constant(x)\n",
        "\n",
        "# Create and Fit the initial model # y = m x + b\n",
        "model = sm.OLS(y, x_with_constant).fit()\n",
        "\n",
        "# Make predictions with the model\n",
        "y_pred = model.predict(x_with_constant)\n",
        "\n",
        "y_pred\n",
        "# Visualize the Prediction\n",
        "plt.scatter(x=df['streams'], y=y, alpha=0.5,label='Actual')\n",
        "plt.scatter(x=df['streams'], y=y_pred, alpha=0.5, label='Prediction')\n",
        "plt.legend()\n",
        "plt.xlabel(\"'Song's Attributes'\")\n",
        "plt.ylabel('streams')\n",
        "plt.title('Actual vs Predicted Scatter Plot')"
      ]
    },
    {
      "cell_type": "markdown",
      "metadata": {
        "id": "P_uR0_vo4IJR"
      },
      "source": [
        "#Platform comparison: Compare the song's popularity across different music platforms.\n",
        "#Cross-platform presence: Investigate how songs perform across different streaming services.\n",
        "\n"
      ]
    },
    {
      "cell_type": "code",
      "execution_count": null,
      "metadata": {
        "colab": {
          "base_uri": "https://localhost:8080/"
        },
        "id": "aAOo9s9Chdi0",
        "outputId": "1981adb1-2b06-4e46-f519-0d753d563a6e"
      },
      "outputs": [
        {
          "name": "stdout",
          "output_type": "stream",
          "text": [
            "<class 'pandas.core.frame.DataFrame'>\n",
            "RangeIndex: 953 entries, 0 to 952\n",
            "Data columns (total 24 columns):\n",
            " #   Column                Non-Null Count  Dtype \n",
            "---  ------                --------------  ----- \n",
            " 0   track_name            953 non-null    object\n",
            " 1   artist(s)_name        953 non-null    object\n",
            " 2   artist_count          953 non-null    int64 \n",
            " 3   released_year         953 non-null    int64 \n",
            " 4   released_month        953 non-null    int64 \n",
            " 5   released_day          953 non-null    int64 \n",
            " 6   in_spotify_playlists  953 non-null    int64 \n",
            " 7   in_spotify_charts     953 non-null    int64 \n",
            " 8   streams               953 non-null    object\n",
            " 9   in_apple_playlists    953 non-null    int64 \n",
            " 10  in_apple_charts       953 non-null    int64 \n",
            " 11  in_deezer_playlists   953 non-null    object\n",
            " 12  in_deezer_charts      953 non-null    int64 \n",
            " 13  in_shazam_charts      903 non-null    object\n",
            " 14  bpm                   953 non-null    int64 \n",
            " 15  key                   858 non-null    object\n",
            " 16  mode                  953 non-null    object\n",
            " 17  danceability_%        953 non-null    int64 \n",
            " 18  valence_%             953 non-null    int64 \n",
            " 19  energy_%              953 non-null    int64 \n",
            " 20  acousticness_%        953 non-null    int64 \n",
            " 21  instrumentalness_%    953 non-null    int64 \n",
            " 22  liveness_%            953 non-null    int64 \n",
            " 23  speechiness_%         953 non-null    int64 \n",
            "dtypes: int64(17), object(7)\n",
            "memory usage: 178.8+ KB\n"
          ]
        }
      ],
      "source": [
        "df.info()"
      ]
    },
    {
      "cell_type": "code",
      "execution_count": null,
      "metadata": {
        "colab": {
          "base_uri": "https://localhost:8080/"
        },
        "id": "Cd6KNr3NiDm9",
        "outputId": "09f01ec2-5314-48c5-e97f-fc5f5814ba62"
      },
      "outputs": [
        {
          "data": {
            "text/plain": [
              "count     953.000000\n",
              "mean     2018.238195\n",
              "std        11.116218\n",
              "min      1930.000000\n",
              "25%      2020.000000\n",
              "50%      2022.000000\n",
              "75%      2022.000000\n",
              "max      2023.000000\n",
              "Name: released_year, dtype: float64"
            ]
          },
          "execution_count": 38,
          "metadata": {},
          "output_type": "execute_result"
        }
      ],
      "source": [
        "df['released_year'].describe()"
      ]
    },
    {
      "cell_type": "markdown",
      "metadata": {},
      "source": [
        "## STEP 0:  Determine V ariables Needed"
      ]
    },
    {
      "cell_type": "code",
      "execution_count": null,
      "metadata": {
        "colab": {
          "base_uri": "https://localhost:8080/",
          "height": 226
        },
        "id": "gHSfjW4_iCNf",
        "outputId": "b89324c5-dc5f-4f67-f994-be86398a7971"
      },
      "outputs": [
        {
          "data": {
            "text/html": [
              "<div>\n",
              "<style scoped>\n",
              "    .dataframe tbody tr th:only-of-type {\n",
              "        vertical-align: middle;\n",
              "    }\n",
              "\n",
              "    .dataframe tbody tr th {\n",
              "        vertical-align: top;\n",
              "    }\n",
              "\n",
              "    .dataframe thead th {\n",
              "        text-align: right;\n",
              "    }\n",
              "</style>\n",
              "<table border=\"1\" class=\"dataframe\">\n",
              "  <thead>\n",
              "    <tr style=\"text-align: right;\">\n",
              "      <th></th>\n",
              "      <th>artist_count</th>\n",
              "      <th>released_year</th>\n",
              "      <th>released_month</th>\n",
              "      <th>in_spotify_playlists</th>\n",
              "      <th>streams</th>\n",
              "      <th>in_shazam_charts</th>\n",
              "      <th>bpm</th>\n",
              "      <th>key</th>\n",
              "      <th>mode</th>\n",
              "      <th>danceability_%</th>\n",
              "      <th>valence_%</th>\n",
              "      <th>energy_%</th>\n",
              "      <th>acousticness_%</th>\n",
              "      <th>instrumentalness_%</th>\n",
              "      <th>liveness_%</th>\n",
              "      <th>speechiness_%</th>\n",
              "    </tr>\n",
              "  </thead>\n",
              "  <tbody>\n",
              "    <tr>\n",
              "      <th>0</th>\n",
              "      <td>2</td>\n",
              "      <td>2023</td>\n",
              "      <td>7</td>\n",
              "      <td>553</td>\n",
              "      <td>141381703</td>\n",
              "      <td>826</td>\n",
              "      <td>125</td>\n",
              "      <td>B</td>\n",
              "      <td>Major</td>\n",
              "      <td>80</td>\n",
              "      <td>89</td>\n",
              "      <td>83</td>\n",
              "      <td>31</td>\n",
              "      <td>0</td>\n",
              "      <td>8</td>\n",
              "      <td>4</td>\n",
              "    </tr>\n",
              "    <tr>\n",
              "      <th>1</th>\n",
              "      <td>1</td>\n",
              "      <td>2023</td>\n",
              "      <td>3</td>\n",
              "      <td>1474</td>\n",
              "      <td>133716286</td>\n",
              "      <td>382</td>\n",
              "      <td>92</td>\n",
              "      <td>C#</td>\n",
              "      <td>Major</td>\n",
              "      <td>71</td>\n",
              "      <td>61</td>\n",
              "      <td>74</td>\n",
              "      <td>7</td>\n",
              "      <td>0</td>\n",
              "      <td>10</td>\n",
              "      <td>4</td>\n",
              "    </tr>\n",
              "    <tr>\n",
              "      <th>2</th>\n",
              "      <td>1</td>\n",
              "      <td>2023</td>\n",
              "      <td>6</td>\n",
              "      <td>1397</td>\n",
              "      <td>140003974</td>\n",
              "      <td>949</td>\n",
              "      <td>138</td>\n",
              "      <td>F</td>\n",
              "      <td>Major</td>\n",
              "      <td>51</td>\n",
              "      <td>32</td>\n",
              "      <td>53</td>\n",
              "      <td>17</td>\n",
              "      <td>0</td>\n",
              "      <td>31</td>\n",
              "      <td>6</td>\n",
              "    </tr>\n",
              "    <tr>\n",
              "      <th>4</th>\n",
              "      <td>1</td>\n",
              "      <td>2023</td>\n",
              "      <td>5</td>\n",
              "      <td>3133</td>\n",
              "      <td>303236322</td>\n",
              "      <td>425</td>\n",
              "      <td>144</td>\n",
              "      <td>A</td>\n",
              "      <td>Minor</td>\n",
              "      <td>65</td>\n",
              "      <td>23</td>\n",
              "      <td>80</td>\n",
              "      <td>14</td>\n",
              "      <td>63</td>\n",
              "      <td>11</td>\n",
              "      <td>6</td>\n",
              "    </tr>\n",
              "    <tr>\n",
              "      <th>5</th>\n",
              "      <td>2</td>\n",
              "      <td>2023</td>\n",
              "      <td>6</td>\n",
              "      <td>2186</td>\n",
              "      <td>183706234</td>\n",
              "      <td>946</td>\n",
              "      <td>141</td>\n",
              "      <td>C#</td>\n",
              "      <td>Major</td>\n",
              "      <td>92</td>\n",
              "      <td>66</td>\n",
              "      <td>58</td>\n",
              "      <td>19</td>\n",
              "      <td>0</td>\n",
              "      <td>8</td>\n",
              "      <td>24</td>\n",
              "    </tr>\n",
              "  </tbody>\n",
              "</table>\n",
              "</div>"
            ],
            "text/plain": [
              "   artist_count  released_year  released_month  in_spotify_playlists  \\\n",
              "0             2           2023               7                   553   \n",
              "1             1           2023               3                  1474   \n",
              "2             1           2023               6                  1397   \n",
              "4             1           2023               5                  3133   \n",
              "5             2           2023               6                  2186   \n",
              "\n",
              "     streams in_shazam_charts  bpm key   mode  danceability_%  valence_%  \\\n",
              "0  141381703              826  125   B  Major              80         89   \n",
              "1  133716286              382   92  C#  Major              71         61   \n",
              "2  140003974              949  138   F  Major              51         32   \n",
              "4  303236322              425  144   A  Minor              65         23   \n",
              "5  183706234              946  141  C#  Major              92         66   \n",
              "\n",
              "   energy_%  acousticness_%  instrumentalness_%  liveness_%  speechiness_%  \n",
              "0        83              31                   0           8              4  \n",
              "1        74               7                   0          10              4  \n",
              "2        53              17                   0          31              6  \n",
              "4        80              14                  63          11              6  \n",
              "5        58              19                   0           8             24  "
            ]
          },
          "execution_count": 67,
          "metadata": {},
          "output_type": "execute_result"
        }
      ],
      "source": [
        "#remove all x variables that are not relevant to our research question\n",
        "unwanted_column = ['track_name', 'artist(s)_name', 'in_spotify_charts', 'released_day','in_apple_playlists', 'in_apple_charts', 'in_deezer_playlists', 'in_deezer_charts']\n",
        "wanted_df = df.drop(columns=unwanted_column).query(\"released_year >= 2020\").dropna()\n",
        "wanted_df.head()"
      ]
    },
    {
      "cell_type": "code",
      "execution_count": null,
      "metadata": {
        "colab": {
          "base_uri": "https://localhost:8080/"
        },
        "id": "MzMTTq-5r8h0",
        "outputId": "cf01b916-2bec-4b0d-951e-6ae522b1d410"
      },
      "outputs": [
        {
          "data": {
            "text/plain": [
              "(636, 16)"
            ]
          },
          "execution_count": 18,
          "metadata": {},
          "output_type": "execute_result"
        }
      ],
      "source": [
        "wanted_df.shape"
      ]
    },
    {
      "cell_type": "code",
      "execution_count": null,
      "metadata": {
        "colab": {
          "base_uri": "https://localhost:8080/"
        },
        "id": "LYZo8i3UichU",
        "outputId": "5758ba05-2d52-4215-dd09-d5f9babb3d03"
      },
      "outputs": [
        {
          "name": "stdout",
          "output_type": "stream",
          "text": [
            "<class 'pandas.core.frame.DataFrame'>\n",
            "Index: 636 entries, 0 to 952\n",
            "Data columns (total 16 columns):\n",
            " #   Column                Non-Null Count  Dtype \n",
            "---  ------                --------------  ----- \n",
            " 0   artist_count          636 non-null    int64 \n",
            " 1   released_year         636 non-null    int64 \n",
            " 2   released_month        636 non-null    int64 \n",
            " 3   in_spotify_playlists  636 non-null    int64 \n",
            " 4   streams               636 non-null    object\n",
            " 5   in_shazam_charts      636 non-null    object\n",
            " 6   bpm                   636 non-null    int64 \n",
            " 7   key                   636 non-null    object\n",
            " 8   mode                  636 non-null    object\n",
            " 9   danceability_%        636 non-null    int64 \n",
            " 10  valence_%             636 non-null    int64 \n",
            " 11  energy_%              636 non-null    int64 \n",
            " 12  acousticness_%        636 non-null    int64 \n",
            " 13  instrumentalness_%    636 non-null    int64 \n",
            " 14  liveness_%            636 non-null    int64 \n",
            " 15  speechiness_%         636 non-null    int64 \n",
            "dtypes: int64(12), object(4)\n",
            "memory usage: 84.5+ KB\n"
          ]
        }
      ],
      "source": [
        "wanted_df.info()"
      ]
    },
    {
      "cell_type": "markdown",
      "metadata": {
        "id": "a8zyvQKLk6jL"
      },
      "source": [
        "## STEP 1: Individual Variable Exploration"
      ]
    },
    {
      "cell_type": "markdown",
      "metadata": {},
      "source": [
        "### # Artist Count\n"
      ]
    },
    {
      "cell_type": "code",
      "execution_count": null,
      "metadata": {
        "colab": {
          "base_uri": "https://localhost:8080/",
          "height": 586
        },
        "id": "paFMuRzWkvJI",
        "outputId": "6c7d713e-cca5-4517-e351-5dde0ced5cc1"
      },
      "outputs": [
        {
          "data": {
            "text/plain": [
              "count    636.000000\n",
              "mean       1.650943\n",
              "std        0.927709\n",
              "min        1.000000\n",
              "25%        1.000000\n",
              "50%        1.000000\n",
              "75%        2.000000\n",
              "max        8.000000\n",
              "Name: artist_count, dtype: float64"
            ]
          },
          "execution_count": 68,
          "metadata": {},
          "output_type": "execute_result"
        },
        {
          "data": {
            "image/png": "[encoded data removed]",
            "text/plain": [
              "<Figure size 640x480 with 1 Axes>"
            ]
          },
          "metadata": {},
          "output_type": "display_data"
        }
      ],
      "source": [
        "# Graphical representation\n",
        "wanted_df['artist_count'].plot(kind='hist')\n",
        "\n",
        "# numerical description with stats\n",
        "wanted_df['artist_count'].describe()"
      ]
    },
    {
      "cell_type": "code",
      "execution_count": null,
      "metadata": {
        "id": "-2NrL7pxliJ2"
      },
      "outputs": [],
      "source": [
        "# Converting the column into categorical (binary), using the 75th percentile as the cutoff\n",
        "wanted_df['Singles'] = wanted_df['artist_count'].apply(\n",
        "    lambda x: 1 if x < 2 else 0)"
      ]
    },
    {
      "cell_type": "code",
      "execution_count": null,
      "metadata": {
        "colab": {
          "base_uri": "https://localhost:8080/",
          "height": 541
        },
        "id": "vaAyauIxqydA",
        "outputId": "3e792296-1cf6-4c24-bf3a-d4cf81ec561d"
      },
      "outputs": [
        {
          "name": "stdout",
          "output_type": "stream",
          "text": [
            "         count  proportion\n",
            "Singles                   \n",
            "1          352   55.345912\n",
            "0          284   44.654088\n"
          ]
        },
        {
          "data": {
            "image/png": "[encoded data removed]",
            "text/plain": [
              "<Figure size 640x480 with 1 Axes>"
            ]
          },
          "metadata": {},
          "output_type": "display_data"
        }
      ],
      "source": [
        "#rename artist count as a categorical variable\n",
        "#Not single (no collaboration) - 0 (true) \n",
        "#Single (individual) - 1 (true)\n",
        "\n",
        "col1 = wanted_df['Singles'].value_counts()\n",
        "col2 = wanted_df['Singles'].value_counts(normalize=True) * 100\n",
        "df2 = pd.concat([col1, col2], axis=1)\n",
        "print(df2)\n",
        "\n",
        "#visual analysis\n",
        "wanted_df['Singles'].value_counts().plot(kind='bar')\n",
        "plt.title('Distribution of Singles')\n",
        "plt.xlabel('Singles')\n",
        "plt.ylabel('Count')\n",
        "plt.show()"
      ]
    },
    {
      "cell_type": "code",
      "execution_count": null,
      "metadata": {
        "colab": {
          "base_uri": "https://localhost:8080/",
          "height": 586
        },
        "id": "hUFn9vPSmbe1",
        "outputId": "cbe3c390-01b3-4ba3-ab96-a94f07a0b512"
      },
      "outputs": [
        {
          "data": {
            "text/plain": [
              "count    636.000000\n",
              "mean       6.132075\n",
              "std        3.407011\n",
              "min        1.000000\n",
              "25%        3.000000\n",
              "50%        5.000000\n",
              "75%        9.000000\n",
              "max       12.000000\n",
              "Name: released_month, dtype: float64"
            ]
          },
          "execution_count": 71,
          "metadata": {},
          "output_type": "execute_result"
        },
        {
          "data": {
            "image/png": "[encoded data removed]",
            "text/plain": [
              "<Figure size 640x480 with 1 Axes>"
            ]
          },
          "metadata": {},
          "output_type": "display_data"
        }
      ],
      "source": [
        "# Graphical representation\n",
        "wanted_df['released_month'].plot(kind='hist')\n",
        "\n",
        "# numerical description with stats\n",
        "wanted_df['released_month'].describe()"
      ]
    },
    {
      "cell_type": "markdown",
      "metadata": {},
      "source": [
        "### in_spotify_playlists': Presence and rank of the song on Spotify charts (dropped) "
      ]
    },
    {
      "cell_type": "markdown",
      "metadata": {},
      "source": []
    },
    {
      "cell_type": "code",
      "execution_count": null,
      "metadata": {
        "id": "3emS_vytm-sW"
      },
      "outputs": [],
      "source": [
        "# Converting in_spotify_playlists into numerical values\n",
        "wanted_df['in_spotify_playlists'] = pd.to_numeric(wanted_df['in_spotify_playlists'])"
      ]
    },
    {
      "cell_type": "code",
      "execution_count": null,
      "metadata": {
        "colab": {
          "base_uri": "https://localhost:8080/",
          "height": 586
        },
        "id": "hJ6iBKdIknnp",
        "outputId": "134a1685-957d-4270-ae32-fe7a9fc5689b"
      },
      "outputs": [
        {
          "data": {
            "text/plain": [
              "count      636.000000\n",
              "mean      2330.551887\n",
              "std       2523.941434\n",
              "min         31.000000\n",
              "25%        709.750000\n",
              "50%       1462.500000\n",
              "75%       2989.750000\n",
              "max      17050.000000\n",
              "Name: in_spotify_playlists, dtype: float64"
            ]
          },
          "execution_count": 73,
          "metadata": {},
          "output_type": "execute_result"
        },
        {
          "data": {
            "image/png": "[encoded data removed]",
            "text/plain": [
              "<Figure size 640x480 with 1 Axes>"
            ]
          },
          "metadata": {},
          "output_type": "display_data"
        }
      ],
      "source": [
        "# Graphical representation\n",
        "wanted_df['in_spotify_playlists'].plot(kind='hist')\n",
        "\n",
        "# numerical description with stats\n",
        "wanted_df['in_spotify_playlists'].describe()"
      ]
    },
    {
      "cell_type": "code",
      "execution_count": null,
      "metadata": {
        "colab": {
          "base_uri": "https://localhost:8080/",
          "height": 586
        },
        "id": "TpwOr-GuCHBQ",
        "outputId": "d8bbde84-59fc-4922-ac37-898e92f76b48"
      },
      "outputs": [
        {
          "data": {
            "text/plain": [
              "count    636.000000\n",
              "mean     122.822327\n",
              "std       27.936117\n",
              "min       65.000000\n",
              "25%      100.000000\n",
              "50%      121.000000\n",
              "75%      140.000000\n",
              "max      204.000000\n",
              "Name: bpm, dtype: float64"
            ]
          },
          "execution_count": 74,
          "metadata": {},
          "output_type": "execute_result"
        },
        {
          "data": {
            "image/png": "[encoded data removed]",
            "text/plain": [
              "<Figure size 640x480 with 1 Axes>"
            ]
          },
          "metadata": {},
          "output_type": "display_data"
        }
      ],
      "source": [
        "# Graphical representation\n",
        "wanted_df['bpm'].plot(kind='hist')\n",
        "\n",
        "# numerical description with stats\n",
        "wanted_df['bpm'].describe()"
      ]
    },
    {
      "cell_type": "markdown",
      "metadata": {},
      "source": [
        "### bpm: Beats per minute, a measure of song tempo\n"
      ]
    },
    {
      "cell_type": "code",
      "execution_count": null,
      "metadata": {
        "id": "lqOS82pOo8Zz"
      },
      "outputs": [],
      "source": [
        "# Converting the column into categorical (binary), using the 75th percentile as the cutoff\n",
        "wanted_df['Speed'] = wanted_df['bpm'].apply(\n",
        "    lambda x: \"slow\" if 64 < x < 81 else \"moderate\" if 80 < x < 111 else \"fast\" if 110 < x < 146 else \"extremely fast\")"
      ]
    },
    {
      "cell_type": "code",
      "execution_count": null,
      "metadata": {
        "colab": {
          "base_uri": "https://localhost:8080/",
          "height": 667
        },
        "id": "_osux7YOqkOI",
        "outputId": "51cb8d84-a07d-4c60-f03e-5eb123934bb1"
      },
      "outputs": [
        {
          "name": "stdout",
          "output_type": "stream",
          "text": [
            "                count  proportion\n",
            "Speed                            \n",
            "fast              267   41.981132\n",
            "moderate          217   34.119497\n",
            "extremely fast    125   19.654088\n",
            "slow               27    4.245283\n"
          ]
        },
        {
          "data": {
            "image/png": "[encoded data removed]",
            "text/plain": [
              "<Figure size 640x480 with 1 Axes>"
            ]
          },
          "metadata": {},
          "output_type": "display_data"
        }
      ],
      "source": [
        "col1 = wanted_df['Speed'].value_counts()\n",
        "col2 = wanted_df['Speed'].value_counts(normalize=True) * 100\n",
        "df2 = pd.concat([col1, col2], axis=1)\n",
        "print(df2)\n",
        "\n",
        "#visual analysis\n",
        "wanted_df['Speed'].value_counts().plot(kind='bar')\n",
        "plt.title('Distribution of Speed')\n",
        "plt.xlabel('Speed')\n",
        "plt.ylabel('Count')\n",
        "plt.show()"
      ]
    },
    {
      "cell_type": "markdown",
      "metadata": {},
      "source": [
        "### key: Key of the song, represents the pitch"
      ]
    },
    {
      "cell_type": "code",
      "execution_count": null,
      "metadata": {
        "colab": {
          "base_uri": "https://localhost:8080/",
          "height": 226
        },
        "id": "rHPjfRSIq-wp",
        "outputId": "f16de3e2-c804-43db-e9ed-591f743deef8"
      },
      "outputs": [
        {
          "data": {
            "application/vnd.google.colaboratory.intrinsic+json": {
              "summary": "{\n  \"name\": \"wanted_df\",\n  \"rows\": 733,\n  \"fields\": [\n    {\n      \"column\": \"artist_count\",\n      \"properties\": {\n        \"dtype\": \"number\",\n        \"std\": 0,\n        \"min\": 1,\n        \"max\": 8,\n        \"num_unique_values\": 8,\n        \"samples\": [\n          1,\n          5,\n          2\n        ],\n        \"semantic_type\": \"\",\n        \"description\": \"\"\n      }\n    },\n    {\n      \"column\": \"released_year\",\n      \"properties\": {\n        \"dtype\": \"number\",\n        \"std\": 0,\n        \"min\": 2020,\n        \"max\": 2023,\n        \"num_unique_values\": 4,\n        \"samples\": [\n          2022,\n          2021,\n          2023\n        ],\n        \"semantic_type\": \"\",\n        \"description\": \"\"\n      }\n    },\n    {\n      \"column\": \"released_month\",\n      \"properties\": {\n        \"dtype\": \"number\",\n        \"std\": 3,\n        \"min\": 1,\n        \"max\": 12,\n        \"num_unique_values\": 12,\n        \"samples\": [\n          11,\n          8,\n          7\n        ],\n        \"semantic_type\": \"\",\n        \"description\": \"\"\n      }\n    },\n    {\n      \"column\": \"in_spotify_playlists\",\n      \"properties\": {\n        \"dtype\": \"number\",\n        \"std\": 3013,\n        \"min\": 31,\n        \"max\": 23575,\n        \"num_unique_values\": 667,\n        \"samples\": [\n          481,\n          8186,\n          1613\n        ],\n        \"semantic_type\": \"\",\n        \"description\": \"\"\n      }\n    },\n    {\n      \"column\": \"in_spotify_charts\",\n      \"properties\": {\n        \"dtype\": \"number\",\n        \"std\": 19,\n        \"min\": 0,\n        \"max\": 147,\n        \"num_unique_values\": 74,\n        \"samples\": [\n          91,\n          14,\n          87\n        ],\n        \"semantic_type\": \"\",\n        \"description\": \"\"\n      }\n    },\n    {\n      \"column\": \"streams\",\n      \"properties\": {\n        \"dtype\": \"string\",\n        \"num_unique_values\": 730,\n        \"samples\": [\n          \"465959382\",\n          \"532336353\",\n          \"184308753\"\n        ],\n        \"semantic_type\": \"\",\n        \"description\": \"\"\n      }\n    },\n    {\n      \"column\": \"in_shazam_charts\",\n      \"properties\": {\n        \"dtype\": \"category\",\n        \"num_unique_values\": 164,\n        \"samples\": [\n          \"58\",\n          \"36\",\n          \"38\"\n        ],\n        \"semantic_type\": \"\",\n        \"description\": \"\"\n      }\n    },\n    {\n      \"column\": \"bpm\",\n      \"properties\": {\n        \"dtype\": \"number\",\n        \"std\": 28,\n        \"min\": 65,\n        \"max\": 206,\n        \"num_unique_values\": 122,\n        \"samples\": [\n          133,\n          88,\n          93\n        ],\n        \"semantic_type\": \"\",\n        \"description\": \"\"\n      }\n    },\n    {\n      \"column\": \"key\",\n      \"properties\": {\n        \"dtype\": \"category\",\n        \"num_unique_values\": 11,\n        \"samples\": [\n          \"F#\",\n          \"B\",\n          \"A#\"\n        ],\n        \"semantic_type\": \"\",\n        \"description\": \"\"\n      }\n    },\n    {\n      \"column\": \"mode\",\n      \"properties\": {\n        \"dtype\": \"category\",\n        \"num_unique_values\": 2,\n        \"samples\": [\n          \"Minor\",\n          \"Major\"\n        ],\n        \"semantic_type\": \"\",\n        \"description\": \"\"\n      }\n    },\n    {\n      \"column\": \"danceability_%\",\n      \"properties\": {\n        \"dtype\": \"number\",\n        \"std\": 13,\n        \"min\": 25,\n        \"max\": 96,\n        \"num_unique_values\": 69,\n        \"samples\": [\n          53,\n          80\n        ],\n        \"semantic_type\": \"\",\n        \"description\": \"\"\n      }\n    },\n    {\n      \"column\": \"valence_%\",\n      \"properties\": {\n        \"dtype\": \"number\",\n        \"std\": 23,\n        \"min\": 4,\n        \"max\": 97,\n        \"num_unique_values\": 93,\n        \"samples\": [\n          40,\n          35\n        ],\n        \"semantic_type\": \"\",\n        \"description\": \"\"\n      }\n    },\n    {\n      \"column\": \"energy_%\",\n      \"properties\": {\n        \"dtype\": \"number\",\n        \"std\": 16,\n        \"min\": 9,\n        \"max\": 97,\n        \"num_unique_values\": 76,\n        \"samples\": [\n          58,\n          47\n        ],\n        \"semantic_type\": \"\",\n        \"description\": \"\"\n      }\n    },\n    {\n      \"column\": \"acousticness_%\",\n      \"properties\": {\n        \"dtype\": \"number\",\n        \"std\": 24,\n        \"min\": 0,\n        \"max\": 97,\n        \"num_unique_values\": 97,\n        \"samples\": [\n          41,\n          44\n        ],\n        \"semantic_type\": \"\",\n        \"description\": \"\"\n      }\n    },\n    {\n      \"column\": \"instrumentalness_%\",\n      \"properties\": {\n        \"dtype\": \"number\",\n        \"std\": 7,\n        \"min\": 0,\n        \"max\": 90,\n        \"num_unique_values\": 27,\n        \"samples\": [\n          4,\n          2\n        ],\n        \"semantic_type\": \"\",\n        \"description\": \"\"\n      }\n    },\n    {\n      \"column\": \"liveness_%\",\n      \"properties\": {\n        \"dtype\": \"number\",\n        \"std\": 14,\n        \"min\": 3,\n        \"max\": 97,\n        \"num_unique_values\": 64,\n        \"samples\": [\n          92,\n          46\n        ],\n        \"semantic_type\": \"\",\n        \"description\": \"\"\n      }\n    },\n    {\n      \"column\": \"speechiness_%\",\n      \"properties\": {\n        \"dtype\": \"number\",\n        \"std\": 10,\n        \"min\": 2,\n        \"max\": 64,\n        \"num_unique_values\": 48,\n        \"samples\": [\n          64,\n          18\n        ],\n        \"semantic_type\": \"\",\n        \"description\": \"\"\n      }\n    },\n    {\n      \"column\": \"Singles\",\n      \"properties\": {\n        \"dtype\": \"number\",\n        \"std\": 0,\n        \"min\": 0,\n        \"max\": 1,\n        \"num_unique_values\": 2,\n        \"samples\": [\n          1,\n          0\n        ],\n        \"semantic_type\": \"\",\n        \"description\": \"\"\n      }\n    },\n    {\n      \"column\": \"Speed\",\n      \"properties\": {\n        \"dtype\": \"category\",\n        \"num_unique_values\": 4,\n        \"samples\": [\n          \"moderate\",\n          \"slow\"\n        ],\n        \"semantic_type\": \"\",\n        \"description\": \"\"\n      }\n    }\n  ]\n}",
              "type": "dataframe",
              "variable_name": "wanted_df"
            },
            "text/html": [
              "\n",
              "  <div id=\"df-7c0e6b75-05fe-4883-bfd2-e2ea4deb06c8\" class=\"colab-df-container\">\n",
              "    <div>\n",
              "<style scoped>\n",
              "    .dataframe tbody tr th:only-of-type {\n",
              "        vertical-align: middle;\n",
              "    }\n",
              "\n",
              "    .dataframe tbody tr th {\n",
              "        vertical-align: top;\n",
              "    }\n",
              "\n",
              "    .dataframe thead th {\n",
              "        text-align: right;\n",
              "    }\n",
              "</style>\n",
              "<table border=\"1\" class=\"dataframe\">\n",
              "  <thead>\n",
              "    <tr style=\"text-align: right;\">\n",
              "      <th></th>\n",
              "      <th>artist_count</th>\n",
              "      <th>released_year</th>\n",
              "      <th>released_month</th>\n",
              "      <th>in_spotify_playlists</th>\n",
              "      <th>in_spotify_charts</th>\n",
              "      <th>streams</th>\n",
              "      <th>in_shazam_charts</th>\n",
              "      <th>bpm</th>\n",
              "      <th>key</th>\n",
              "      <th>mode</th>\n",
              "      <th>danceability_%</th>\n",
              "      <th>valence_%</th>\n",
              "      <th>energy_%</th>\n",
              "      <th>acousticness_%</th>\n",
              "      <th>instrumentalness_%</th>\n",
              "      <th>liveness_%</th>\n",
              "      <th>speechiness_%</th>\n",
              "      <th>Singles</th>\n",
              "      <th>Speed</th>\n",
              "    </tr>\n",
              "  </thead>\n",
              "  <tbody>\n",
              "    <tr>\n",
              "      <th>0</th>\n",
              "      <td>2</td>\n",
              "      <td>2023</td>\n",
              "      <td>7</td>\n",
              "      <td>553</td>\n",
              "      <td>147</td>\n",
              "      <td>141381703</td>\n",
              "      <td>826</td>\n",
              "      <td>125</td>\n",
              "      <td>B</td>\n",
              "      <td>Major</td>\n",
              "      <td>80</td>\n",
              "      <td>89</td>\n",
              "      <td>83</td>\n",
              "      <td>31</td>\n",
              "      <td>0</td>\n",
              "      <td>8</td>\n",
              "      <td>4</td>\n",
              "      <td>0</td>\n",
              "      <td>fast</td>\n",
              "    </tr>\n",
              "    <tr>\n",
              "      <th>1</th>\n",
              "      <td>1</td>\n",
              "      <td>2023</td>\n",
              "      <td>3</td>\n",
              "      <td>1474</td>\n",
              "      <td>48</td>\n",
              "      <td>133716286</td>\n",
              "      <td>382</td>\n",
              "      <td>92</td>\n",
              "      <td>C#</td>\n",
              "      <td>Major</td>\n",
              "      <td>71</td>\n",
              "      <td>61</td>\n",
              "      <td>74</td>\n",
              "      <td>7</td>\n",
              "      <td>0</td>\n",
              "      <td>10</td>\n",
              "      <td>4</td>\n",
              "      <td>1</td>\n",
              "      <td>moderate</td>\n",
              "    </tr>\n",
              "    <tr>\n",
              "      <th>2</th>\n",
              "      <td>1</td>\n",
              "      <td>2023</td>\n",
              "      <td>6</td>\n",
              "      <td>1397</td>\n",
              "      <td>113</td>\n",
              "      <td>140003974</td>\n",
              "      <td>949</td>\n",
              "      <td>138</td>\n",
              "      <td>F</td>\n",
              "      <td>Major</td>\n",
              "      <td>51</td>\n",
              "      <td>32</td>\n",
              "      <td>53</td>\n",
              "      <td>17</td>\n",
              "      <td>0</td>\n",
              "      <td>31</td>\n",
              "      <td>6</td>\n",
              "      <td>1</td>\n",
              "      <td>fast</td>\n",
              "    </tr>\n",
              "    <tr>\n",
              "      <th>4</th>\n",
              "      <td>1</td>\n",
              "      <td>2023</td>\n",
              "      <td>5</td>\n",
              "      <td>3133</td>\n",
              "      <td>50</td>\n",
              "      <td>303236322</td>\n",
              "      <td>425</td>\n",
              "      <td>144</td>\n",
              "      <td>A</td>\n",
              "      <td>Minor</td>\n",
              "      <td>65</td>\n",
              "      <td>23</td>\n",
              "      <td>80</td>\n",
              "      <td>14</td>\n",
              "      <td>63</td>\n",
              "      <td>11</td>\n",
              "      <td>6</td>\n",
              "      <td>1</td>\n",
              "      <td>fast</td>\n",
              "    </tr>\n",
              "    <tr>\n",
              "      <th>5</th>\n",
              "      <td>2</td>\n",
              "      <td>2023</td>\n",
              "      <td>6</td>\n",
              "      <td>2186</td>\n",
              "      <td>91</td>\n",
              "      <td>183706234</td>\n",
              "      <td>946</td>\n",
              "      <td>141</td>\n",
              "      <td>C#</td>\n",
              "      <td>Major</td>\n",
              "      <td>92</td>\n",
              "      <td>66</td>\n",
              "      <td>58</td>\n",
              "      <td>19</td>\n",
              "      <td>0</td>\n",
              "      <td>8</td>\n",
              "      <td>24</td>\n",
              "      <td>0</td>\n",
              "      <td>fast</td>\n",
              "    </tr>\n",
              "  </tbody>\n",
              "</table>\n",
              "</div>\n",
              "    <div class=\"colab-df-buttons\">\n",
              "\n",
              "  <div class=\"colab-df-container\">\n",
              "    <button class=\"colab-df-convert\" onclick=\"convertToInteractive('df-7c0e6b75-05fe-4883-bfd2-e2ea4deb06c8')\"\n",
              "            title=\"Convert this dataframe to an interactive table.\"\n",
              "            style=\"display:none;\">\n",
              "\n",
              "  <svg xmlns=\"http://www.w3.org/2000/svg\" height=\"24px\" viewBox=\"0 -960 960 960\">\n",
              "    <path d=\"M120-120v-720h720v720H120Zm60-500h600v-160H180v160Zm220 220h160v-160H400v160Zm0 220h160v-160H400v160ZM180-400h160v-160H180v160Zm440 0h160v-160H620v160ZM180-180h160v-160H180v160Zm440 0h160v-160H620v160Z\"/>\n",
              "  </svg>\n",
              "    </button>\n",
              "\n",
              "  <style>\n",
              "    .colab-df-container {\n",
              "      display:flex;\n",
              "      gap: 12px;\n",
              "    }\n",
              "\n",
              "    .colab-df-convert {\n",
              "      background-color: #E8F0FE;\n",
              "      border: none;\n",
              "      border-radius: 50%;\n",
              "      cursor: pointer;\n",
              "      display: none;\n",
              "      fill: #1967D2;\n",
              "      height: 32px;\n",
              "      padding: 0 0 0 0;\n",
              "      width: 32px;\n",
              "    }\n",
              "\n",
              "    .colab-df-convert:hover {\n",
              "      background-color: #E2EBFA;\n",
              "      box-shadow: 0px 1px 2px rgba(60, 64, 67, 0.3), 0px 1px 3px 1px rgba(60, 64, 67, 0.15);\n",
              "      fill: #174EA6;\n",
              "    }\n",
              "\n",
              "    .colab-df-buttons div {\n",
              "      margin-bottom: 4px;\n",
              "    }\n",
              "\n",
              "    [theme=dark] .colab-df-convert {\n",
              "      background-color: #3B4455;\n",
              "      fill: #D2E3FC;\n",
              "    }\n",
              "\n",
              "    [theme=dark] .colab-df-convert:hover {\n",
              "      background-color: #434B5C;\n",
              "      box-shadow: 0px 1px 3px 1px rgba(0, 0, 0, 0.15);\n",
              "      filter: drop-shadow(0px 1px 2px rgba(0, 0, 0, 0.3));\n",
              "      fill: #FFFFFF;\n",
              "    }\n",
              "  </style>\n",
              "\n",
              "    <script>\n",
              "      const buttonEl =\n",
              "        document.querySelector('#df-7c0e6b75-05fe-4883-bfd2-e2ea4deb06c8 button.colab-df-convert');\n",
              "      buttonEl.style.display =\n",
              "        google.colab.kernel.accessAllowed ? 'block' : 'none';\n",
              "\n",
              "      async function convertToInteractive(key) {\n",
              "        const element = document.querySelector('#df-7c0e6b75-05fe-4883-bfd2-e2ea4deb06c8');\n",
              "        const dataTable =\n",
              "          await google.colab.kernel.invokeFunction('convertToInteractive',\n",
              "                                                    [key], {});\n",
              "        if (!dataTable) return;\n",
              "\n",
              "        const docLinkHtml = 'Like what you see? Visit the ' +\n",
              "          '<a target=\"_blank\" href=https://colab.research.google.com/notebooks/data_table.ipynb>data table notebook</a>'\n",
              "          + ' to learn more about interactive tables.';\n",
              "        element.innerHTML = '';\n",
              "        dataTable['output_type'] = 'display_data';\n",
              "        await google.colab.output.renderOutput(dataTable, element);\n",
              "        const docLink = document.createElement('div');\n",
              "        docLink.innerHTML = docLinkHtml;\n",
              "        element.appendChild(docLink);\n",
              "      }\n",
              "    </script>\n",
              "  </div>\n",
              "\n",
              "\n",
              "<div id=\"df-8128e117-a012-42fd-943a-6da7b0a09a57\">\n",
              "  <button class=\"colab-df-quickchart\" onclick=\"quickchart('df-8128e117-a012-42fd-943a-6da7b0a09a57')\"\n",
              "            title=\"Suggest charts\"\n",
              "            style=\"display:none;\">\n",
              "\n",
              "<svg xmlns=\"http://www.w3.org/2000/svg\" height=\"24px\"viewBox=\"0 0 24 24\"\n",
              "     width=\"24px\">\n",
              "    <g>\n",
              "        <path d=\"M19 3H5c-1.1 0-2 .9-2 2v14c0 1.1.9 2 2 2h14c1.1 0 2-.9 2-2V5c0-1.1-.9-2-2-2zM9 17H7v-7h2v7zm4 0h-2V7h2v10zm4 0h-2v-4h2v4z\"/>\n",
              "    </g>\n",
              "</svg>\n",
              "  </button>\n",
              "\n",
              "<style>\n",
              "  .colab-df-quickchart {\n",
              "      --bg-color: #E8F0FE;\n",
              "      --fill-color: #1967D2;\n",
              "      --hover-bg-color: #E2EBFA;\n",
              "      --hover-fill-color: #174EA6;\n",
              "      --disabled-fill-color: #AAA;\n",
              "      --disabled-bg-color: #DDD;\n",
              "  }\n",
              "\n",
              "  [theme=dark] .colab-df-quickchart {\n",
              "      --bg-color: #3B4455;\n",
              "      --fill-color: #D2E3FC;\n",
              "      --hover-bg-color: #434B5C;\n",
              "      --hover-fill-color: #FFFFFF;\n",
              "      --disabled-bg-color: #3B4455;\n",
              "      --disabled-fill-color: #666;\n",
              "  }\n",
              "\n",
              "  .colab-df-quickchart {\n",
              "    background-color: var(--bg-color);\n",
              "    border: none;\n",
              "    border-radius: 50%;\n",
              "    cursor: pointer;\n",
              "    display: none;\n",
              "    fill: var(--fill-color);\n",
              "    height: 32px;\n",
              "    padding: 0;\n",
              "    width: 32px;\n",
              "  }\n",
              "\n",
              "  .colab-df-quickchart:hover {\n",
              "    background-color: var(--hover-bg-color);\n",
              "    box-shadow: 0 1px 2px rgba(60, 64, 67, 0.3), 0 1px 3px 1px rgba(60, 64, 67, 0.15);\n",
              "    fill: var(--button-hover-fill-color);\n",
              "  }\n",
              "\n",
              "  .colab-df-quickchart-complete:disabled,\n",
              "  .colab-df-quickchart-complete:disabled:hover {\n",
              "    background-color: var(--disabled-bg-color);\n",
              "    fill: var(--disabled-fill-color);\n",
              "    box-shadow: none;\n",
              "  }\n",
              "\n",
              "  .colab-df-spinner {\n",
              "    border: 2px solid var(--fill-color);\n",
              "    border-color: transparent;\n",
              "    border-bottom-color: var(--fill-color);\n",
              "    animation:\n",
              "      spin 1s steps(1) infinite;\n",
              "  }\n",
              "\n",
              "  @keyframes spin {\n",
              "    0% {\n",
              "      border-color: transparent;\n",
              "      border-bottom-color: var(--fill-color);\n",
              "      border-left-color: var(--fill-color);\n",
              "    }\n",
              "    20% {\n",
              "      border-color: transparent;\n",
              "      border-left-color: var(--fill-color);\n",
              "      border-top-color: var(--fill-color);\n",
              "    }\n",
              "    30% {\n",
              "      border-color: transparent;\n",
              "      border-left-color: var(--fill-color);\n",
              "      border-top-color: var(--fill-color);\n",
              "      border-right-color: var(--fill-color);\n",
              "    }\n",
              "    40% {\n",
              "      border-color: transparent;\n",
              "      border-right-color: var(--fill-color);\n",
              "      border-top-color: var(--fill-color);\n",
              "    }\n",
              "    60% {\n",
              "      border-color: transparent;\n",
              "      border-right-color: var(--fill-color);\n",
              "    }\n",
              "    80% {\n",
              "      border-color: transparent;\n",
              "      border-right-color: var(--fill-color);\n",
              "      border-bottom-color: var(--fill-color);\n",
              "    }\n",
              "    90% {\n",
              "      border-color: transparent;\n",
              "      border-bottom-color: var(--fill-color);\n",
              "    }\n",
              "  }\n",
              "</style>\n",
              "\n",
              "  <script>\n",
              "    async function quickchart(key) {\n",
              "      const quickchartButtonEl =\n",
              "        document.querySelector('#' + key + ' button');\n",
              "      quickchartButtonEl.disabled = true;  // To prevent multiple clicks.\n",
              "      quickchartButtonEl.classList.add('colab-df-spinner');\n",
              "      try {\n",
              "        const charts = await google.colab.kernel.invokeFunction(\n",
              "            'suggestCharts', [key], {});\n",
              "      } catch (error) {\n",
              "        console.error('Error during call to suggestCharts:', error);\n",
              "      }\n",
              "      quickchartButtonEl.classList.remove('colab-df-spinner');\n",
              "      quickchartButtonEl.classList.add('colab-df-quickchart-complete');\n",
              "    }\n",
              "    (() => {\n",
              "      let quickchartButtonEl =\n",
              "        document.querySelector('#df-8128e117-a012-42fd-943a-6da7b0a09a57 button');\n",
              "      quickchartButtonEl.style.display =\n",
              "        google.colab.kernel.accessAllowed ? 'block' : 'none';\n",
              "    })();\n",
              "  </script>\n",
              "</div>\n",
              "\n",
              "    </div>\n",
              "  </div>\n"
            ],
            "text/plain": [
              "   artist_count  released_year  released_month  in_spotify_playlists  \\\n",
              "0             2           2023               7                   553   \n",
              "1             1           2023               3                  1474   \n",
              "2             1           2023               6                  1397   \n",
              "4             1           2023               5                  3133   \n",
              "5             2           2023               6                  2186   \n",
              "\n",
              "   in_spotify_charts    streams in_shazam_charts  bpm key   mode  \\\n",
              "0                147  141381703              826  125   B  Major   \n",
              "1                 48  133716286              382   92  C#  Major   \n",
              "2                113  140003974              949  138   F  Major   \n",
              "4                 50  303236322              425  144   A  Minor   \n",
              "5                 91  183706234              946  141  C#  Major   \n",
              "\n",
              "   danceability_%  valence_%  energy_%  acousticness_%  instrumentalness_%  \\\n",
              "0              80         89        83              31                   0   \n",
              "1              71         61        74               7                   0   \n",
              "2              51         32        53              17                   0   \n",
              "4              65         23        80              14                  63   \n",
              "5              92         66        58              19                   0   \n",
              "\n",
              "   liveness_%  speechiness_%  Singles     Speed  \n",
              "0           8              4        0      fast  \n",
              "1          10              4        1  moderate  \n",
              "2          31              6        1      fast  \n",
              "4          11              6        1      fast  \n",
              "5           8             24        0      fast  "
            ]
          },
          "execution_count": 61,
          "metadata": {},
          "output_type": "execute_result"
        }
      ],
      "source": [
        "wanted_df.head()"
      ]
    },
    {
      "cell_type": "code",
      "execution_count": null,
      "metadata": {
        "colab": {
          "base_uri": "https://localhost:8080/"
        },
        "id": "Rz2Z3SYHCPhR",
        "outputId": "f4625cdd-d07d-422b-c3cb-708791938a3a"
      },
      "outputs": [
        {
          "data": {
            "text/plain": [
              "array(['B', 'C#', 'F', 'A', 'D', 'F#', 'G#', 'G', 'E', 'A#', 'D#'],\n",
              "      dtype=object)"
            ]
          },
          "execution_count": 77,
          "metadata": {},
          "output_type": "execute_result"
        }
      ],
      "source": [
        "wanted_df['key'].unique()"
      ]
    },
    {
      "cell_type": "code",
      "execution_count": null,
      "metadata": {
        "colab": {
          "base_uri": "https://localhost:8080/",
          "height": 711
        },
        "id": "nxJIr6-TCVko",
        "outputId": "be2adf44-c5bd-45a3-ba99-a99959fd7fbf"
      },
      "outputs": [
        {
          "name": "stdout",
          "output_type": "stream",
          "text": [
            "     count  proportion\n",
            "key                   \n",
            "C#      91      14.308\n",
            "G       72      11.321\n",
            "F       69      10.849\n",
            "G#      68      10.692\n",
            "B       60       9.434\n",
            "D       57       8.962\n",
            "F#      56       8.805\n",
            "A       55       8.648\n",
            "A#      45       7.075\n",
            "E       42       6.604\n",
            "D#      21       3.302\n"
          ]
        },
        {
          "data": {
            "image/png": "[encoded data removed]",
            "text/plain": [
              "<Figure size 640x480 with 1 Axes>"
            ]
          },
          "metadata": {},
          "output_type": "display_data"
        }
      ],
      "source": [
        "col1 = wanted_df['key'].value_counts()\n",
        "col2 = wanted_df['key'].value_counts(normalize=True) * 100\n",
        "df2 = pd.concat([col1, col2], axis=1)\n",
        "print(df2)\n",
        "\n",
        "#visual analysis\n",
        "wanted_df['key'].value_counts().plot(kind='bar')\n",
        "plt.title('Distribution of Keys')\n",
        "plt.xlabel('Key')\n",
        "plt.ylabel('Count')\n",
        "plt.show()"
      ]
    },
    {
      "cell_type": "code",
      "execution_count": null,
      "metadata": {
        "id": "elXadYyItRa0"
      },
      "outputs": [],
      "source": [
        "# we decide to categorize the keys based on their emotional attributes\n",
        "def categorize_key(key):\n",
        "    if key in ['D', 'A', 'G']:\n",
        "        return \"Bright and Joyful\"\n",
        "    elif key in ['D#', 'A#', 'E']:\n",
        "        return \"Strong and Heroic\"\n",
        "    elif key in ['F#', 'C#', 'F']:\n",
        "        return \"Lyrical and Somber\"\n",
        "    elif key in ['G#', 'B']:\n",
        "        return \"Rich and Melancholic\"\n",
        "    else:\n",
        "        return \"Uncategorized\"\n",
        "\n",
        "# Apply the function to the 'Key' column to create a new column\n",
        "wanted_df['Emotion'] = wanted_df['key'].apply(categorize_key)"
      ]
    },
    {
      "cell_type": "code",
      "execution_count": null,
      "metadata": {
        "colab": {
          "base_uri": "https://localhost:8080/",
          "height": 714
        },
        "id": "WA-Nw515ukTH",
        "outputId": "e119134f-cfe4-41e6-ce09-1da2a26a6295"
      },
      "outputs": [
        {
          "name": "stdout",
          "output_type": "stream",
          "text": [
            "                      count  proportion\n",
            "Emotion                                \n",
            "Lyrical and Somber      216      33.962\n",
            "Bright and Joyful       184      28.931\n",
            "Rich and Melancholic    128      20.126\n",
            "Strong and Heroic       108      16.981\n"
          ]
        },
        {
          "data": {
            "image/png": "[encoded data removed]",
            "text/plain": [
              "<Figure size 640x480 with 1 Axes>"
            ]
          },
          "metadata": {},
          "output_type": "display_data"
        }
      ],
      "source": [
        "#rename the key column as emotions\n",
        "col1 = wanted_df['Emotion'].value_counts()\n",
        "col2 = wanted_df['Emotion'].value_counts(normalize=True) * 100\n",
        "df2 = pd.concat([col1, col2], axis=1)\n",
        "print(df2)\n",
        "\n",
        "#visual analysis\n",
        "wanted_df['Emotion'].value_counts().plot(kind='bar')\n",
        "plt.title('Distribution of Emotions')\n",
        "plt.xlabel('Emotion')\n",
        "plt.ylabel('Count')\n",
        "plt.show()"
      ]
    },
    {
      "cell_type": "code",
      "execution_count": null,
      "metadata": {
        "colab": {
          "base_uri": "https://localhost:8080/",
          "height": 571
        },
        "id": "Omj7yVoVCrcX",
        "outputId": "907afe2b-7651-4ea3-c8be-f344d4600453"
      },
      "outputs": [
        {
          "name": "stdout",
          "output_type": "stream",
          "text": [
            "       count  proportion\n",
            "mode                    \n",
            "Major    550   57.712487\n",
            "Minor    403   42.287513\n"
          ]
        },
        {
          "data": {
            "image/png": "[encoded data removed]",
            "text/plain": [
              "<Figure size 640x480 with 1 Axes>"
            ]
          },
          "metadata": {},
          "output_type": "display_data"
        }
      ],
      "source": [
        "##visual analysis \n",
        "col1 = wanted_df['mode'].value_counts()\n",
        "col2 = wanted_df['mode'].value_counts(normalize=True) * 100\n",
        "df2 = pd.concat([col1, col2], axis=1)\n",
        "print(df2)\n",
        "\n",
        "wanted_df['mode'].value_counts().plot(kind='bar')\n",
        "plt.title('Distribution of Mode')\n",
        "plt.xlabel('Mode')\n",
        "plt.ylabel('Count')\n",
        "plt.show()"
      ]
    },
    {
      "cell_type": "markdown",
      "metadata": {},
      "source": [
        "### danceability_%: Percentage indicating how suitable the song is for dancing"
      ]
    },
    {
      "cell_type": "code",
      "execution_count": null,
      "metadata": {
        "colab": {
          "base_uri": "https://localhost:8080/",
          "height": 586
        },
        "id": "4z5a1vBdCwhs",
        "outputId": "fa8d03fe-debc-4a70-8761-0eb3807f16ce"
      },
      "outputs": [
        {
          "data": {
            "text/plain": [
              "count   636.000\n",
              "mean     69.355\n",
              "std      13.766\n",
              "min      25.000\n",
              "25%      60.000\n",
              "50%      71.000\n",
              "75%      80.000\n",
              "max      96.000\n",
              "Name: danceability_%, dtype: float64"
            ]
          },
          "execution_count": 43,
          "metadata": {},
          "output_type": "execute_result"
        },
        {
          "data": {
            "image/png": "[encoded data removed]",
            "text/plain": [
              "<Figure size 640x480 with 1 Axes>"
            ]
          },
          "metadata": {},
          "output_type": "display_data"
        }
      ],
      "source": [
        "# Graphical representation\n",
        "wanted_df['danceability_%'].plot(kind='hist')\n",
        "\n",
        "# numerical description with stats\n",
        "wanted_df['danceability_%'].describe()"
      ]
    },
    {
      "cell_type": "markdown",
      "metadata": {},
      "source": [
        "### valence_%: Positivity of the song's musical content"
      ]
    },
    {
      "cell_type": "code",
      "execution_count": null,
      "metadata": {
        "colab": {
          "base_uri": "https://localhost:8080/",
          "height": 586
        },
        "id": "9LmCiWOIDVah",
        "outputId": "bc40a6f0-6884-491e-c716-4dc9c18d1e2d"
      },
      "outputs": [
        {
          "data": {
            "text/plain": [
              "count    953.000000\n",
              "mean      51.431270\n",
              "std       23.480632\n",
              "min        4.000000\n",
              "25%       32.000000\n",
              "50%       51.000000\n",
              "75%       70.000000\n",
              "max       97.000000\n",
              "Name: valence_%, dtype: float64"
            ]
          },
          "execution_count": 14,
          "metadata": {},
          "output_type": "execute_result"
        },
        {
          "data": {
            "image/png": "[encoded data removed]",
            "text/plain": [
              "<Figure size 640x480 with 1 Axes>"
            ]
          },
          "metadata": {},
          "output_type": "display_data"
        }
      ],
      "source": [
        "# Graphical representation\n",
        "wanted_df['valence_%'].plot(kind='hist')\n",
        "\n",
        "# numerical description with stats\n",
        "wanted_df['valence_%'].describe()"
      ]
    },
    {
      "cell_type": "markdown",
      "metadata": {},
      "source": [
        "### energy_%: Perceived energy level of the song"
      ]
    },
    {
      "cell_type": "code",
      "execution_count": null,
      "metadata": {
        "colab": {
          "base_uri": "https://localhost:8080/",
          "height": 586
        },
        "id": "uSJG49i7DWaD",
        "outputId": "01b8f8c3-8565-477a-bf4a-a4509977973e"
      },
      "outputs": [
        {
          "data": {
            "text/plain": [
              "count    953.000000\n",
              "mean      64.279119\n",
              "std       16.550526\n",
              "min        9.000000\n",
              "25%       53.000000\n",
              "50%       66.000000\n",
              "75%       77.000000\n",
              "max       97.000000\n",
              "Name: energy_%, dtype: float64"
            ]
          },
          "execution_count": 15,
          "metadata": {},
          "output_type": "execute_result"
        },
        {
          "data": {
            "image/png": "[encoded data removed]",
            "text/plain": [
              "<Figure size 640x480 with 1 Axes>"
            ]
          },
          "metadata": {},
          "output_type": "display_data"
        }
      ],
      "source": [
        "# Graphical representation\n",
        "wanted_df['energy_%'].plot(kind='hist')\n",
        "\n",
        "# numerical description with stats\n",
        "wanted_df['energy_%'].describe()"
      ]
    },
    {
      "cell_type": "markdown",
      "metadata": {},
      "source": [
        "### acousticness_%: Amount of acoustic sound in the song  "
      ]
    },
    {
      "cell_type": "code",
      "execution_count": null,
      "metadata": {
        "colab": {
          "base_uri": "https://localhost:8080/",
          "height": 586
        },
        "id": "-VVYUSO1DXDb",
        "outputId": "ab624863-b3af-4e15-beea-93537b3edadd"
      },
      "outputs": [
        {
          "data": {
            "text/plain": [
              "count    953.000000\n",
              "mean      27.057712\n",
              "std       25.996077\n",
              "min        0.000000\n",
              "25%        6.000000\n",
              "50%       18.000000\n",
              "75%       43.000000\n",
              "max       97.000000\n",
              "Name: acousticness_%, dtype: float64"
            ]
          },
          "execution_count": 16,
          "metadata": {},
          "output_type": "execute_result"
        },
        {
          "data": {
            "image/png": "[encoded data removed]",
            "text/plain": [
              "<Figure size 640x480 with 1 Axes>"
            ]
          },
          "metadata": {},
          "output_type": "display_data"
        }
      ],
      "source": [
        "# Graphical representation\n",
        "wanted_df['acousticness_%'].plot(kind='hist')\n",
        "\n",
        "# numerical description with stats\n",
        "wanted_df['acousticness_%'].describe()"
      ]
    },
    {
      "cell_type": "code",
      "execution_count": null,
      "metadata": {
        "id": "dsED3ZCLvXEz"
      },
      "outputs": [],
      "source": [
        "wanted_df['Acoustic'] = wanted_df['acousticness_%'].apply(\n",
        "    lambda x: 1 if x < 44 else 0)"
      ]
    },
    {
      "cell_type": "code",
      "execution_count": null,
      "metadata": {
        "colab": {
          "base_uri": "https://localhost:8080/",
          "height": 541
        },
        "id": "QAtLNyPdwdL7",
        "outputId": "68ac3493-8007-47f7-8c69-a2847a53e845"
      },
      "outputs": [
        {
          "name": "stdout",
          "output_type": "stream",
          "text": [
            "          count  proportion\n",
            "Acoustic                   \n",
            "1           501   78.773585\n",
            "0           135   21.226415\n"
          ]
        },
        {
          "data": {
            "image/png": "[encoded data removed]",
            "text/plain": [
              "<Figure size 640x480 with 1 Axes>"
            ]
          },
          "metadata": {},
          "output_type": "display_data"
        }
      ],
      "source": [
        "col1 = wanted_df['Acoustic'].value_counts()\n",
        "col2 = wanted_df['Acoustic'].value_counts(normalize=True) * 100\n",
        "df2 = pd.concat([col1, col2], axis=1)\n",
        "print(df2)\n",
        "\n",
        "#visual analysis\n",
        "wanted_df['Acoustic'].value_counts().plot(kind='bar')\n",
        "plt.title('Distribution of Acoustic')\n",
        "plt.xlabel('Mode')\n",
        "plt.ylabel('Count')\n",
        "plt.show()"
      ]
    },
    {
      "cell_type": "code",
      "execution_count": null,
      "metadata": {
        "colab": {
          "base_uri": "https://localhost:8080/",
          "height": 586
        },
        "id": "2CDeAzZ8DXzo",
        "outputId": "d8af42ad-e01c-4fdb-fc93-d92ce2cc3361"
      },
      "outputs": [
        {
          "data": {
            "text/plain": [
              "array([ 0, 63, 17, 19,  1, 18,  3,  9,  4, 51, 10, 90, 47,  2, 13, 24, 23,\n",
              "        6, 20,  5, 30, 14, 83, 33])"
            ]
          },
          "execution_count": 71,
          "metadata": {},
          "output_type": "execute_result"
        },
        {
          "data": {
            "image/png": "[encoded data removed]",
            "text/plain": [
              "<Figure size 640x480 with 1 Axes>"
            ]
          },
          "metadata": {},
          "output_type": "display_data"
        }
      ],
      "source": [
        "# Graphical representation\n",
        "wanted_df['instrumentalness_%'].plot(kind='hist')\n",
        "\n",
        "# numerical description with stats\n",
        "wanted_df['instrumentalness_%'].describe()\n",
        "\n",
        "wanted_df['instrumentalness_%'].unique()"
      ]
    },
    {
      "cell_type": "markdown",
      "metadata": {},
      "source": [
        "### instrumentalness_%"
      ]
    },
    {
      "cell_type": "code",
      "execution_count": null,
      "metadata": {
        "id": "ZmBi0Xtqvgre"
      },
      "outputs": [],
      "source": [
        "wanted_df['Intruments'] = wanted_df['instrumentalness_%'].apply(\n",
        "    lambda x: 0 if x == 0 else 1)"
      ]
    },
    {
      "cell_type": "code",
      "execution_count": null,
      "metadata": {
        "colab": {
          "base_uri": "https://localhost:8080/",
          "height": 541
        },
        "id": "XrnJ3g72wj5B",
        "outputId": "9d31bead-2d76-4e87-e03c-3b4eef16201e"
      },
      "outputs": [
        {
          "name": "stdout",
          "output_type": "stream",
          "text": [
            "            count  proportion\n",
            "Intruments                   \n",
            "0             586   92.138365\n",
            "1              50    7.861635\n"
          ]
        },
        {
          "data": {
            "image/png": "[encoded data removed]",
            "text/plain": [
              "<Figure size 640x480 with 1 Axes>"
            ]
          },
          "metadata": {},
          "output_type": "display_data"
        }
      ],
      "source": [
        "col1 = wanted_df['Intruments'].value_counts()\n",
        "col2 = wanted_df['Intruments'].value_counts(normalize=True) * 100\n",
        "df2 = pd.concat([col1, col2], axis=1)\n",
        "print(df2)\n",
        "\n",
        "#visual analysis\n",
        "wanted_df['Intruments'].value_counts().plot(kind='bar')\n",
        "plt.title('Distribution of Intruments')\n",
        "plt.xlabel('Mode')\n",
        "plt.ylabel('Count')\n",
        "plt.show()"
      ]
    },
    {
      "cell_type": "markdown",
      "metadata": {},
      "source": [
        "### liveness_%"
      ]
    },
    {
      "cell_type": "code",
      "execution_count": null,
      "metadata": {
        "colab": {
          "base_uri": "https://localhost:8080/",
          "height": 586
        },
        "id": "ROnB8b4HDYgX",
        "outputId": "c5783e51-13c1-400f-8aac-42fc0356c96b"
      },
      "outputs": [
        {
          "data": {
            "text/plain": [
              "count    953.000000\n",
              "mean      18.213012\n",
              "std       13.711223\n",
              "min        3.000000\n",
              "25%       10.000000\n",
              "50%       12.000000\n",
              "75%       24.000000\n",
              "max       97.000000\n",
              "Name: liveness_%, dtype: float64"
            ]
          },
          "execution_count": 18,
          "metadata": {},
          "output_type": "execute_result"
        },
        {
          "data": {
            "image/png": "[encoded data removed]",
            "text/plain": [
              "<Figure size 640x480 with 1 Axes>"
            ]
          },
          "metadata": {},
          "output_type": "display_data"
        }
      ],
      "source": [
        "# Graphical representation\n",
        "wanted_df['liveness_%'].plot(kind='hist', bins = 5)\n",
        "\n",
        "# numerical description with stats\n",
        "wanted_df['liveness_%'].describe()"
      ]
    },
    {
      "cell_type": "code",
      "execution_count": null,
      "metadata": {
        "id": "XUBzbUecvz7l"
      },
      "outputs": [],
      "source": [
        "wanted_df['Liveliness'] = wanted_df['liveness_%'].apply(\n",
        "    lambda x: 1 if x < 25 else 0)"
      ]
    },
    {
      "cell_type": "code",
      "execution_count": null,
      "metadata": {
        "colab": {
          "base_uri": "https://localhost:8080/",
          "height": 541
        },
        "id": "79vLYXpIxA_k",
        "outputId": "27711fb8-d940-40b6-dbf6-537d581bd5fa"
      },
      "outputs": [
        {
          "name": "stdout",
          "output_type": "stream",
          "text": [
            "            count  proportion\n",
            "Liveliness                   \n",
            "1             473   74.371069\n",
            "0             163   25.628931\n"
          ]
        },
        {
          "data": {
            "image/png": "[encoded data removed]",
            "text/plain": [
              "<Figure size 640x480 with 1 Axes>"
            ]
          },
          "metadata": {},
          "output_type": "display_data"
        }
      ],
      "source": [
        "col1 = wanted_df['Liveliness'].value_counts()\n",
        "col2 = wanted_df['Liveliness'].value_counts(normalize=True) * 100\n",
        "df2 = pd.concat([col1, col2], axis=1)\n",
        "print(df2)\n",
        "\n",
        "#visual analysis\n",
        "wanted_df['Liveliness'].value_counts().plot(kind='bar')\n",
        "plt.title('Distribution of Liveliness')\n",
        "plt.xlabel('Mode')\n",
        "plt.ylabel('Count')\n",
        "plt.show()"
      ]
    },
    {
      "cell_type": "markdown",
      "metadata": {},
      "source": [
        "### speechiness_%"
      ]
    },
    {
      "cell_type": "code",
      "execution_count": null,
      "metadata": {
        "colab": {
          "base_uri": "https://localhost:8080/",
          "height": 586
        },
        "id": "uWKEOP-qDZDD",
        "outputId": "d2bf97ad-a2fd-4075-dcfe-15498a35fc7a"
      },
      "outputs": [
        {
          "data": {
            "text/plain": [
              "count    636.000000\n",
              "mean      11.415094\n",
              "std       10.741370\n",
              "min        2.000000\n",
              "25%        4.000000\n",
              "50%        6.500000\n",
              "75%       14.000000\n",
              "max       64.000000\n",
              "Name: speechiness_%, dtype: float64"
            ]
          },
          "execution_count": 37,
          "metadata": {},
          "output_type": "execute_result"
        },
        {
          "data": {
            "image/png": "[encoded data removed]",
            "text/plain": [
              "<Figure size 640x480 with 1 Axes>"
            ]
          },
          "metadata": {},
          "output_type": "display_data"
        }
      ],
      "source": [
        "# Graphical representation\n",
        "wanted_df['speechiness_%'].plot(kind='hist')\n",
        "\n",
        "# numerical description with stats\n",
        "wanted_df['speechiness_%'].describe()"
      ]
    },
    {
      "cell_type": "code",
      "execution_count": null,
      "metadata": {
        "id": "wofXmIepwTD1"
      },
      "outputs": [],
      "source": [
        "wanted_df['Speechiness'] = wanted_df['speechiness_%'].apply(\n",
        "    lambda x: 1 if x < 25 else 0)"
      ]
    },
    {
      "cell_type": "code",
      "execution_count": null,
      "metadata": {
        "colab": {
          "base_uri": "https://localhost:8080/",
          "height": 541
        },
        "id": "VO2YcqNVxJiY",
        "outputId": "ea5ba460-3f6b-4db5-d95b-1905ac278478"
      },
      "outputs": [
        {
          "name": "stdout",
          "output_type": "stream",
          "text": [
            "             count  proportion\n",
            "Speechiness                   \n",
            "1              544   85.534591\n",
            "0               92   14.465409\n"
          ]
        },
        {
          "data": {
            "image/png": "[encoded data removed]",
            "text/plain": [
              "<Figure size 640x480 with 1 Axes>"
            ]
          },
          "metadata": {},
          "output_type": "display_data"
        }
      ],
      "source": [
        "col1 = wanted_df['Speechiness'].value_counts()\n",
        "col2 = wanted_df['Speechiness'].value_counts(normalize=True) * 100\n",
        "df2 = pd.concat([col1, col2], axis=1)\n",
        "print(df2)\n",
        "\n",
        "#visual analysis\n",
        "wanted_df['Speechiness'].value_counts().plot(kind='bar')\n",
        "plt.title('Distribution of Speechiness')\n",
        "plt.xlabel('Mode')\n",
        "plt.ylabel('Count')\n",
        "plt.show()"
      ]
    },
    {
      "cell_type": "markdown",
      "metadata": {},
      "source": [
        "## STEP 2: Two Variable Exploration: Exploring individual variable's correlation/impact on streams"
      ]
    },
    {
      "cell_type": "markdown",
      "metadata": {},
      "source": [
        "#### danceability_% vs streams\n"
      ]
    },
    {
      "cell_type": "code",
      "execution_count": null,
      "metadata": {},
      "outputs": [
        {
          "name": "stdout",
          "output_type": "stream",
          "text": [
            "0      80\n",
            "1      71\n",
            "2      51\n",
            "4      65\n",
            "5      92\n",
            "       ..\n",
            "948    60\n",
            "949    42\n",
            "950    80\n",
            "951    82\n",
            "952    61\n",
            "Name: danceability_%, Length: 636, dtype: int64\n",
            "0      89\n",
            "1      61\n",
            "2      32\n",
            "4      23\n",
            "5      66\n",
            "       ..\n",
            "948    24\n",
            "949     7\n",
            "950    81\n",
            "951    67\n",
            "952    32\n",
            "Name: valence_%, Length: 636, dtype: int64\n",
            "0      83\n",
            "1      74\n",
            "2      53\n",
            "4      80\n",
            "5      58\n",
            "       ..\n",
            "948    39\n",
            "949    24\n",
            "950    67\n",
            "951    77\n",
            "952    67\n",
            "Name: energy_%, Length: 636, dtype: int64\n"
          ]
        }
      ],
      "source": [
        "# these varaibles (df[\"danceability_%\"], df[\"valence_%\"], and df[\"energy_%\"] contain some weird characters,\n",
        "#BPM110KeyAModeMajorDanceability53Valence75Energy69Acousticness7Instrumentalness0Liveness17Speechiness3\n",
        "#therefore we define a function called clean_streams to clean the data in the columns before using them\n",
        "def clean_data(value):\n",
        "    # Convert value to string to ensure the split method works\n",
        "    value = str(value)  # Ensure all inputs are treated as strings\n",
        "    parts = value.split('BPM')\n",
        "    if parts:\n",
        "        return parts[0]  # Return the numeric part before 'BPM'\n",
        "    return '0'  # Return a default value if the string doesn't contain 'BPM'\n",
        "\n",
        "\n",
        "cleaning_data = [\"danceability_%\", \"valence_%\", \"energy_%\"]\n",
        "\n",
        "for x in cleaning_data:\n",
        "    wanted_df[x] = wanted_df[x].replace('', '0') #handle missing or empty string values within the column x of the DataFrame \n",
        "    wanted_df[x] = wanted_df[x].apply(clean_data) #apply the function to each element in the series\n",
        "    wanted_df[x] = wanted_df[x].astype('int64') #convert to int64 after data is cleaned\n",
        "    print(wanted_df[x])"
      ]
    },
    {
      "cell_type": "code",
      "execution_count": null,
      "metadata": {},
      "outputs": [
        {
          "name": "stdout",
          "output_type": "stream",
          "text": [
            "Correlation coefficient: 0.03\n"
          ]
        },
        {
          "data": {
            "text/plain": [
              "<Axes: xlabel='danceability_%', ylabel='streams'>"
            ]
          },
          "execution_count": 72,
          "metadata": {},
          "output_type": "execute_result"
        },
        {
          "data": {
            "image/png": "[encoded data removed]",
            "text/plain": [
              "<Figure size 640x480 with 1 Axes>"
            ]
          },
          "metadata": {},
          "output_type": "display_data"
        }
      ],
      "source": [
        "correlation = wanted_df['danceability_%'].corr(df['streams']).round(2)\n",
        "print(\"Correlation coefficient:\", correlation)\n",
        "\n",
        "# Graphical representation of correlation\n",
        "df.plot(kind='scatter', y='streams', x='danceability_%')"
      ]
    },
    {
      "cell_type": "markdown",
      "metadata": {},
      "source": [
        "#### valence_% vs streams\n"
      ]
    },
    {
      "cell_type": "code",
      "execution_count": null,
      "metadata": {},
      "outputs": [
        {
          "name": "stdout",
          "output_type": "stream",
          "text": [
            "Correlation coefficient: -0.02\n"
          ]
        },
        {
          "data": {
            "text/plain": [
              "<Axes: xlabel='valence_%', ylabel='streams'>"
            ]
          },
          "execution_count": 73,
          "metadata": {},
          "output_type": "execute_result"
        },
        {
          "data": {
            "image/png": "[encoded data removed]",
            "text/plain": [
              "<Figure size 640x480 with 1 Axes>"
            ]
          },
          "metadata": {},
          "output_type": "display_data"
        }
      ],
      "source": [
        "correlation = wanted_df['valence_%'].corr(df['streams']).round(2)\n",
        "print(\"Correlation coefficient:\", correlation)\n",
        "\n",
        "# Graphical representation of correlation\n",
        "df.plot(kind='scatter', y='streams', x='valence_%')"
      ]
    },
    {
      "cell_type": "markdown",
      "metadata": {},
      "source": [
        "## Moderately weak assocaition between valence_% and streams, suggesting that valuence_% may not explain much of a varation of the popularity of a song."
      ]
    },
    {
      "cell_type": "markdown",
      "metadata": {},
      "source": [
        "#### energy_% vs streams\n"
      ]
    },
    {
      "cell_type": "code",
      "execution_count": null,
      "metadata": {},
      "outputs": [
        {
          "name": "stdout",
          "output_type": "stream",
          "text": [
            "Correlation coefficient: -0.01\n"
          ]
        },
        {
          "data": {
            "text/plain": [
              "<Axes: xlabel='energy_%', ylabel='streams'>"
            ]
          },
          "execution_count": 33,
          "metadata": {},
          "output_type": "execute_result"
        },
        {
          "data": {
            "image/png": "[encoded data removed]",
            "text/plain": [
              "<Figure size 640x480 with 1 Axes>"
            ]
          },
          "metadata": {},
          "output_type": "display_data"
        }
      ],
      "source": [
        "correlation = wanted_df['energy_%'].corr(df['streams']).round(2)\n",
        "print(\"Correlation coefficient:\", correlation)\n",
        "\n",
        "# Graphical representation of correlation\n",
        "df.plot(kind='scatter', y='streams', x='energy_%')"
      ]
    },
    {
      "cell_type": "code",
      "execution_count": null,
      "metadata": {},
      "outputs": [
        {
          "name": "stdout",
          "output_type": "stream",
          "text": [
            "<class 'pandas.core.frame.DataFrame'>\n",
            "Index: 817 entries, 0 to 952\n",
            "Data columns (total 24 columns):\n",
            " #   Column                Non-Null Count  Dtype \n",
            "---  ------                --------------  ----- \n",
            " 0   track_name            817 non-null    object\n",
            " 1   artist(s)_name        817 non-null    object\n",
            " 2   artist_count          817 non-null    int64 \n",
            " 3   released_year         817 non-null    int64 \n",
            " 4   released_month        817 non-null    int64 \n",
            " 5   released_day          817 non-null    int64 \n",
            " 6   in_spotify_playlists  817 non-null    int64 \n",
            " 7   in_spotify_charts     817 non-null    int64 \n",
            " 8   streams               817 non-null    object\n",
            " 9   in_apple_playlists    817 non-null    int64 \n",
            " 10  in_apple_charts       817 non-null    int64 \n",
            " 11  in_deezer_playlists   817 non-null    object\n",
            " 12  in_deezer_charts      817 non-null    int64 \n",
            " 13  in_shazam_charts      817 non-null    object\n",
            " 14  bpm                   817 non-null    int64 \n",
            " 15  key                   817 non-null    object\n",
            " 16  mode                  817 non-null    object\n",
            " 17  danceability_%        817 non-null    int64 \n",
            " 18  valence_%             817 non-null    int64 \n",
            " 19  energy_%              817 non-null    int64 \n",
            " 20  acousticness_%        817 non-null    int64 \n",
            " 21  instrumentalness_%    817 non-null    int64 \n",
            " 22  liveness_%            817 non-null    int64 \n",
            " 23  speechiness_%         817 non-null    int64 \n",
            "dtypes: int64(17), object(7)\n",
            "memory usage: 159.6+ KB\n"
          ]
        }
      ],
      "source": [
        "df.info()"
      ]
    },
    {
      "cell_type": "code",
      "execution_count": null,
      "metadata": {},
      "outputs": [],
      "source": [
        "import seaborn as sns\n"
      ]
    },
    {
      "cell_type": "code",
      "execution_count": null,
      "metadata": {},
      "outputs": [
        {
          "ename": "NameError",
          "evalue": "name 'wanted_df' is not defined",
          "output_type": "error",
          "traceback": [
            "\u001b[0;31m---------------------------------------------------------------------------\u001b[0m",
            "\u001b[0;31mNameError\u001b[0m                                 Traceback (most recent call last)",
            "\u001b[1;32m/Users/jillianwu/Desktop/ISOM352/Python M3 Code/Final_project_newest.ipynb Cell 106\u001b[0m line \u001b[0;36m3\n\u001b[1;32m      <a href='vscode-notebook-cell:/Users/jillianwu/Desktop/ISOM352/Python%20M3%20Code/Final_project_newest.ipynb#Y210sZmlsZQ%3D%3D?line=0'>1</a>\u001b[0m \u001b[39m# acoustic vs streams\u001b[39;00m\n\u001b[1;32m      <a href='vscode-notebook-cell:/Users/jillianwu/Desktop/ISOM352/Python%20M3%20Code/Final_project_newest.ipynb#Y210sZmlsZQ%3D%3D?line=1'>2</a>\u001b[0m \u001b[39m#graphically\u001b[39;00m\n\u001b[0;32m----> <a href='vscode-notebook-cell:/Users/jillianwu/Desktop/ISOM352/Python%20M3%20Code/Final_project_newest.ipynb#Y210sZmlsZQ%3D%3D?line=2'>3</a>\u001b[0m sns\u001b[39m.\u001b[39mboxplot(x \u001b[39m=\u001b[39m \u001b[39m\"\u001b[39m\u001b[39mAcoustic\u001b[39m\u001b[39m\"\u001b[39m, y\u001b[39m=\u001b[39m\u001b[39m\"\u001b[39m\u001b[39mstreams\u001b[39m\u001b[39m\"\u001b[39m, data\u001b[39m=\u001b[39mwanted_df)\n\u001b[1;32m      <a href='vscode-notebook-cell:/Users/jillianwu/Desktop/ISOM352/Python%20M3%20Code/Final_project_newest.ipynb#Y210sZmlsZQ%3D%3D?line=4'>5</a>\u001b[0m \u001b[39m# numerically\u001b[39;00m\n\u001b[1;32m      <a href='vscode-notebook-cell:/Users/jillianwu/Desktop/ISOM352/Python%20M3%20Code/Final_project_newest.ipynb#Y210sZmlsZQ%3D%3D?line=5'>6</a>\u001b[0m df\u001b[39m.\u001b[39mgroupby(\u001b[39m\"\u001b[39m\u001b[39mAcoustic\u001b[39m\u001b[39m\"\u001b[39m)[\u001b[39m\"\u001b[39m\u001b[39mstreams\u001b[39m\u001b[39m\"\u001b[39m]\u001b[39m.\u001b[39mdescribe()\n",
            "\u001b[0;31mNameError\u001b[0m: name 'wanted_df' is not defined"
          ]
        }
      ],
      "source": [
        "# acoustic vs streams\n",
        "#graphically\n",
        "sns.boxplot(x = \"Acoustic\", y=\"streams\", data=wanted_df)\n",
        "\n",
        "# numerically\n",
        "df.groupby(\"Acoustic\")[\"streams\"].describe()\n",
        "\n",
        "# # liveliness vs streams\n",
        "# #graphically\n",
        "# sns.boxplot(x=\"liveliness\", y=\"streams\", data=wanted_df)\n",
        "\n",
        "# # numerically\n",
        "# df.groupby(\"liveliness\")[\"streams\"].describe()\n",
        "\n",
        "# # speechiness vs streams\n",
        "# #graphically\n",
        "# sns.boxplot(x=\"speechiness\", y=\"streams\", data=wanted_df)\n",
        "\n",
        "# # numerically\n",
        "# df.groupby(\"speechiness\")[\"streams\"].describe()"
      ]
    },
    {
      "cell_type": "code",
      "execution_count": null,
      "metadata": {},
      "outputs": [
        {
          "ename": "NameError",
          "evalue": "name 'sns' is not defined",
          "output_type": "error",
          "traceback": [
            "\u001b[0;31m---------------------------------------------------------------------------\u001b[0m",
            "\u001b[0;31mNameError\u001b[0m                                 Traceback (most recent call last)",
            "\u001b[1;32m/Users/jillianwu/Desktop/ISOM352/Python M3 Code/Final_project_newest.ipynb Cell 105\u001b[0m line \u001b[0;36m3\n\u001b[1;32m      <a href='vscode-notebook-cell:/Users/jillianwu/Desktop/ISOM352/Python%20M3%20Code/Final_project_newest.ipynb#Y211sZmlsZQ%3D%3D?line=0'>1</a>\u001b[0m \u001b[39m### Speed (BPM) vs streams\u001b[39;00m\n\u001b[1;32m      <a href='vscode-notebook-cell:/Users/jillianwu/Desktop/ISOM352/Python%20M3%20Code/Final_project_newest.ipynb#Y211sZmlsZQ%3D%3D?line=1'>2</a>\u001b[0m \u001b[39m#graphically\u001b[39;00m\n\u001b[0;32m----> <a href='vscode-notebook-cell:/Users/jillianwu/Desktop/ISOM352/Python%20M3%20Code/Final_project_newest.ipynb#Y211sZmlsZQ%3D%3D?line=2'>3</a>\u001b[0m sns\u001b[39m.\u001b[39mboxplot(x\u001b[39m=\u001b[39m\u001b[39m'\u001b[39m\u001b[39mSpeed\u001b[39m\u001b[39m'\u001b[39m, y\u001b[39m=\u001b[39m\u001b[39m'\u001b[39m\u001b[39mstreams\u001b[39m\u001b[39m'\u001b[39m, data\u001b[39m=\u001b[39mdf)\n\u001b[1;32m      <a href='vscode-notebook-cell:/Users/jillianwu/Desktop/ISOM352/Python%20M3%20Code/Final_project_newest.ipynb#Y211sZmlsZQ%3D%3D?line=4'>5</a>\u001b[0m \u001b[39m# numerically\u001b[39;00m\n\u001b[1;32m      <a href='vscode-notebook-cell:/Users/jillianwu/Desktop/ISOM352/Python%20M3%20Code/Final_project_newest.ipynb#Y211sZmlsZQ%3D%3D?line=5'>6</a>\u001b[0m df\u001b[39m.\u001b[39mgroupby(\u001b[39m'\u001b[39m\u001b[39mSpeed\u001b[39m\u001b[39m'\u001b[39m)[\u001b[39m'\u001b[39m\u001b[39mstreams\u001b[39m\u001b[39m'\u001b[39m]\u001b[39m.\u001b[39mdescribe()\n",
            "\u001b[0;31mNameError\u001b[0m: name 'sns' is not defined"
          ]
        }
      ],
      "source": [
        "### Speed (BPM) vs streams\n",
        "#graphically\n",
        "sns.boxplot(x='Speed', y='streams', data=df)\n",
        "\n",
        "# numerically\n",
        "df.groupby('Speed')['streams'].describe()\n",
        "\n",
        "### Emotion (Key) vs streams\n",
        "#graphically\n",
        "sns.boxplot(x='Emotion', y='streams', data=df)\n",
        "\n",
        "# numerically\n",
        "df.groupby('Emotion')['streams'].describe()\n",
        "\n",
        "### Mode vs streams\n",
        "#graphically\n",
        "sns.boxplot(x='mode', y='streams', data=df)\n",
        "\n",
        "# numerically\n",
        "df.groupby('mode')['streams'].describe()"
      ]
    },
    {
      "cell_type": "code",
      "execution_count": null,
      "metadata": {},
      "outputs": [],
      "source": []
    },
    {
      "cell_type": "markdown",
      "metadata": {},
      "source": [
        "## Step 3:  multiple regression model Building\n"
      ]
    },
    {
      "cell_type": "markdown",
      "metadata": {},
      "source": [
        "## Step 4: Make prediction and comment on the quality of the prediction. \n"
      ]
    }
  ],
  "metadata": {
    "colab": {
      "provenance": []
    },
    "kernelspec": {
      "display_name": "Python 3",
      "language": "python",
      "name": "python3"
    },
    "language_info": {
      "codemirror_mode": {
        "name": "ipython",
        "version": 3
      },
      "file_extension": ".py",
      "mimetype": "text/x-python",
      "name": "python",
      "nbconvert_exporter": "python",
      "pygments_lexer": "ipython3",
      "version": "3.12.2"
    }
  },
  "nbformat": 4,
  "nbformat_minor": 0
}
